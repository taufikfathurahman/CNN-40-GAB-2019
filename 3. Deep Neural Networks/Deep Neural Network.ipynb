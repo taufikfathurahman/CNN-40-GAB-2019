{
 "cells": [
  {
   "cell_type": "markdown",
   "metadata": {},
   "source": [
    "\n",
    "# Deep Neural Network\n",
    "\n",
    "    * understand the basic Image Classification pipeline and the data-driven approach (train/predict stages)\n",
    "    * implement various modern activation functions\n",
    "    * implement more compact and efficient Deep Neural Network API\n",
    "    * investigate the power of deep network\n",
    "    * implement and apply Batch Normalization"
   ]
  },
  {
   "cell_type": "markdown",
   "metadata": {},
   "source": [
    "---\n",
    "# [Part 0] Import libraries"
   ]
  },
  {
   "cell_type": "code",
   "execution_count": 1,
   "metadata": {},
   "outputs": [],
   "source": [
    "import numpy as np\n",
    "import matplotlib.pyplot as plt\n",
    "%matplotlib inline\n",
    "\n",
    "np.set_printoptions(precision=7)"
   ]
  },
  {
   "cell_type": "markdown",
   "metadata": {},
   "source": [
    "---\n",
    "# [Part 1] More Compact API\n",
    "In the previous homework you implemented a fully-connected two-layer neural network on CIFAR-10. The implementation was simple but not very modular.\n",
    "\n",
    "<p align=\"center\"><img src=\"https://stanford.edu/~shervine/images/neural-network.png\"></p>\n",
    "\n",
    "In this exercise we will implement a **forward** and a **backward** function for fully-connected networks using a **more compact modular** approach. \n",
    "\n",
    "The **forward** function will receive inputs, weights, and other parameters and will return both an output and a **cache** object storing data needed for the backward pass, like this:\n",
    "\n",
    "```python\n",
    "def layer_forward(x, w):\n",
    "  \"\"\" Receive inputs x and weights w \"\"\"\n",
    "  # Do some computations ...\n",
    "  z = # ... some intermediate value\n",
    "  # Do some more computations ...\n",
    "  out = # the output\n",
    "   \n",
    "  cache = (x, w, z, out) # Values we need to compute gradients\n",
    "   \n",
    "  return out, cache\n",
    "```"
   ]
  },
  {
   "cell_type": "markdown",
   "metadata": {},
   "source": [
    "\n",
    "---\n",
    "The **backward** pass will receive upstream derivatives and the **cache** object, and will return **gradients** with respect to the inputs and weights, like this:\n",
    "\n",
    "```python\n",
    "def layer_backward(dout, cache):\n",
    "  \"\"\"\n",
    "  Receive dout (derivative of loss with respect to outputs) and cache,\n",
    "  and compute derivative with respect to inputs.\n",
    "  \"\"\"\n",
    "  # Unpack cache values\n",
    "  x, w, z, out = cache\n",
    "  \n",
    "  # Use values in cache to compute derivatives\n",
    "  dx = # Derivative of loss with respect to x\n",
    "  dw = # Derivative of loss with respect to w\n",
    "  \n",
    "  return dx, dw\n",
    "```"
   ]
  },
  {
   "cell_type": "markdown",
   "metadata": {},
   "source": [
    "---\n",
    "## 1 - Basic Layer Functions\n",
    "\n",
    "\n",
    "After implementing a bunch of layers this way, we will be able to easily combine them to build classifiers with different architectures.\n",
    "\n",
    "For this part, we've laready provide you the implementation of some basic layers"
   ]
  },
  {
   "cell_type": "markdown",
   "metadata": {},
   "source": [
    "---\n",
    "### a. Affine API"
   ]
  },
  {
   "cell_type": "code",
   "execution_count": 2,
   "metadata": {},
   "outputs": [],
   "source": [
    "def affine_forward(x, W, b ):   \n",
    "    \"\"\"\n",
    "    Computes the forward pass for an affine (fully-connected) layer.\n",
    "\n",
    "    The input x has shape (N, d_1, ..., d_k) and contains a minibatch of N\n",
    "    examples, where each example x[i] has shape (d_1, ..., d_k). \n",
    "\n",
    "    Inputs:\n",
    "    - x    : A numpy array containing input data, of shape (N, d_1, ..., d_k)\n",
    "    - W    : A numpy array of weights, of shape (D, M)\n",
    "    - b    : A numpy array of biases, of shape (M,)\n",
    "    \n",
    "    Returns a tuple of:\n",
    "    - v    : output, of shape (N, M)\n",
    "    - cache: (x, w, b)\n",
    "    \"\"\"\n",
    "\n",
    "    v = np.dot(x, W) + b    \n",
    "    cache = (x, W, b)\n",
    "    \n",
    "    return v, cache"
   ]
  },
  {
   "cell_type": "code",
   "execution_count": 3,
   "metadata": {},
   "outputs": [],
   "source": [
    "def affine_backward(dout, cache):\n",
    "    \"\"\"\n",
    "    Computes the backward pass for an affine layer.\n",
    "\n",
    "    Inputs:\n",
    "    - dout : Upstream derivative, of shape (N, M)\n",
    "    - cache: Tuple of:\n",
    "      - x  : Input data, of shape (N, d_1, ... d_k)\n",
    "      - W  : Weights, of shape (D, M)\n",
    "      - b  : Biases, of shape (M,)\n",
    "\n",
    "    Returns a tuple of:\n",
    "    - dx   : Gradient with respect to x, of shape (N, d1, ..., d_k)\n",
    "    - dw   : Gradient with respect to w, of shape (D, M)\n",
    "    - db   : Gradient with respect to b, of shape (M,)\n",
    "    \"\"\"\n",
    "    \n",
    "    x, W, b = cache\n",
    "    dW = np.dot(x.T,dout)\n",
    "    db = np.sum(dout, axis=0, keepdims=True)\n",
    "    dx = dout.dot(W.T)\n",
    "    \n",
    "    return dW, db, dx"
   ]
  },
  {
   "cell_type": "markdown",
   "metadata": {},
   "source": [
    "### b. Tanh API\n",
    "\n",
    "<p align=\"center\"><img src=\"https://stanford.edu/~shervine/images/tanh.png\" width=\"200\"></p>"
   ]
  },
  {
   "cell_type": "code",
   "execution_count": 4,
   "metadata": {},
   "outputs": [],
   "source": [
    "def tanh_forward(x):     \n",
    "    \"\"\"\n",
    "    Computes the forward pass for a layer of Hyperbolic tangent (tanh).\n",
    "\n",
    "    Input:\n",
    "    - x    : Inputs, of any shape\n",
    "\n",
    "    Returns a tuple of:\n",
    "    - out  : Output, of the same shape as x\n",
    "    - cache: 1-tanh(x)^2\n",
    "    \"\"\"\n",
    "  \n",
    "    out = np.tanh(x)\n",
    "    cache = 1-out**2\n",
    "    \n",
    "    return out, cache"
   ]
  },
  {
   "cell_type": "code",
   "execution_count": 5,
   "metadata": {},
   "outputs": [],
   "source": [
    "def tanh_backward(dout, cache):  \n",
    "    \"\"\"\n",
    "    Computes the backward pass for a layer of Hyperbolic tangent (tanh).\n",
    "\n",
    "    Input:\n",
    "    - dout : Upstream derivatives, of any shape\n",
    "    - cache: Input x, of same shape as dout\n",
    "\n",
    "    Returns:\n",
    "    - dx   : Gradient with respect to x\n",
    "    \"\"\" \n",
    "  \n",
    "    dx = dout*cache\n",
    "    \n",
    "    return dx"
   ]
  },
  {
   "cell_type": "markdown",
   "metadata": {},
   "source": [
    "### c. ReLU API\n",
    "<p align=\"center\"><img src=\"https://stanford.edu/~shervine/images/relu.png\" width=\"200\"></p>"
   ]
  },
  {
   "cell_type": "code",
   "execution_count": 6,
   "metadata": {},
   "outputs": [],
   "source": [
    "def relu_forward(x):\n",
    "    \"\"\"\n",
    "    Computes the forward pass for a layer of rectified linear units (ReLUs).\n",
    "\n",
    "    Input:\n",
    "    - x    : Inputs, of any shape\n",
    "\n",
    "    Returns a tuple of:\n",
    "    - out  : Output, of the same shape as x\n",
    "    - cache: x\n",
    "    \"\"\"\n",
    "  \n",
    "    out = x * (x > 0).astype(float)\n",
    "    cache = x\n",
    "    \n",
    "    return out, cache"
   ]
  },
  {
   "cell_type": "code",
   "execution_count": 7,
   "metadata": {},
   "outputs": [],
   "source": [
    "def relu_backward(dout, cache):\n",
    "    \"\"\"\n",
    "    Computes the backward pass for a layer of rectified linear units (ReLUs).\n",
    "\n",
    "    Input:\n",
    "    - dout : Upstream derivatives, of any shape\n",
    "    - cache: Input x, of same shape as dout\n",
    "\n",
    "    Returns:\n",
    "    - dx   : Gradient with respect to x\n",
    "    \"\"\"\n",
    "  \n",
    "    dx = dout * (cache >= 0)\n",
    "    \n",
    "    return dx"
   ]
  },
  {
   "cell_type": "markdown",
   "metadata": {},
   "source": [
    "### d. Softmax API"
   ]
  },
  {
   "cell_type": "code",
   "execution_count": 8,
   "metadata": {},
   "outputs": [],
   "source": [
    "def softmax(x):  \n",
    "    \"\"\"\n",
    "    Computes the categorical score for softmax classification.\n",
    "\n",
    "    Inputs:\n",
    "    - x: Input data, of shape (N, C) where x[i, j] is the score for the jth\n",
    "      class for the ith input.\n",
    "\n",
    "    Returns a tuple of:\n",
    "    - score: Normalized log probability score of softmax\n",
    "    \"\"\"\n",
    "  \n",
    "    x -= np.max(x)\n",
    "    x_exp = np.exp(x)\n",
    "    x_sum = np.sum(x_exp, axis = 1, keepdims = True)  \n",
    "    score = x_exp / x_sum\n",
    "    \n",
    "    return score"
   ]
  },
  {
   "cell_type": "code",
   "execution_count": 9,
   "metadata": {},
   "outputs": [],
   "source": [
    "def softmax_loss(score, y):\n",
    "    \"\"\"\n",
    "    Computes the loss and gradient for softmax classification.\n",
    "\n",
    "    Inputs:\n",
    "    - score: Input data, of shape (N, C) where x[i, j] is the softmax score \n",
    "      for the jth class for the ith input.\n",
    "    - y    : Vector of labels, of shape (N,) where y[i] is the label for x[i] and\n",
    "      0 <= y[i] < C\n",
    "\n",
    "    Returns a tuple of:\n",
    "    - loss   : Scalar giving the loss\n",
    "    - dscores: Gradient of the loss with respect to x\n",
    "    \"\"\"\n",
    "    num_examples = score.shape[0]\n",
    "    number_list = range(num_examples)\n",
    "    corect_logprobs = -np.log(score[number_list,y])\n",
    "    loss = np.sum(corect_logprobs)/num_examples\n",
    "\n",
    "    dscores = score\n",
    "    dscores[range(num_examples),y] -= 1\n",
    "    dscores /= num_examples\n",
    "\n",
    "\n",
    "    return loss, dscores"
   ]
  },
  {
   "cell_type": "markdown",
   "metadata": {},
   "source": [
    "---\n",
    "## 2 - Advanced Activation Functions\n",
    "\n",
    "For this part, you need to implement several advanced activation functions that became popular recently"
   ]
  },
  {
   "cell_type": "markdown",
   "metadata": {},
   "source": [
    "---\n",
    "### a. Parametric ReLU (Leaky ReLU)\n",
    "\n",
    "Leaky ReLUs allow a small non-zero gradient to propagate through the network when the unit is not active hence avoiding bottlenecks that can prevent learning in the Neural Network\n",
    "\n",
    "<p align=\"center\"><img src=\"https://stanford.edu/~shervine/images/leaky-relu.png\" width=\"200\"></p>\n",
    "\n",
    "Implement the forward and backward function of parametric Rectified Linear Unit (Leaky ReLU) activation function\n",
    "\n",
    "**Implement Parametric ReLU forward function**\n",
    "\n",
    "\n",
    "$$\n",
    "\\begin{align}\n",
    "f(x, \\alpha) = \n",
    "\\begin{cases}\n",
    "\\alpha x, & \\text{for } x<0\\\\\n",
    "x, & \\text{for } x\\geq0\n",
    "\\end{cases}\n",
    "\\end{align}\n",
    "$$\n",
    "\n",
    "<br>\n",
    "\n",
    "*<i>hint: you can use <b>if-then</b> or <b>np.where(condition, if true, if false)</b></i>\n"
   ]
  },
  {
   "cell_type": "code",
   "execution_count": 10,
   "metadata": {},
   "outputs": [],
   "source": [
    "def prelu_forward(x, alpha):  \n",
    "    \"\"\"\n",
    "    Computes the forward pass for a layer of parametric rectified linear units (PReLUs).\n",
    "\n",
    "    Input:\n",
    "    - x    : Inputs, of any shape\n",
    "    - alpha: leaky parameter\n",
    "\n",
    "    Returns a tuple of:\n",
    "    - out  : Output, of the same shape as x\n",
    "    - cache: x\n",
    "    \"\"\"\n",
    "    \n",
    "    # calculate prelu forward \n",
    "    out = np.where(x < 0, alpha*x, x)\n",
    "\n",
    "    cache = (x, alpha)\n",
    "    \n",
    "    return out, cache"
   ]
  },
  {
   "cell_type": "markdown",
   "metadata": {},
   "source": [
    "Check your implementations"
   ]
  },
  {
   "cell_type": "code",
   "execution_count": 11,
   "metadata": {},
   "outputs": [
    {
     "name": "stdout",
     "output_type": "stream",
     "text": [
      "[-0.02 -0.01  0.    1.    2.    3.  ]\n"
     ]
    }
   ],
   "source": [
    "x     = np.array([-2, -1, 0, 1, 2, 3])\n",
    "dp, _ = prelu_forward(x, alpha = 0.01) \n",
    "\n",
    "print(dp)"
   ]
  },
  {
   "cell_type": "markdown",
   "metadata": {},
   "source": [
    "---\n",
    "**Implement PReLU backward function**\n",
    "$$\n",
    "\\begin{align*}\n",
    "f'(x, \\alpha) = \n",
    "\\begin{cases}\n",
    "\\alpha, & \\text{for } x<0\\\\\n",
    "1, & \\text{for } x\\geq0\n",
    "\\end{cases}\\\\\n",
    "\\\\\n",
    "\\partial out = \\partial out * f'(x)\n",
    "\\end{align*}\n",
    "$$\n",
    "\n",
    "*<i>hint: you can use <b>if-then</b> or <b>np.where(condition, if true, if false)</b></i>"
   ]
  },
  {
   "cell_type": "code",
   "execution_count": 12,
   "metadata": {},
   "outputs": [],
   "source": [
    "def prelu_backward(dout, cache):\n",
    "    \"\"\"\n",
    "    Computes the backward pass for a layer of parametric rectified linear units (PReLUs).\n",
    "\n",
    "    Input:\n",
    "    - dout : Upstream derivatives, of any shape\n",
    "    - cache: Input x, of same shape as dout\n",
    "\n",
    "    Returns:\n",
    "    - dout : Gradient with respect to x\n",
    "    \"\"\"\n",
    "    \n",
    "    \n",
    "    x, alpha = cache\n",
    "    \n",
    "    # calculate local gradient of prelu \n",
    "    dp_prime = np.where(x<0, alpha, 1)\n",
    "    \n",
    "    # calculate the gradient propagation\n",
    "    dout *= dp_prime \n",
    "    \n",
    "    \n",
    "    return dout"
   ]
  },
  {
   "cell_type": "markdown",
   "metadata": {},
   "source": [
    "Check your implementations"
   ]
  },
  {
   "cell_type": "code",
   "execution_count": 13,
   "metadata": {},
   "outputs": [
    {
     "name": "stdout",
     "output_type": "stream",
     "text": [
      "[7.71321e-03 2.07519e-04 6.33648e-01 7.48804e-01 4.98507e-01 2.24797e-01]\n"
     ]
    }
   ],
   "source": [
    "x = np.array([-2, -1, 0, 1, 2, 3])\n",
    "dp, cache = prelu_forward(x, alpha = 0.01) \n",
    "\n",
    "np.random.seed(10)\n",
    "dout = np.random.random((6,)) \n",
    "\n",
    "dout = prelu_backward(dout, cache)\n",
    "\n",
    "\n",
    "np.set_printoptions(precision=5)\n",
    "print(dout)"
   ]
  },
  {
   "cell_type": "markdown",
   "metadata": {},
   "source": [
    "---\n",
    "### b. ELU Function\n",
    "\n",
    "ELUs are exponential functions which have negative values that allow them to push mean unit activations closer to zero like batch normalization but with lower computational complexity.\n",
    "\n",
    "<p align=\"center\"><img src=\"https://stanford.edu/~shervine/images/elu.png\" width=\"200\"></p>\n",
    "\n",
    "\n",
    "Implement the forward and backward function of the new Exponential Linear Unit (ELU) activation function\n",
    "\n",
    "**Implement ELU forward function**\n",
    "\n",
    "$$\n",
    "\\begin{align}\n",
    "f(x, \\alpha) = \n",
    "\\begin{cases}\n",
    "\\alpha (e^x-1), & \\text{for } x<0\\\\\n",
    "x, & \\text{for } x\\geq0\n",
    "\\end{cases}\n",
    "\\end{align}\n",
    "$$\n",
    "\n",
    "*<i>hint: you can use <b>if-then</b> or <b>np.where(condition, if true, if false)</b></i>\n"
   ]
  },
  {
   "cell_type": "code",
   "execution_count": 14,
   "metadata": {},
   "outputs": [],
   "source": [
    "def elu_forward(x, alpha):  \n",
    "    \"\"\"\n",
    "    Computes the forward pass for a layer of Exponential Linear Unit (ELU).\n",
    "\n",
    "    Input:\n",
    "    - x    : Inputs, of any shape\n",
    "    - alpha: leaky parameter\n",
    "\n",
    "    Returns a tuple of:\n",
    "    - out  : Output, of the same shape as x\n",
    "    - cache: x, alpha\n",
    "    \"\"\"\n",
    "    \n",
    "    \n",
    "    # calculate elu forward \n",
    "    out = np.where(x<0, alpha*((np.e**x)-1), x)\n",
    "\n",
    "    cache = (x, alpha)\n",
    "    \n",
    "    return out, cache"
   ]
  },
  {
   "cell_type": "markdown",
   "metadata": {},
   "source": [
    "Check your implementations"
   ]
  },
  {
   "cell_type": "code",
   "execution_count": 15,
   "metadata": {},
   "outputs": [
    {
     "name": "stdout",
     "output_type": "stream",
     "text": [
      "[-0.0086466 -0.0063212  0.         1.         2.         3.       ]\n"
     ]
    }
   ],
   "source": [
    "x = np.array([-2, -1, 0, 1, 2, 3])\n",
    "de, _ = elu_forward(x, alpha = 0.01) \n",
    "\n",
    "np.set_printoptions(precision=7)\n",
    "print(de)"
   ]
  },
  {
   "cell_type": "markdown",
   "metadata": {},
   "source": [
    "---\n",
    "\n",
    "**Implement `ELU` backward function**\n",
    "$$\n",
    "\\begin{align*}\n",
    "f'(x, \\alpha) = \n",
    "\\begin{cases}\n",
    "f(x,\\alpha)+\\alpha, & \\text{for } x<0\\\\\n",
    "1, & \\text{for } x\\geq0\n",
    "\\end{cases}\\\\\n",
    "\\\\\n",
    "\\partial out = \\partial out * f'(x)\n",
    "\\end{align*}\n",
    "$$\n",
    "\n",
    "<br>\n",
    "\n",
    "\n",
    "---\n",
    "\n",
    "**Note that for $x<0$**\n",
    "\n",
    "$$\n",
    "\\begin{align*}\n",
    "f(x,\\alpha)+\\alpha, \\ \\ & = \\ \\alpha (e^x-1)+\\alpha\\\\\n",
    " & = \\ \\alpha.e^x-\\alpha+\\alpha\\\\\n",
    " & = \\ \\alpha.e^x\n",
    "\\end{align*}\n",
    "$$\n",
    "\n",
    "\n",
    "*<i>hint: you can use <b>if-then</b> or <b>np.where(condition, if true, if false)</b></i>\n"
   ]
  },
  {
   "cell_type": "code",
   "execution_count": 16,
   "metadata": {},
   "outputs": [],
   "source": [
    "def elu_backward(dout, cache):\n",
    "    \"\"\"\n",
    "    Computes the backward pass for a layer of Exponential Linear Unit (ELU).\n",
    "\n",
    "    Input:\n",
    "    - dout : Upstream derivatives, of any shape\n",
    "    - cache: \n",
    "      - Input x, of same shape as dout\n",
    "      - alpha, leaky parameter\n",
    "\n",
    "    Returns:\n",
    "    - dout : Gradient with respect to x\n",
    "    \"\"\"\n",
    "    \n",
    "    \n",
    "    x, alpha = cache\n",
    "    \n",
    "    # calculate local gradient of elu \n",
    "    de_prime = np.where(x<0, alpha*(np.e**x), 1)\n",
    "    \n",
    "    # calculate the gradient propagation\n",
    "    dout *= de_prime\n",
    "    \n",
    "    return dout"
   ]
  },
  {
   "cell_type": "markdown",
   "metadata": {},
   "source": [
    "Check your implementations"
   ]
  },
  {
   "cell_type": "code",
   "execution_count": 17,
   "metadata": {},
   "outputs": [
    {
     "name": "stdout",
     "output_type": "stream",
     "text": [
      "[0.1043869 0.0076342 0.6336482 0.7488039 0.498507  0.2247966]\n"
     ]
    }
   ],
   "source": [
    "x = np.array([-2, -1, 0, 1, 2, 3])\n",
    "dp, cache = elu_forward(x, alpha = 1.0) \n",
    "\n",
    "np.random.seed(10)\n",
    "dout = np.random.random((6,)) \n",
    "\n",
    "dout = elu_backward(dout, cache)\n",
    "\n",
    "np.set_printoptions(precision=7)\n",
    "print(dout)"
   ]
  },
  {
   "cell_type": "markdown",
   "metadata": {},
   "source": [
    "---\n",
    "### c. SELU Function\n",
    "\n",
    "**SELU**s are activations which induce self-normalizing properties and are used in **Self-Normalizing Neural Networks** (SNNs). SNNs enable high-level abstract representations that tend to automatically converge towards zero mean and unit variance.\n",
    "\n",
    "Implement the forward and backward function of the new **Scaled Exponential Linear Unit** (SELU) activation function\n",
    "\n",
    "**Implement SELU forward function**\n",
    "\n",
    "$$\n",
    "\\begin{align}\n",
    "f(x, \\alpha) = \n",
    "\\lambda*\\begin{cases}\n",
    "\\alpha (e^x-1), & \\text{for } x<0\\\\\n",
    "x, & \\text{for } x\\geq0\n",
    "\\end{cases}\n",
    "\\end{align}\n",
    "$$\n",
    "\n",
    "*<i>hint: you can use <b>if-then</b> or <b>np.where(condition, if true, if false)</b></i>\n"
   ]
  },
  {
   "cell_type": "code",
   "execution_count": 18,
   "metadata": {},
   "outputs": [],
   "source": [
    "def selu_forward(x):  \n",
    "    \"\"\"\n",
    "    Computes the forward pass for a layer of Scaled Exponential Linear Unit (SELU).\n",
    "\n",
    "    Input:\n",
    "    - x    : Inputs, of any shape\n",
    "\n",
    "    Returns a tuple of:\n",
    "    - out  : Output, of the same shape as x\n",
    "    - cache: x, alpha, scale\n",
    "    \"\"\"\n",
    "    \n",
    "    alpha = 1.6732632423543772848170429916717\n",
    "    scale = 1.0507009873554804934193349852946\n",
    "    \n",
    "    # calculate elu forward \n",
    "    out = scale * np.where(x<0, alpha*((np.e**x)-1), x)\n",
    "\n",
    "    cache = (x, alpha, scale)\n",
    "    \n",
    "    return out, cache"
   ]
  },
  {
   "cell_type": "markdown",
   "metadata": {},
   "source": [
    "Check your implementations"
   ]
  },
  {
   "cell_type": "code",
   "execution_count": 19,
   "metadata": {},
   "outputs": [
    {
     "name": "stdout",
     "output_type": "stream",
     "text": [
      "[-1.5201665 -1.1113307  0.         1.050701   2.101402   3.152103 ]\n"
     ]
    }
   ],
   "source": [
    "x = np.array([-2, -1, 0, 1, 2, 3])\n",
    "de, _ = selu_forward(x) \n",
    "\n",
    "np.set_printoptions(precision=7)\n",
    "print(de)"
   ]
  },
  {
   "cell_type": "markdown",
   "metadata": {},
   "source": [
    "---\n",
    "\n",
    "**Implement `SELU` backward function**\n",
    "$$\n",
    "\\begin{align*}\n",
    "f'(x, \\alpha) = \n",
    "\\lambda*\\begin{cases}\n",
    "f(x,\\alpha)+\\alpha, & \\text{for } x<0\\\\\n",
    "1, & \\text{for } x\\geq0\n",
    "\\end{cases}\\\\\n",
    "\\\\\n",
    "\\partial out = \\partial out * f'(x)\n",
    "\\end{align*}\n",
    "$$\n",
    "\n",
    "<br>\n",
    "\n",
    "\n",
    "---\n",
    "\n",
    "**Note that for $x<0$**\n",
    "\n",
    "$$\n",
    "\\begin{align*}\n",
    "f(x,\\alpha)+\\alpha, \\ \\ & = \\ \\alpha (e^x-1)+\\alpha\\\\\n",
    " & = \\ \\alpha.e^x-\\alpha+\\alpha\\\\\n",
    " & = \\ \\alpha.e^x\n",
    "\\end{align*}\n",
    "$$\n",
    "\n",
    "\n",
    "*<i>hint: you can use <b>if-then</b> or <b>np.where(condition, if true, if false)</b></i>"
   ]
  },
  {
   "cell_type": "code",
   "execution_count": 20,
   "metadata": {},
   "outputs": [],
   "source": [
    "def selu_backward(dout, cache):\n",
    "    \"\"\"\n",
    "    Computes the backward pass for a layer of Scaled Exponential Linear Unit (SELU).\n",
    "\n",
    "    Input:\n",
    "    - dout : Upstream derivatives, of any shape\n",
    "    - cache: \n",
    "      - Input x, of same shape as dout\n",
    "      - alpha, leaky parameter\n",
    "      - scale parameter\n",
    "\n",
    "    Returns:\n",
    "    - dout : Gradient with respect to x\n",
    "    \"\"\"\n",
    "    \n",
    "    x, alpha, scale = cache\n",
    "    \n",
    "    # calculate local gradient of elu \n",
    "    de_prime = scale*np.where(x<0, alpha*(np.e**x), 1)\n",
    "    \n",
    "    # calculate the gradient propagation\n",
    "    dout = dout*de_prime\n",
    "    \n",
    "    return dout"
   ]
  },
  {
   "cell_type": "markdown",
   "metadata": {},
   "source": [
    "Check your implementations"
   ]
  },
  {
   "cell_type": "code",
   "execution_count": 21,
   "metadata": {},
   "outputs": [
    {
     "name": "stdout",
     "output_type": "stream",
     "text": [
      "[0.1835225 0.0134217 0.6657748 0.786769  0.5237818 0.2361941]\n"
     ]
    }
   ],
   "source": [
    "x = np.array([-2, -1, 0, 1, 2, 3])\n",
    "dp, cache = selu_forward(x) \n",
    "\n",
    "np.random.seed(10)\n",
    "dout = np.random.random((6,)) \n",
    "\n",
    "dout = selu_backward(dout, cache)\n",
    "\n",
    "np.set_printoptions(precision=7)\n",
    "print(dout)"
   ]
  },
  {
   "cell_type": "markdown",
   "metadata": {},
   "source": [
    "---\n",
    "\n",
    "---\n",
    "# [Part 2] Deep Neural Net API\n",
    "\n",
    "For this exercise, we'll create a Deep Neural Net API which will automatically create deep layers for a given list of hidden layer\n",
    "\n",
    "With this, unlike the exercise before, we can create however many layers in our architecture\n",
    "\n",
    "<br>\n",
    "\n",
    "Not only that, we'll add **activation** argument so we can change the activation function easily between **relu** and **tanh**"
   ]
  },
  {
   "cell_type": "markdown",
   "metadata": {},
   "source": [
    "---\n",
    "## 1 - Weight Init\n",
    "Below is a function to repeatedly initialize weights and bias for each layer"
   ]
  },
  {
   "cell_type": "code",
   "execution_count": 22,
   "metadata": {},
   "outputs": [],
   "source": [
    "def init_weights(d_in, hidden, d_out, std=1e-2, seed=None):\n",
    "    \"\"\"\n",
    "    Inputs:\n",
    "    - d_in  : int, number of input dimension\n",
    "    - hidden: list of number hidden neuron in each hiidden layer\n",
    "    - d_out : int, number of output dimension\n",
    "    - std   : standar deviation for generating weights\n",
    "    - seed  : random seed\n",
    "    \n",
    "    Outputs:\n",
    "    - W: list of Weights\n",
    "    - b: list of biases\n",
    "    \"\"\"\n",
    "    \n",
    "    W = []\n",
    "    b = []\n",
    "    np.random.seed(seed)\n",
    "    dims = [d_in] + hidden + [d_out] \n",
    "    \n",
    "    for i in range(len(dims)-1):\n",
    "        W.append(std * np.random.randn(dims[i],dims[i+1]))\n",
    "        b.append(np.zeros((1, dims[i+1])))\n",
    "    return W, b"
   ]
  },
  {
   "cell_type": "markdown",
   "metadata": {},
   "source": [
    "Let's try the `init_weights` function by creating weights and bias for a 4-layered Neural Network (3 hidden layer). With input of 5, otput 10 classes, and hidden neuron in each hidden layer are 10, 20, and 30"
   ]
  },
  {
   "cell_type": "code",
   "execution_count": 23,
   "metadata": {},
   "outputs": [
    {
     "name": "stdout",
     "output_type": "stream",
     "text": [
      "Number of Layer = 4\n",
      "Shape of each layer- 0 weight: (5, 10)\n",
      "Shape of each layer- 1 weight: (10, 20)\n",
      "Shape of each layer- 2 weight: (20, 30)\n",
      "Shape of each layer- 3 weight: (30, 10)\n"
     ]
    }
   ],
   "source": [
    "d_in  = 5\n",
    "hidden=[10, 20, 30]\n",
    "d_out =10\n",
    "\n",
    "W, b = init_weights(d_in, hidden, d_out)\n",
    "print('Number of Layer =',len(W))\n",
    "for i in range(len(W)):\n",
    "    print('Shape of each layer-',i,'weight:',W[i].shape)"
   ]
  },
  {
   "cell_type": "markdown",
   "metadata": {},
   "source": [
    "---\n",
    "## 2 - Predict Function\n",
    "\n",
    "Implement the predict function first, because we are going to use **predict** function inside the **training** function to track the **validation** accuracy \n",
    "\n",
    "<br>\n",
    "\n",
    "The network architecture should be: \n",
    "<pre><b>Input - <font color=\"blue\">N * [FC Layer - activation]</font> - FC Layer - argmax</b></pre>\n",
    "\n",
    "<br>\n",
    "\n",
    "The **N** is the number of hidden layer, which can be calculated from **len(W)-1**\n",
    "\n",
    "**Implement Predict Function**\n",
    "\n",
    "    * loop call forward function for each hidden layer weights\n",
    "    * check and use the requested activation funtion\n",
    "    * call forward function for the last layer"
   ]
  },
  {
   "cell_type": "code",
   "execution_count": 24,
   "metadata": {},
   "outputs": [],
   "source": [
    "def predict_multi_layer(X, W, b, act_f ='tanh'):    \n",
    "    \"\"\"\n",
    "    Inputs:\n",
    "    - X    : Input data, of shape(N, D)\n",
    "    - W    : list of Weight\n",
    "    - b    : list of biases\n",
    "    - act_f: activation function ('tanh' or 'relu')\n",
    "    \n",
    "    Output:\n",
    "    - y_pred : list of class prediction\n",
    "    \"\"\"\n",
    "    \n",
    "    \n",
    "    y_pred = np.zeros(X.shape[1])\n",
    "    n_layer = len(W)\n",
    "    \n",
    "    \n",
    "    \n",
    "    # first activation is X\n",
    "    act = X\n",
    "    \n",
    "    ## ------------------------- start your code here -------------------------\n",
    "    \n",
    "    # loop i over n_layer-1\n",
    "    for i in range(n_layer-1):\n",
    "    \n",
    "        # calculate layer score by calling affine forward function using act, W[i], and b[i]\n",
    "        layer, _ = affine_forward(act, W[i], b[i])\n",
    "  \n",
    "        if ( act_f == 'tanh'):\n",
    "            # calculate activation score by calling tanh forward function using layer score\n",
    "            act, _ = tanh_forward(layer)\n",
    "          \n",
    "        else:\n",
    "            # calculate activation score by calling relu forward function using layer score\n",
    "            act, _ = relu_forward(layer)\n",
    "          \n",
    "\n",
    "    # calculate last layer score by calling affine forward function using act, W[-1], and b[-1]\n",
    "    last_layer, _ = affine_forward(act, W[-1], b[-1])\n",
    "    \n",
    "    \n",
    "    # take the maximum prediction from the last layer and use that column to get the class       \n",
    "    # use np.argmax with axis=-1 \n",
    "    y_pred = np.argmax(last_layer, axis=-1)\n",
    "\n",
    "    ## ------------------------- end your code here -------------------------\n",
    "    \n",
    "    return y_pred"
   ]
  },
  {
   "cell_type": "markdown",
   "metadata": {},
   "source": [
    "Check your implementation"
   ]
  },
  {
   "cell_type": "code",
   "execution_count": 25,
   "metadata": {},
   "outputs": [],
   "source": [
    "np.random.seed(30)\n",
    "\n",
    "X = np.random.rand(10,20)\n",
    "d_in =20\n",
    "hidden=[15, 25, 35]\n",
    "d_out=10\n",
    "\n",
    "W, b = init_weights(d_in, hidden, d_out, seed=30)"
   ]
  },
  {
   "cell_type": "markdown",
   "metadata": {},
   "source": [
    "Check using **tanh** activation"
   ]
  },
  {
   "cell_type": "code",
   "execution_count": 26,
   "metadata": {},
   "outputs": [
    {
     "name": "stdout",
     "output_type": "stream",
     "text": [
      "y.shape = (10,)\n",
      "y = [4 7 9 4 4 4 7 4 7 4]\n"
     ]
    }
   ],
   "source": [
    "y = predict_multi_layer(X, W, b, act_f = 'tanh')\n",
    "\n",
    "print('y.shape =', y.shape)\n",
    "print('y =',y)"
   ]
  },
  {
   "cell_type": "markdown",
   "metadata": {},
   "source": [
    "Check using **relu** activation"
   ]
  },
  {
   "cell_type": "code",
   "execution_count": 27,
   "metadata": {},
   "outputs": [
    {
     "name": "stdout",
     "output_type": "stream",
     "text": [
      "y.shape = (10,)\n",
      "y = [1 6 0 5 4 5 1 4 0 4]\n"
     ]
    }
   ],
   "source": [
    "y = predict_multi_layer(X, W, b, act_f='relu')\n",
    "\n",
    "print('y.shape =', y.shape)\n",
    "print('y =',y)"
   ]
  },
  {
   "cell_type": "markdown",
   "metadata": {},
   "source": [
    "---\n",
    "## 3 - Training Function\n",
    "\n",
    "Now let's complete the training function\n",
    "\n",
    "\n",
    "<br>\n",
    "\n",
    "The network architecture should be: \n",
    "<pre><b>Input - <font color=\"blue\">N * [FC Layer - activation]</font> - FC Layer - Softmax</b></pre>\n",
    "\n",
    "<br>\n",
    "\n",
    "The **N** is the number of hidden layer, which can be calculated from **len(W)-1**\n",
    "\n",
    "<br>\n",
    "\n",
    "**Implement Training Function**\n",
    "\n",
    "there are **four steps** in this training function\n",
    "\n",
    "---\n",
    "\n",
    "**1. Forward Pass**\n",
    "\n",
    "    * loop over hidden layer [for len(W)-1]\n",
    "        * call affine forward function\n",
    "        * call activation forward function\n",
    "    * call affine forward function for the last layer\n",
    "    * call softmax score function\n",
    "\n",
    "**2. Calculate Loss**\n",
    "\n",
    "    * call softmax_loss function\n",
    "    * loop over weights [for W]\n",
    "        * calculate loss with regularization\n",
    "\n",
    "\n",
    "**3. Backward Pass**\n",
    "\n",
    "    * call affine backward function for the last layer\n",
    "    * loop over hidden layer [from len(W)-2 to 0]\n",
    "        * call activation backward function\n",
    "        * call affine backward function\n",
    "\n",
    "**4. Weight Update**\n",
    "\n",
    "    * loop over weights [for W]\n",
    "        * implement weight update\n",
    "    * calculate the training and validation accuracy"
   ]
  },
  {
   "cell_type": "code",
   "execution_count": 28,
   "metadata": {},
   "outputs": [],
   "source": [
    "def train_multi_layer(X, y, X_val, y_val, hidden_size, act_f='tanh',\n",
    "                      W=None, b=None, std=1e-4, seed=None,\n",
    "                      lr=1e-4, lr_decay=0.95, reg=0.25, \n",
    "                      epochs=100, batch_size=200, verbose=True):\n",
    "    \"\"\"\n",
    "    Inputs:\n",
    "    - X          : array of train data, of shape (N, D)\n",
    "    - y          : array of train labels, of shape (N,)\n",
    "    - X_val      : array of validation data, of shape (Nv, D)\n",
    "    - y_val      : array of validation labels, of shape (Nv,)\n",
    "    - hidden_size: list of hidden neuron for each hidden layer\n",
    "    - act_f      : activation function ('tanh' or 'relu')\n",
    "    - W          : list of Weight, if W is None, it will be initialized\n",
    "    - b          : list of biases, if W is None, bias will be initialized\n",
    "    - std        : float, standar deviation for generating weights\n",
    "    - seed       : int, initial random seed\n",
    "    - lr         : float, initial learning rate\n",
    "    - lr_decay   : float, 0-1, decay rate to reduce learning rate each epoch\n",
    "    - reg        : float, regularization rate\n",
    "    - epochs     : int, number of training epoch\n",
    "    - batch_size : int, number of batch used each step\n",
    "    - verbose    : boolean, verbosity\n",
    "    \n",
    "    Outputs:\n",
    "    - W          : list of trained Weights\n",
    "    - b          : list of trained biases\n",
    "    - history    : list of training history [loss, train_acc, val_acc]\n",
    "    \n",
    "    \"\"\"\n",
    "    \n",
    "    num_train, dim = X.shape\n",
    "    \n",
    "    \n",
    "    # check if data train is divisible by batch size\n",
    "    assert num_train % batch_size==0, \"data train \"+str(num_train)+\" is not divisible by batch size\"+str(batch_size)\n",
    "    \n",
    "    # total iteration per epoch\n",
    "    num_iter = num_train // batch_size\n",
    "    \n",
    "    #start iteration counts\n",
    "    it = 0\n",
    "    \n",
    "    # assume y takes values 0...K-1 where K is number of classes\n",
    "    num_classes = np.max(y) + 1  \n",
    "        \n",
    "    # initialize Weights\n",
    "    if W is None:\n",
    "        W, b = init_weights(dim, hidden_size, num_classes, std, seed) \n",
    "        \n",
    "    # number of layer (including output layer)\n",
    "    n_layer = len(W)\n",
    "\n",
    "    # Run stochastic gradient descent to optimize W\n",
    "    loss_history = []\n",
    "    train_acc_history = []\n",
    "    val_acc_history = []\n",
    "    \n",
    "    \n",
    "    ## ------------------------- start your code here --------------------------\n",
    "\n",
    "    print('start training using', act_f, 'activation function')\n",
    "    for ep in range(epochs):\n",
    "        # Shuffle data train index\n",
    "        train_rows = np.arange(num_train)\n",
    "        np.random.shuffle(train_rows)\n",
    "        \n",
    "        # split index into mini batches\n",
    "        id_batch = np.split(train_rows, num_iter)\n",
    "  \n",
    "        for batch in id_batch:\n",
    "      \n",
    "            X_batch = X[batch]\n",
    "            y_batch = y[batch]\n",
    "\n",
    "            # store all cache in dictionary\n",
    "            cache = {}\n",
    "\n",
    "            # first layer activation input is X_batch\n",
    "            act = X_batch\n",
    "\n",
    "            # ------------------------------------------------------------------\n",
    "            # 1. Forward Pass\n",
    "            # ------------------------------------------------------------------\n",
    "\n",
    "            # loop i over hidden layer (n_layer-1)\n",
    "            # see predict function implementation\n",
    "            for i in range(n_layer-1):\n",
    "\n",
    "                # calculate layer score by calling affine forward function using activation act, W[i], and b[i]\n",
    "                layer, cache_affine = affine_forward(act, W[i], b[i])\n",
    "\n",
    "\n",
    "                if ( act_f == 'tanh'):\n",
    "                    # calculate activation score by calling tanh forward function using layer score\n",
    "                    act, _ = tanh_forward(layer)\n",
    "                    \n",
    "                else:\n",
    "                    # calculate activation score by calling relu forward function using layer score\n",
    "                    act, _ = relu_forward(layer)\n",
    "\n",
    "                    \n",
    "                # combine cache from affine and activation layer into cache for this layer\n",
    "                cache[i] = (cache_affine, _)\n",
    "\n",
    "            # calculate last layer score by calling affine forward function using activation act, W[i+1], and b[i+1]\n",
    "            last_layer, cache[i+1] = affine_forward(act, W[i+1], b[i+1])\n",
    "\n",
    "            # calculate softmax score by calling softmax function using last_layer output score\n",
    "            softmax_score = softmax(last_layer)\n",
    "\n",
    "            # ------------------------------------------------------------------\n",
    "            # 2. Calculate Loss\n",
    "            # ------------------------------------------------------------------\n",
    "\n",
    "            # evaluate loss and gradient by calling softmax_loss function using input softmax_score and y_batch\n",
    "            loss, dout = softmax_loss(softmax_score, y_batch)\n",
    "\n",
    "            # add regularization to the loss:\n",
    "            #    for each weights, calculate the sum square, multiply regularization strength\n",
    "            #    then add it to the loss\n",
    "            # see the implementation in the previous Task\n",
    "            for w in W:\n",
    "                # loss = loss + reg * sum(w*w)\n",
    "                loss += reg * np.sum(w*w)\n",
    "\n",
    "            # append the loss history\n",
    "            loss_history.append(loss)\n",
    "\n",
    "\n",
    "            # ------------------------------------------------------------------\n",
    "            # 3. Backward Pass\n",
    "            # ------------------------------------------------------------------    \n",
    "\n",
    "            # dictionary to contain all gradients\n",
    "            dW = {}\n",
    "            db = {}\n",
    "\n",
    "            # calculate last weights gradient by calling affine backward function using dout and cache[n_layer-1]\n",
    "            dW[n_layer-1], db[n_layer-1], dact = affine_backward(dout, cache[n_layer-1])\n",
    "\n",
    "            #loop i from n_layer-2 down to 0\n",
    "            for i in range(n_layer-2,-1,-1):\n",
    "\n",
    "                # extract affine cache and activation cache from layer cache\n",
    "                cache_affine, cache_act = cache[i]\n",
    "\n",
    "                if ( act_f == 'tanh'):\n",
    "                    # calculate tanh gradient by calling tanh backward function using dact and cache_act\n",
    "                    dlayer = tanh_backward(dact, cache_act)\n",
    "                    \n",
    "                else:\n",
    "                    # calculate relu gradient by calling relu backward function using dact and cache_act\n",
    "                    dlayer = relu_backward(dact, cache_act)\n",
    "\n",
    "                    \n",
    "                # calculate layer weights gradient by calling affine backward function using dlayer and cache_affine\n",
    "                dW[i], db[i], dact = affine_backward(dlayer, cache_affine)\n",
    "\n",
    "                # add regularization to gradient\n",
    "                dW[i] += 2 * reg * W[i]\n",
    "\n",
    "            # ------------------------------------------------------------------\n",
    "            # 4. Weight Update\n",
    "            # ------------------------------------------------------------------    \n",
    "\n",
    "            # perform parameter update by subtracting W[i] and b[i] for each layer with a fraction of dW[i] and db[i]\n",
    "            # according to the learning rate\n",
    "            # loop over W\n",
    "            for i in range(len(W)):    \n",
    "                # w_i = w_i - lr * dw_i\n",
    "                W[i] -= lr*dW[i]\n",
    "    \n",
    "                # b_i = b_i - lr * db_i\n",
    "                b[i] -= lr*db[i]\n",
    "\n",
    "\n",
    "            # iteration count\n",
    "            it +=1\n",
    "\n",
    "            if verbose and it % 100 == 0:\n",
    "                print ('iteration',it,'(epoch', ep+1,'/',epochs, '): loss =', loss)\n",
    "              \n",
    "            \n",
    "        # At the end of one epoch\n",
    "        # 1. Check accuracy\n",
    "        #    calculate the training accuracy by calling predict_multi_layer function on X_batch\n",
    "        #    and compare it to y_batch. Then calculate the mean correct (accuracy in range 0-1)\n",
    "        train_acc = (predict_multi_layer(X_batch, W, b, act_f) == y_batch).mean()\n",
    "        train_acc_history.append(train_acc)\n",
    "\n",
    "        # 2. Calculate the training accuracy by calling predict_multi_layer function on X_val\n",
    "        #    and compare it tu y_val. Then calculate the mean correct (accuracy in range 0-1)\n",
    "        val_acc = (predict_multi_layer(X_val, W, b, act_f) == y_val).mean()\n",
    "        val_acc_history.append(val_acc)\n",
    "\n",
    "        # 3. Decay learning rate\n",
    "        #    multiply learning rate with decay\n",
    "        #    see sigmoid train function\n",
    "        lr *= lr_decay\n",
    "            \n",
    "            \n",
    "    ## ------------------------- end your code here ----------------------------\n",
    "    \n",
    "    history = [loss_history, train_acc_history, val_acc_history]\n",
    "    \n",
    "    if verbose:\n",
    "      print('Training done')\n",
    "    \n",
    "    return W, b, history"
   ]
  },
  {
   "cell_type": "markdown",
   "metadata": {},
   "source": [
    "---\n",
    "***\n",
    "# [Part 3] CIFAR-10 Dataset\n",
    "\n",
    "Again, we'll use the CIFAR-10 dataset\n",
    "\n",
    "for that, let's load and preprocess it first"
   ]
  },
  {
   "cell_type": "markdown",
   "metadata": {},
   "source": [
    "## 1 - Load CIFAR-10"
   ]
  },
  {
   "cell_type": "code",
   "execution_count": 29,
   "metadata": {},
   "outputs": [],
   "source": [
    "import tensorflow as tf\n",
    "\n",
    "(X_train_ori, y_train), (X_test_ori, y_test) = tf.keras.datasets.cifar10.load_data()\n",
    "classes = ['plane', 'car', 'bird', 'cat', 'deer', 'dog', 'frog', 'horse', 'ship', 'truck']"
   ]
  },
  {
   "cell_type": "markdown",
   "metadata": {},
   "source": [
    "## 2 - Split Validation Data"
   ]
  },
  {
   "cell_type": "code",
   "execution_count": 30,
   "metadata": {},
   "outputs": [],
   "source": [
    "X_val_ori = X_train_ori[-1000:,:]\n",
    "y_val     = y_train[-1000:]\n",
    "\n",
    "X_train_ori = X_train_ori[:-1000, :]\n",
    "y_train     = y_train[:-1000]"
   ]
  },
  {
   "cell_type": "markdown",
   "metadata": {},
   "source": [
    "## 3 - Normalize and Reshape Data"
   ]
  },
  {
   "cell_type": "code",
   "execution_count": 31,
   "metadata": {},
   "outputs": [
    {
     "name": "stdout",
     "output_type": "stream",
     "text": [
      "X_train.shape = (49000, 3072)\n",
      "X_val.shape   = (1000, 3072)\n",
      "X_test.shape  = (10000, 3072)\n",
      "\n",
      "y_train.shape = (49000,)\n",
      "y_val.shape   = (1000,)\n",
      "y_test.shape  = (10000,)\n"
     ]
    }
   ],
   "source": [
    "X_train = X_train_ori.astype('float32')\n",
    "X_val = X_val_ori.astype('float32')\n",
    "X_test = X_test_ori.astype('float32')\n",
    "\n",
    "mean_image = np.mean(X_train, axis = 0)\n",
    "X_train -= mean_image\n",
    "X_val -= mean_image\n",
    "X_test -= mean_image\n",
    "\n",
    "X_train = X_train.reshape((X_train.shape[0],X_train.shape[1]*X_train.shape[2]*X_train.shape[3]))\n",
    "X_val = X_val.reshape((X_val.shape[0],X_val.shape[1]*X_val.shape[2]*X_val.shape[3]))\n",
    "X_test = X_test.reshape((X_test.shape[0],X_test.shape[1]*X_test.shape[2]*X_test.shape[3]))\n",
    "\n",
    "print('X_train.shape =',X_train.shape)\n",
    "print('X_val.shape   =',X_val.shape)\n",
    "print('X_test.shape  =',X_test.shape)\n",
    "\n",
    "y_train = y_train.ravel()\n",
    "y_val = y_val.ravel()\n",
    "y_test = y_test.ravel()\n",
    "\n",
    "print('\\ny_train.shape =',y_train.shape)\n",
    "print('y_val.shape   =',y_val.shape)\n",
    "print('y_test.shape  =',y_test.shape)"
   ]
  },
  {
   "cell_type": "markdown",
   "metadata": {},
   "source": [
    "---\n",
    "***\n",
    "# [Part 4] Shallow Neural Network\n",
    "\n",
    "This part, let's train a shallow network with only 1 hidden neuron. \n",
    "\n",
    "We'll try both **tanh** and **relu** activation function, then compare the results"
   ]
  },
  {
   "cell_type": "markdown",
   "metadata": {},
   "source": [
    "---\n",
    "## 1 - Two Layer Tanh Network \n",
    "\n",
    "First one is two layer net using **tanh** activation function"
   ]
  },
  {
   "cell_type": "markdown",
   "metadata": {},
   "source": [
    "---\n",
    "### a. Train Network"
   ]
  },
  {
   "cell_type": "code",
   "execution_count": 32,
   "metadata": {},
   "outputs": [
    {
     "name": "stdout",
     "output_type": "stream",
     "text": [
      "start training using tanh activation function\n",
      "iteration 100 (epoch 1 / 12 ): loss = 2.301282877061199\n",
      "iteration 200 (epoch 1 / 12 ): loss = 2.2966923840059996\n",
      "iteration 300 (epoch 2 / 12 ): loss = 2.284020843886253\n",
      "iteration 400 (epoch 2 / 12 ): loss = 2.2802220386232426\n",
      "iteration 500 (epoch 3 / 12 ): loss = 2.2751282206791097\n",
      "iteration 600 (epoch 3 / 12 ): loss = 2.252112248713549\n",
      "iteration 700 (epoch 3 / 12 ): loss = 2.2453850242172417\n",
      "iteration 800 (epoch 4 / 12 ): loss = 2.2362213479554693\n",
      "iteration 900 (epoch 4 / 12 ): loss = 2.232380680127002\n",
      "iteration 1000 (epoch 5 / 12 ): loss = 2.224437706416388\n",
      "iteration 1100 (epoch 5 / 12 ): loss = 2.2034524082564864\n",
      "iteration 1200 (epoch 5 / 12 ): loss = 2.1995652848016074\n",
      "iteration 1300 (epoch 6 / 12 ): loss = 2.2011392190183945\n",
      "iteration 1400 (epoch 6 / 12 ): loss = 2.1871793617263577\n",
      "iteration 1500 (epoch 7 / 12 ): loss = 2.1841756633237814\n",
      "iteration 1600 (epoch 7 / 12 ): loss = 2.200495689817118\n",
      "iteration 1700 (epoch 7 / 12 ): loss = 2.1650877539045883\n",
      "iteration 1800 (epoch 8 / 12 ): loss = 2.1928721696896587\n",
      "iteration 1900 (epoch 8 / 12 ): loss = 2.1651096736299094\n",
      "iteration 2000 (epoch 9 / 12 ): loss = 2.1455724783640013\n",
      "iteration 2100 (epoch 9 / 12 ): loss = 2.1805504944769765\n",
      "iteration 2200 (epoch 9 / 12 ): loss = 2.1312480832297\n",
      "iteration 2300 (epoch 10 / 12 ): loss = 2.1265704915231347\n",
      "iteration 2400 (epoch 10 / 12 ): loss = 2.1506267803120998\n",
      "iteration 2500 (epoch 11 / 12 ): loss = 2.134460382450981\n",
      "iteration 2600 (epoch 11 / 12 ): loss = 2.1267988786471568\n",
      "iteration 2700 (epoch 12 / 12 ): loss = 2.104249805894674\n",
      "iteration 2800 (epoch 12 / 12 ): loss = 2.1732558839225304\n",
      "iteration 2900 (epoch 12 / 12 ): loss = 2.1224376449703515\n",
      "Training done\n"
     ]
    }
   ],
   "source": [
    "np.random.seed(None)\n",
    "W_tanh, b_tanh, history_tanh = train_multi_layer(\n",
    "    X_train, y_train, X_val, y_val, \n",
    "    hidden_size=[50], \n",
    "    act_f = 'tanh',\n",
    "    std=1e-4, lr=1e-4, \n",
    "    lr_decay=0.95, reg=0.01, \n",
    "    epochs=12)"
   ]
  },
  {
   "cell_type": "markdown",
   "metadata": {},
   "source": [
    "---\n",
    "### b. Visualize Training\n",
    "Visualize the loss, and train-validation accuracy"
   ]
  },
  {
   "cell_type": "code",
   "execution_count": 33,
   "metadata": {},
   "outputs": [
    {
     "data": {
      "image/png": "[encoded data removed]",
      "text/plain": [
       "<Figure size 1008x252 with 2 Axes>"
      ]
     },
     "metadata": {
      "needs_background": "light"
     },
     "output_type": "display_data"
    }
   ],
   "source": [
    "loss, train_acc, val_acc = history_tanh\n",
    "\n",
    "plt.rcParams['figure.figsize'] = [14, 3.5]\n",
    "plt.subplots_adjust(wspace=0.25)\n",
    "\n",
    "plt.subplot(121)\n",
    "plt.plot(loss)\n",
    "plt.xlabel('Epoch')\n",
    "plt.ylabel('training loss')\n",
    "plt.title('Training Loss history')\n",
    "\n",
    "plt.subplot(122)\n",
    "plt.plot(train_acc, label='train')\n",
    "plt.plot(val_acc, label='val')\n",
    "plt.legend()\n",
    "plt.xlabel('Epoch')\n",
    "plt.ylabel('Clasification accuracy')\n",
    "plt.title('Classification accuracy history')\n",
    "plt.show()"
   ]
  },
  {
   "cell_type": "markdown",
   "metadata": {},
   "source": [
    "---\n",
    "### c. Training Accuracy\n",
    "Calculate the train-validation accuracy"
   ]
  },
  {
   "cell_type": "code",
   "execution_count": 34,
   "metadata": {},
   "outputs": [
    {
     "name": "stdout",
     "output_type": "stream",
     "text": [
      "Training Accuracy = 18.740816326530613 %\n",
      "Training label  = [6 9 9 4 1 1 2 7 8 3 4 7 7 2 9]\n",
      "Predicted label = [6 8 8 6 8 6 6 6 8 6 6 8 8 6 6]\n"
     ]
    }
   ],
   "source": [
    "import sklearn\n",
    "from sklearn.metrics import accuracy_score\n",
    "\n",
    "y_pred = predict_multi_layer(X_train, W_tanh, b_tanh, act_f='tanh')\n",
    "accuracy = sklearn.metrics.accuracy_score(y_train, y_pred)\n",
    "\n",
    "print('Training Accuracy =',accuracy*100,'%')\n",
    "\n",
    "print('Training label  =',y_train[:15])\n",
    "print('Predicted label =',y_pred[:15])"
   ]
  },
  {
   "cell_type": "code",
   "execution_count": 35,
   "metadata": {},
   "outputs": [
    {
     "name": "stdout",
     "output_type": "stream",
     "text": [
      "Validation Accuracy = 20.599999999999998 %\n",
      "Validation label = [8 9 4 9 0 5 0 8 2 3 7 8 9 4 5]\n",
      "Predicted label  = [8 6 8 6 6 6 8 8 6 6 6 8 8 8 6]\n"
     ]
    }
   ],
   "source": [
    "y_pred = predict_multi_layer(X_val, W_tanh, b_tanh, act_f = 'tanh')\n",
    "accuracy = sklearn.metrics.accuracy_score(y_val, y_pred)\n",
    "print('Validation Accuracy =', accuracy*100,'%')\n",
    "\n",
    "print('Validation label =',y_val[:15])\n",
    "print('Predicted label  =',y_pred[:15])"
   ]
  },
  {
   "cell_type": "markdown",
   "metadata": {},
   "source": [
    "---\n",
    "## 2 - Two Layer ReLU Network \n",
    "\n",
    "The next one is two layer net using relu activation function.\n",
    "\n",
    "Here you should see that the network using **relu** will converge much faster compared to using **tanh**"
   ]
  },
  {
   "cell_type": "markdown",
   "metadata": {},
   "source": [
    "---\n",
    "### a. Train Network"
   ]
  },
  {
   "cell_type": "markdown",
   "metadata": {},
   "source": [
    "#### <font color='red'>**EXERCISE:** </font>\n",
    "\n",
    "Use the Training Function and train a **one-hidden layer neural network** with **50 hidden neurons**, \n",
    "\n",
    "use the same parameter as before in tanh, but now using **relu** activation function"
   ]
  },
  {
   "cell_type": "code",
   "execution_count": 36,
   "metadata": {},
   "outputs": [
    {
     "name": "stdout",
     "output_type": "stream",
     "text": [
      "start training using relu activation function\n",
      "iteration 100 (epoch 1 / 12 ): loss = 2.3021835071376753\n",
      "iteration 200 (epoch 1 / 12 ): loss = 2.2962390316560746\n",
      "iteration 300 (epoch 2 / 12 ): loss = 2.259595114218061\n",
      "iteration 400 (epoch 2 / 12 ): loss = 2.1924802619606734\n",
      "iteration 500 (epoch 3 / 12 ): loss = 2.1623994618102174\n",
      "iteration 600 (epoch 3 / 12 ): loss = 2.073286579945536\n",
      "iteration 700 (epoch 3 / 12 ): loss = 2.016450438468989\n",
      "iteration 800 (epoch 4 / 12 ): loss = 1.9623732780863767\n",
      "iteration 900 (epoch 4 / 12 ): loss = 1.9503502350807185\n",
      "iteration 1000 (epoch 5 / 12 ): loss = 1.9341481115975958\n",
      "iteration 1100 (epoch 5 / 12 ): loss = 1.9512701739429648\n",
      "iteration 1200 (epoch 5 / 12 ): loss = 1.8970221812968182\n",
      "iteration 1300 (epoch 6 / 12 ): loss = 1.8807917783754484\n",
      "iteration 1400 (epoch 6 / 12 ): loss = 1.781506261969073\n",
      "iteration 1500 (epoch 7 / 12 ): loss = 1.8443468637025486\n",
      "iteration 1600 (epoch 7 / 12 ): loss = 1.8482169470525058\n",
      "iteration 1700 (epoch 7 / 12 ): loss = 1.8654018730227504\n",
      "iteration 1800 (epoch 8 / 12 ): loss = 1.8499924341544505\n",
      "iteration 1900 (epoch 8 / 12 ): loss = 1.8478081994320494\n",
      "iteration 2000 (epoch 9 / 12 ): loss = 1.666472144151174\n",
      "iteration 2100 (epoch 9 / 12 ): loss = 1.7624815597888535\n",
      "iteration 2200 (epoch 9 / 12 ): loss = 1.7364557621326921\n",
      "iteration 2300 (epoch 10 / 12 ): loss = 1.7290573312277628\n",
      "iteration 2400 (epoch 10 / 12 ): loss = 1.6993450375378198\n",
      "iteration 2500 (epoch 11 / 12 ): loss = 1.721229799303881\n",
      "iteration 2600 (epoch 11 / 12 ): loss = 1.8023460793480195\n",
      "iteration 2700 (epoch 12 / 12 ): loss = 1.830184761798663\n",
      "iteration 2800 (epoch 12 / 12 ): loss = 1.618251455347387\n",
      "iteration 2900 (epoch 12 / 12 ): loss = 1.7355831963344188\n",
      "Training done\n"
     ]
    }
   ],
   "source": [
    "np.random.seed(None)\n",
    "W_relu, b_relu, history_relu = train_multi_layer(\n",
    "    X_train, y_train, X_val, y_val, \n",
    "    hidden_size=[50], \n",
    "    act_f = 'relu',\n",
    "    std=1e-4, lr=1e-4, \n",
    "    lr_decay=0.95, reg=0.01, \n",
    "    epochs=12)"
   ]
  },
  {
   "cell_type": "markdown",
   "metadata": {},
   "source": [
    "---\n",
    "### b. Visualize Training\n",
    "Visualize the loss, and train-validation accuracy"
   ]
  },
  {
   "cell_type": "code",
   "execution_count": 37,
   "metadata": {},
   "outputs": [
    {
     "data": {
      "image/png": "[encoded data removed]",
      "text/plain": [
       "<Figure size 1008x252 with 2 Axes>"
      ]
     },
     "metadata": {
      "needs_background": "light"
     },
     "output_type": "display_data"
    }
   ],
   "source": [
    "loss, train_acc, val_acc = history_relu\n",
    "\n",
    "plt.rcParams['figure.figsize'] = [14, 3.5]\n",
    "plt.subplots_adjust(wspace=0.25)\n",
    "\n",
    "plt.subplot(121)\n",
    "plt.plot(loss)\n",
    "plt.xlabel('Epoch')\n",
    "plt.ylabel('training loss')\n",
    "plt.title('Training Loss history')\n",
    "\n",
    "plt.subplot(122)\n",
    "plt.plot(train_acc, label='train')\n",
    "plt.plot(val_acc, label='val')\n",
    "plt.legend()\n",
    "plt.xlabel('Epoch')\n",
    "plt.ylabel('Clasification accuracy')\n",
    "plt.title('Classification accuracy history')\n",
    "plt.show()"
   ]
  },
  {
   "cell_type": "markdown",
   "metadata": {},
   "source": [
    "---\n",
    "### c. Training Accuracy\n",
    "Calculate the train-validation accuracy"
   ]
  },
  {
   "cell_type": "code",
   "execution_count": 38,
   "metadata": {},
   "outputs": [
    {
     "name": "stdout",
     "output_type": "stream",
     "text": [
      "Training Accuracy = 39.42040816326531 %\n",
      "Training label  = [6 9 9 4 1 1 2 7 8 3 4 7 7 2 9]\n",
      "Predicted label = [6 1 9 6 8 1 4 7 0 7 4 7 9 3 7]\n"
     ]
    }
   ],
   "source": [
    "import sklearn\n",
    "from sklearn.metrics import accuracy_score\n",
    "\n",
    "y_pred = predict_multi_layer(X_train, W_relu, b_relu, act_f='relu')\n",
    "accuracy = sklearn.metrics.accuracy_score(y_train, y_pred)\n",
    "\n",
    "print('Training Accuracy =',accuracy*100,'%')\n",
    "\n",
    "print('Training label  =',y_train[:15])\n",
    "print('Predicted label =',y_pred[:15])"
   ]
  },
  {
   "cell_type": "code",
   "execution_count": 39,
   "metadata": {},
   "outputs": [
    {
     "name": "stdout",
     "output_type": "stream",
     "text": [
      "Validation Accuracy = 39.300000000000004 %\n",
      "Validation label = [8 9 4 9 0 5 0 8 2 3 7 8 9 4 5]\n",
      "Predicted label  = [8 3 8 7 1 6 0 8 7 3 7 1 9 8 7]\n"
     ]
    }
   ],
   "source": [
    "y_pred = predict_multi_layer(X_val, W_relu, b_relu, act_f='relu')\n",
    "accuracy = sklearn.metrics.accuracy_score(y_val, y_pred)\n",
    "print('Validation Accuracy =', accuracy*100,'%')\n",
    "\n",
    "print('Validation label =',y_val[:15])\n",
    "print('Predicted label  =',y_pred[:15])"
   ]
  },
  {
   "cell_type": "markdown",
   "metadata": {},
   "source": [
    "---\n",
    "## 3 - Comparison\n",
    "You should already be able to see the comparison, but let's visualize it anyway"
   ]
  },
  {
   "cell_type": "code",
   "execution_count": 40,
   "metadata": {},
   "outputs": [
    {
     "data": {
      "image/png": "[encoded data removed]",
      "text/plain": [
       "<Figure size 1008x252 with 2 Axes>"
      ]
     },
     "metadata": {
      "needs_background": "light"
     },
     "output_type": "display_data"
    }
   ],
   "source": [
    "loss_tanh, train_tanh, val_tanh = history_tanh\n",
    "loss_relu, train_relu, val_relu = history_relu\n",
    "\n",
    "plt.rcParams['figure.figsize'] = [14, 3.5]\n",
    "plt.subplots_adjust(wspace=0.25)\n",
    "\n",
    "plt.subplot(121)\n",
    "plt.plot(train_tanh, label='tanh')\n",
    "plt.plot(train_relu, label='relu')\n",
    "plt.legend()\n",
    "plt.xlabel('Epoch')\n",
    "plt.ylabel('acc')\n",
    "plt.title('Training Accuracy')\n",
    "\n",
    "plt.subplot(122)\n",
    "plt.plot(val_tanh, label='tanh')\n",
    "plt.plot(val_relu, label='relu')\n",
    "plt.legend()\n",
    "plt.xlabel('Epoch')\n",
    "plt.ylabel('acc')\n",
    "plt.title('Validation Accuracy')\n",
    "plt.show()"
   ]
  },
  {
   "cell_type": "markdown",
   "metadata": {},
   "source": [
    "---\n",
    "***\n",
    "#[Part 5] Deep Neural Network\n",
    "* In this part, we'll increase the network capacity by increasing the number of hidden layers\n",
    " \n",
    "* Like before, we'll try both **tanh** and **relu** activation function, then compare the results\n",
    " \n",
    "* And since we're using more layers, we'll train it a little bit longer"
   ]
  },
  {
   "cell_type": "markdown",
   "metadata": {},
   "source": [
    "---\n",
    "## 1 - Four Layer Tanh Network \n",
    "\n",
    "First one is four layer net using **tanh** activation function"
   ]
  },
  {
   "cell_type": "markdown",
   "metadata": {},
   "source": [
    "---\n",
    "### a. Train Network\n",
    "\n",
    "Use the Training Function and train a **three-hidden layer neural network** with **50 hidden neurons** each using **tanh** activation function"
   ]
  },
  {
   "cell_type": "code",
   "execution_count": 41,
   "metadata": {},
   "outputs": [
    {
     "name": "stdout",
     "output_type": "stream",
     "text": [
      "start training using tanh activation function\n",
      "iteration 100 (epoch 1 / 20 ): loss = 2.455320211135738\n",
      "iteration 200 (epoch 1 / 20 ): loss = 2.4493959471251614\n",
      "iteration 300 (epoch 2 / 20 ): loss = 2.4436465622842776\n",
      "iteration 400 (epoch 2 / 20 ): loss = 2.438471806291906\n",
      "iteration 500 (epoch 3 / 20 ): loss = 2.433707899930654\n",
      "iteration 600 (epoch 3 / 20 ): loss = 2.4289382132790798\n",
      "iteration 700 (epoch 3 / 20 ): loss = 2.4242649345489764\n",
      "iteration 800 (epoch 4 / 20 ): loss = 2.4201134471165022\n",
      "iteration 900 (epoch 4 / 20 ): loss = 2.4165454828064803\n",
      "iteration 1000 (epoch 5 / 20 ): loss = 2.4123355324227433\n",
      "iteration 1100 (epoch 5 / 20 ): loss = 2.408733028501676\n",
      "iteration 1200 (epoch 5 / 20 ): loss = 2.4053428323817596\n",
      "iteration 1300 (epoch 6 / 20 ): loss = 2.4022373042898226\n",
      "iteration 1400 (epoch 6 / 20 ): loss = 2.399087133028984\n",
      "iteration 1500 (epoch 7 / 20 ): loss = 2.396365724816792\n",
      "iteration 1600 (epoch 7 / 20 ): loss = 2.3935798358180866\n",
      "iteration 1700 (epoch 7 / 20 ): loss = 2.3909314913626445\n",
      "iteration 1800 (epoch 8 / 20 ): loss = 2.3886556445850307\n",
      "iteration 1900 (epoch 8 / 20 ): loss = 2.3860239458361088\n",
      "iteration 2000 (epoch 9 / 20 ): loss = 2.3840642615711896\n",
      "iteration 2100 (epoch 9 / 20 ): loss = 2.3818329022991462\n",
      "iteration 2200 (epoch 9 / 20 ): loss = 2.3800386490511634\n",
      "iteration 2300 (epoch 10 / 20 ): loss = 2.3779359577090893\n",
      "iteration 2400 (epoch 10 / 20 ): loss = 2.3762014161180596\n",
      "iteration 2500 (epoch 11 / 20 ): loss = 2.374210174638869\n",
      "iteration 2600 (epoch 11 / 20 ): loss = 2.37241211834914\n",
      "iteration 2700 (epoch 12 / 20 ): loss = 2.370466209278143\n",
      "iteration 2800 (epoch 12 / 20 ): loss = 2.369611194768942\n",
      "iteration 2900 (epoch 12 / 20 ): loss = 2.3678505222747512\n",
      "iteration 3000 (epoch 13 / 20 ): loss = 2.366190654474906\n",
      "iteration 3100 (epoch 13 / 20 ): loss = 2.364733316972623\n",
      "iteration 3200 (epoch 14 / 20 ): loss = 2.3638402713480176\n",
      "iteration 3300 (epoch 14 / 20 ): loss = 2.3622614355703524\n",
      "iteration 3400 (epoch 14 / 20 ): loss = 2.3609635747777897\n",
      "iteration 3500 (epoch 15 / 20 ): loss = 2.359780806699665\n",
      "iteration 3600 (epoch 15 / 20 ): loss = 2.3586073861678973\n",
      "iteration 3700 (epoch 16 / 20 ): loss = 2.3570562853220043\n",
      "iteration 3800 (epoch 16 / 20 ): loss = 2.3562502217193217\n",
      "iteration 3900 (epoch 16 / 20 ): loss = 2.354633581720249\n",
      "iteration 4000 (epoch 17 / 20 ): loss = 2.3535448904241947\n",
      "iteration 4100 (epoch 17 / 20 ): loss = 2.352572166794404\n",
      "iteration 4200 (epoch 18 / 20 ): loss = 2.35178453095624\n",
      "iteration 4300 (epoch 18 / 20 ): loss = 2.351448402379356\n",
      "iteration 4400 (epoch 18 / 20 ): loss = 2.349349823941927\n",
      "iteration 4500 (epoch 19 / 20 ): loss = 2.3497174468409794\n",
      "iteration 4600 (epoch 19 / 20 ): loss = 2.3472132247800426\n",
      "iteration 4700 (epoch 20 / 20 ): loss = 2.3464608987787883\n",
      "iteration 4800 (epoch 20 / 20 ): loss = 2.344700263574079\n",
      "iteration 4900 (epoch 20 / 20 ): loss = 2.3428688197089875\n",
      "Training done\n"
     ]
    }
   ],
   "source": [
    "hidden_size=[50, 50, 50]\n",
    "\n",
    "W_tanh_4, b_tanh_4, history_tanh_4 = train_multi_layer(\n",
    "    X_train, y_train, X_val, y_val, \n",
    "    hidden_size=hidden_size, \n",
    "    act_f = 'tanh',\n",
    "    std=1e-2, lr=1e-2,\n",
    "    lr_decay=0.95, reg=0.01, \n",
    "    epochs=20)"
   ]
  },
  {
   "cell_type": "markdown",
   "metadata": {},
   "source": [
    "---\n",
    "### b. Visualize Training\n",
    "Visualize the loss, and train-validation accuracy"
   ]
  },
  {
   "cell_type": "code",
   "execution_count": 42,
   "metadata": {},
   "outputs": [
    {
     "data": {
      "image/png": "[encoded data removed]",
      "text/plain": [
       "<Figure size 1008x252 with 2 Axes>"
      ]
     },
     "metadata": {
      "needs_background": "light"
     },
     "output_type": "display_data"
    }
   ],
   "source": [
    "loss, train_acc, val_acc = history_tanh_4\n",
    "\n",
    "plt.rcParams['figure.figsize'] = [14, 3.5]\n",
    "plt.subplots_adjust(wspace=0.25)\n",
    "\n",
    "plt.subplot(121)\n",
    "plt.plot(loss)\n",
    "plt.xlabel('Epoch')\n",
    "plt.ylabel('training loss')\n",
    "plt.title('Training Loss history')\n",
    "\n",
    "plt.subplot(122)\n",
    "plt.plot(train_acc, label='train')\n",
    "plt.plot(val_acc, label='val')\n",
    "plt.legend()\n",
    "plt.xlabel('Epoch')\n",
    "plt.ylabel('Clasification accuracy')\n",
    "plt.title('Classification accuracy history')\n",
    "plt.show()"
   ]
  },
  {
   "cell_type": "markdown",
   "metadata": {},
   "source": [
    "---\n",
    "### c. Training Accuracy\n",
    "Calculate the loss, and train-validation accuracy"
   ]
  },
  {
   "cell_type": "code",
   "execution_count": 43,
   "metadata": {},
   "outputs": [
    {
     "name": "stdout",
     "output_type": "stream",
     "text": [
      "Training Accuracy = 16.36122448979592 %\n",
      "Training label  = [6 9 9 4 1 1 2 7 8 3 4 7 7 2 9]\n",
      "Predicted label = [6 0 0 6 0 6 4 6 0 0 6 0 0 6 4]\n"
     ]
    }
   ],
   "source": [
    "import sklearn\n",
    "from sklearn.metrics import accuracy_score\n",
    "\n",
    "y_pred = predict_multi_layer(X_train, W_tanh_4, b_tanh_4, act_f='tanh')\n",
    "accuracy = sklearn.metrics.accuracy_score(y_train, y_pred)\n",
    "\n",
    "print('Training Accuracy =',accuracy*100,'%')\n",
    "\n",
    "print('Training label  =',y_train[:15])\n",
    "print('Predicted label =',y_pred[:15])"
   ]
  },
  {
   "cell_type": "code",
   "execution_count": 44,
   "metadata": {},
   "outputs": [
    {
     "name": "stdout",
     "output_type": "stream",
     "text": [
      "Validation Accuracy = 15.1 %\n",
      "Validation label = [8 9 4 9 0 5 0 8 2 3 7 8 9 4 5]\n",
      "Predicted label  = [0 0 0 4 4 6 4 0 4 4 6 0 0 0 0]\n"
     ]
    }
   ],
   "source": [
    "y_pred = predict_multi_layer(X_val, W_tanh_4, b_tanh_4, act_f = 'tanh')\n",
    "accuracy = sklearn.metrics.accuracy_score(y_val, y_pred)\n",
    "print('Validation Accuracy =', accuracy*100,'%')\n",
    "\n",
    "print('Validation label =',y_val[:15])\n",
    "print('Predicted label  =',y_pred[:15])"
   ]
  },
  {
   "cell_type": "markdown",
   "metadata": {},
   "source": [
    "---\n",
    "## 2 - Four Layer ReLU Network \n",
    "\n",
    "The next one is four layer net using relu activation function.\n",
    "\n",
    "You should see major improvement in accuracy when using more layer, aside from that it will also converge much faster compared to using tanh"
   ]
  },
  {
   "cell_type": "markdown",
   "metadata": {},
   "source": [
    "---\n",
    "### a. Train Network\n",
    "\n",
    "Use the Training Function and train a **three-hidden layer neural network** with **50 hidden neurons** each\n",
    "\n",
    "use the same parameter as before in **tanh**, but now using **relu** activation function"
   ]
  },
  {
   "cell_type": "code",
   "execution_count": 45,
   "metadata": {},
   "outputs": [
    {
     "name": "stdout",
     "output_type": "stream",
     "text": [
      "start training using relu activation function\n",
      "iteration 100 (epoch 1 / 20 ): loss = 2.453638350173356\n",
      "iteration 200 (epoch 1 / 20 ): loss = 2.428829180611445\n",
      "iteration 300 (epoch 2 / 20 ): loss = 2.2201260598771113\n",
      "iteration 400 (epoch 2 / 20 ): loss = 2.1328020872477835\n",
      "iteration 500 (epoch 3 / 20 ): loss = 2.0301698366065737\n",
      "iteration 600 (epoch 3 / 20 ): loss = 1.9374018767835421\n",
      "iteration 700 (epoch 3 / 20 ): loss = 1.9075352647748856\n",
      "iteration 800 (epoch 4 / 20 ): loss = 1.9135161816042112\n",
      "iteration 900 (epoch 4 / 20 ): loss = 1.9701511465536496\n",
      "iteration 1000 (epoch 5 / 20 ): loss = 1.700820370469351\n",
      "iteration 1100 (epoch 5 / 20 ): loss = 1.7220797678879527\n",
      "iteration 1200 (epoch 5 / 20 ): loss = 1.7367425730770483\n",
      "iteration 1300 (epoch 6 / 20 ): loss = 1.631367875894471\n",
      "iteration 1400 (epoch 6 / 20 ): loss = 1.7222895530516247\n",
      "iteration 1500 (epoch 7 / 20 ): loss = 1.5557108633196663\n",
      "iteration 1600 (epoch 7 / 20 ): loss = 1.6389473615999577\n",
      "iteration 1700 (epoch 7 / 20 ): loss = 1.6035974541955522\n",
      "iteration 1800 (epoch 8 / 20 ): loss = 1.5307971659371664\n",
      "iteration 1900 (epoch 8 / 20 ): loss = 1.5702614398483792\n",
      "iteration 2000 (epoch 9 / 20 ): loss = 1.5485145400844325\n",
      "iteration 2100 (epoch 9 / 20 ): loss = 1.5354757999857755\n",
      "iteration 2200 (epoch 9 / 20 ): loss = 1.5482407932576194\n",
      "iteration 2300 (epoch 10 / 20 ): loss = 1.5198147428377518\n",
      "iteration 2400 (epoch 10 / 20 ): loss = 1.6359429653405522\n",
      "iteration 2500 (epoch 11 / 20 ): loss = 1.4906892544967767\n",
      "iteration 2600 (epoch 11 / 20 ): loss = 1.42212343339852\n",
      "iteration 2700 (epoch 12 / 20 ): loss = 1.3761119375223576\n",
      "iteration 2800 (epoch 12 / 20 ): loss = 1.4463720386178869\n",
      "iteration 2900 (epoch 12 / 20 ): loss = 1.5150370900992973\n",
      "iteration 3000 (epoch 13 / 20 ): loss = 1.4942929586979534\n",
      "iteration 3100 (epoch 13 / 20 ): loss = 1.438224059286146\n",
      "iteration 3200 (epoch 14 / 20 ): loss = 1.383183395399009\n",
      "iteration 3300 (epoch 14 / 20 ): loss = 1.2415901850180555\n",
      "iteration 3400 (epoch 14 / 20 ): loss = 1.4306798285443747\n",
      "iteration 3500 (epoch 15 / 20 ): loss = 1.5018394966945983\n",
      "iteration 3600 (epoch 15 / 20 ): loss = 1.441744907256383\n",
      "iteration 3700 (epoch 16 / 20 ): loss = 1.376183368187125\n",
      "iteration 3800 (epoch 16 / 20 ): loss = 1.3924034210178602\n",
      "iteration 3900 (epoch 16 / 20 ): loss = 1.271829693325443\n",
      "iteration 4000 (epoch 17 / 20 ): loss = 1.4285549598802407\n",
      "iteration 4100 (epoch 17 / 20 ): loss = 1.2716739576705254\n",
      "iteration 4200 (epoch 18 / 20 ): loss = 1.358393183609978\n",
      "iteration 4300 (epoch 18 / 20 ): loss = 1.3096294813796743\n",
      "iteration 4400 (epoch 18 / 20 ): loss = 1.4150847526423855\n",
      "iteration 4500 (epoch 19 / 20 ): loss = 1.374803846675019\n",
      "iteration 4600 (epoch 19 / 20 ): loss = 1.4177334883768025\n",
      "iteration 4700 (epoch 20 / 20 ): loss = 1.4086152785538457\n",
      "iteration 4800 (epoch 20 / 20 ): loss = 1.239121347316353\n",
      "iteration 4900 (epoch 20 / 20 ): loss = 1.3608357738096082\n",
      "Training done\n"
     ]
    }
   ],
   "source": [
    "hidden_size=[50, 50, 50]\n",
    "W_relu_4, b_relu_4, history_relu_4 = train_multi_layer(\n",
    "    X_train, y_train, X_val, y_val, \n",
    "    hidden_size=hidden_size, \n",
    "    act_f = 'relu',\n",
    "    std=1e-2, lr=1e-2,\n",
    "    lr_decay=0.95, reg=0.01, \n",
    "    epochs=20)"
   ]
  },
  {
   "cell_type": "markdown",
   "metadata": {},
   "source": [
    "---\n",
    "### b. Visualize Training\n",
    "Visualize the loss, and train-validation accuracy"
   ]
  },
  {
   "cell_type": "code",
   "execution_count": 46,
   "metadata": {},
   "outputs": [
    {
     "data": {
      "image/png": "[encoded data removed]",
      "text/plain": [
       "<Figure size 1008x252 with 2 Axes>"
      ]
     },
     "metadata": {
      "needs_background": "light"
     },
     "output_type": "display_data"
    }
   ],
   "source": [
    "loss, train_acc, val_acc = history_relu_4\n",
    "\n",
    "plt.rcParams['figure.figsize'] = [14, 3.5]\n",
    "plt.subplots_adjust(wspace=0.2)\n",
    "\n",
    "plt.subplot(121)\n",
    "plt.plot(loss)\n",
    "plt.xlabel('Epoch')\n",
    "plt.ylabel('training loss')\n",
    "plt.title('Training Loss history')\n",
    "\n",
    "plt.subplot(122)\n",
    "plt.plot(train_acc, label='train')\n",
    "plt.plot(val_acc, label='val')\n",
    "plt.legend()\n",
    "plt.xlabel('Epoch')\n",
    "plt.ylabel('Clasification accuracy')\n",
    "plt.title('Classification accuracy history')\n",
    "plt.show()"
   ]
  },
  {
   "cell_type": "markdown",
   "metadata": {},
   "source": [
    "---\n",
    "### c. Training Accuracy\n",
    "Calculate the loss, and train-validation accuracy"
   ]
  },
  {
   "cell_type": "code",
   "execution_count": 47,
   "metadata": {},
   "outputs": [
    {
     "name": "stdout",
     "output_type": "stream",
     "text": [
      "Training Accuracy = 56.59591836734694 %\n",
      "Training label  = [6 9 9 4 1 1 2 7 8 3 4 7 7 2 9]\n",
      "Predicted label = [6 1 9 6 1 1 2 7 8 9 4 2 7 4 9]\n"
     ]
    }
   ],
   "source": [
    "import sklearn\n",
    "from sklearn.metrics import accuracy_score\n",
    "\n",
    "y_pred = predict_multi_layer(X_train, W_relu_4, b_relu_4, act_f='relu')\n",
    "accuracy = sklearn.metrics.accuracy_score(y_train, y_pred)\n",
    "\n",
    "print('Training Accuracy =',accuracy*100,'%')\n",
    "\n",
    "print('Training label  =',y_train[:15])\n",
    "print('Predicted label =',y_pred[:15])"
   ]
  },
  {
   "cell_type": "code",
   "execution_count": 48,
   "metadata": {},
   "outputs": [
    {
     "name": "stdout",
     "output_type": "stream",
     "text": [
      "Validation Accuracy = 51.2 %\n",
      "Validation label = [8 9 4 9 0 5 0 8 2 3 7 8 9 4 5]\n",
      "Predicted label  = [8 5 1 9 3 6 0 8 7 3 7 9 9 8 7]\n"
     ]
    }
   ],
   "source": [
    "y_pred = predict_multi_layer(X_val, W_relu_4, b_relu_4, act_f='relu')\n",
    "accuracy = sklearn.metrics.accuracy_score(y_val, y_pred)\n",
    "print('Validation Accuracy =', accuracy*100,'%')\n",
    "\n",
    "print('Validation label =',y_val[:15])\n",
    "print('Predicted label  =',y_pred[:15])"
   ]
  },
  {
   "cell_type": "markdown",
   "metadata": {},
   "source": [
    "---\n",
    "## 3 - Comparison\n",
    "You should already be able to see the comparison, but let's visualize it anyway"
   ]
  },
  {
   "cell_type": "code",
   "execution_count": 49,
   "metadata": {},
   "outputs": [
    {
     "data": {
      "image/png": "[encoded data removed]",
      "text/plain": [
       "<Figure size 1008x252 with 2 Axes>"
      ]
     },
     "metadata": {
      "needs_background": "light"
     },
     "output_type": "display_data"
    }
   ],
   "source": [
    "loss_tanh_4, train_tanh_4, val_tanh_4 = history_tanh_4\n",
    "loss_relu_4, train_relu_4, val_relu_4 = history_relu_4\n",
    "\n",
    "plt.rcParams['figure.figsize'] = [14, 3.5]\n",
    "plt.subplots_adjust(wspace=0.25)\n",
    "\n",
    "plt.subplot(121)\n",
    "plt.plot(train_tanh_4, label='tanh')\n",
    "plt.plot(train_relu_4, label='relu')\n",
    "plt.legend()\n",
    "plt.xlabel('Epoch')\n",
    "plt.ylabel('acc')\n",
    "plt.title('Training Accuracy')\n",
    "\n",
    "plt.subplot(122)\n",
    "plt.plot(val_tanh_4, label='tanh')\n",
    "plt.plot(val_relu_4, label='relu')\n",
    "plt.legend()\n",
    "plt.xlabel('Epoch')\n",
    "plt.ylabel('acc')\n",
    "plt.title('Validation Accuracy')\n",
    "plt.show()"
   ]
  },
  {
   "cell_type": "code",
   "execution_count": 50,
   "metadata": {},
   "outputs": [
    {
     "data": {
      "image/png": "[encoded data removed]",
      "text/plain": [
       "<Figure size 1008x576 with 4 Axes>"
      ]
     },
     "metadata": {
      "needs_background": "light"
     },
     "output_type": "display_data"
    }
   ],
   "source": [
    "plt.rcParams['figure.figsize'] = [14, 8]\n",
    "plt.subplots_adjust(wspace=0.25)\n",
    "plt.subplots_adjust(hspace=0.3)\n",
    "\n",
    "plt.subplot(221)\n",
    "plt.plot(train_tanh, label='tanh 1')\n",
    "plt.plot(train_tanh_4, label='tanh 4')\n",
    "plt.legend()\n",
    "plt.xlabel('Epoch')\n",
    "plt.ylabel('acc tanh')\n",
    "plt.ylim(.05,.4)\n",
    "plt.title('Training Accuracy')\n",
    "\n",
    "plt.subplot(222)\n",
    "plt.plot(val_tanh, label='tanh 1')\n",
    "plt.plot(val_tanh_4, label='tanh 4')\n",
    "plt.legend()\n",
    "plt.xlabel('Epoch')\n",
    "plt.ylabel('acc tanh')\n",
    "plt.ylim(.05,.4)\n",
    "plt.title('Validation Accuracy')\n",
    "\n",
    "plt.subplot(223)\n",
    "plt.plot(train_relu, label='relu 1')\n",
    "plt.plot(train_relu_4, label='relu 4')\n",
    "plt.legend()\n",
    "plt.xlabel('Epoch')\n",
    "plt.ylabel('acc relu')\n",
    "\n",
    "plt.subplot(224)\n",
    "plt.plot(val_relu, label='relu 1')\n",
    "plt.plot(val_relu_4, label='relu 4')\n",
    "plt.legend()\n",
    "plt.xlabel('Epoch')\n",
    "plt.ylabel('acc relu')\n",
    "\n",
    "plt.show()"
   ]
  },
  {
   "cell_type": "markdown",
   "metadata": {},
   "source": [
    "---\n",
    "***\n",
    "# [Part 6] Batch Normalization\n",
    "\n",
    "* One way to make deep networks easier to train is to use more sophisticated and advanced optimization procedures such as SGD+momentum, RMSProp, or Adam. Now we will talk about them later in the class.\n",
    "\n",
    "* Another strategy is to change the architecture of the network to make it easier to train. \n",
    "One idea along these lines is batch normalization which was proposed by [[1]](https://arxiv.org/abs/1502.03167) in 2015.\n",
    "\n",
    "<br>\n",
    "\n",
    "* The idea is relatively straightforward. Machine learning methods tend to work better when their input data consists of uncorrelated features with zero mean and unit variance. When training a neural network, we can preprocess the data before feeding it to the network to explicitly decorrelate its features; this will ensure that the first layer of the network sees data that follows a nice distribution. \n",
    "\n",
    "* However, even if we preprocess the input data, the activations at deeper layers of the network will likely no longer be decorrelated and will no longer have zero mean or unit variance since they are output from earlier layers in the network. Even worse, during the training process the distribution of features at each layer of the network will shift as the weights of each layer are updated.\n",
    "\n",
    "<br>\n",
    "\n",
    "* Now let's see the result of Deep Network without Batch Normalization\n",
    "\n",
    "[1] [Sergey Ioffe and Christian Szegedy, \"Batch Normalization: Accelerating Deep Network Training by Reducing\n",
    "Internal Covariate Shift\", ICML 2015.](https://arxiv.org/abs/1502.03167)"
   ]
  },
  {
   "cell_type": "markdown",
   "metadata": {},
   "source": [
    "---\n",
    "## 1 - Weight Distribution without BatchNorm\n",
    "\n",
    "Let's build a `5-Layered Neural Network` with 500 hidden neuron each. Then we feed a random data. \n",
    "\n",
    "You'll see that the activation distribution for each layer will plummet as the activation in each layer are not zero-centered"
   ]
  },
  {
   "cell_type": "code",
   "execution_count": 51,
   "metadata": {},
   "outputs": [],
   "source": [
    "Hs = {}\n",
    "X = np.random.randn(1000, 500)\n",
    "\n",
    "d_in =500\n",
    "hidden=[500, 500, 500, 500]\n",
    "d_out=500\n",
    "W, b = init_weights(d_in, hidden, d_out)\n",
    "\n",
    "a = X\n",
    "for i in range(len(W)):\n",
    "    z, _ = affine_forward(a, W[i], b[i])\n",
    "    a, _ = tanh_forward(z)\n",
    "    Hs[i] = a"
   ]
  },
  {
   "cell_type": "markdown",
   "metadata": {},
   "source": [
    "Now let's see the activation distribution as we calculate the forward pass"
   ]
  },
  {
   "cell_type": "code",
   "execution_count": 52,
   "metadata": {},
   "outputs": [
    {
     "name": "stdout",
     "output_type": "stream",
     "text": [
      "input layer had meann 0.000329 and std 0.999492\n",
      "hidden layer 1 had mean -0.000156 and std 0.213745\n",
      "hidden layer 2 had mean 0.000109 and std 0.047674\n",
      "hidden layer 3 had mean 0.000006 and std 0.010639\n",
      "hidden layer 4 had mean -0.000001 and std 0.002377\n",
      "hidden layer 5 had mean -0.000001 and std 0.000532\n",
      "\n"
     ]
    },
    {
     "data": {
      "image/png": "[encoded data removed]",
      "text/plain": [
       "<Figure size 1008x216 with 2 Axes>"
      ]
     },
     "metadata": {
      "needs_background": "light"
     },
     "output_type": "display_data"
    },
    {
     "name": "stdout",
     "output_type": "stream",
     "text": [
      "\n",
      "\n",
      "Activation Distribution\n"
     ]
    },
    {
     "data": {
      "image/png": "[encoded data removed]",
      "text/plain": [
       "<Figure size 1008x216 with 5 Axes>"
      ]
     },
     "metadata": {
      "needs_background": "light"
     },
     "output_type": "display_data"
    }
   ],
   "source": [
    "print('input layer had meann %f and std %f' % (np.mean(X), np.std(X)))\n",
    "layer_means = [np.mean(H) for i, H in Hs.items()]\n",
    "layer_stds = [np.std(H) for i, H in Hs.items()]\n",
    "for i, H in Hs.items():\n",
    "    print ('hidden layer %d had mean %f and std %f' % (i + 1, layer_means[i], layer_stds[i]))\n",
    "\n",
    "print()\n",
    "plt.figure(figsize=(14,3))\n",
    "plt.subplot(121)\n",
    "plt.plot(list(Hs.keys()), layer_means, 'ob-')\n",
    "plt.title('layer mean')\n",
    "plt.subplot(122)\n",
    "plt.plot(list(Hs.keys()), layer_stds, 'or-')\n",
    "plt.title('layer std')\n",
    "plt.show()\n",
    "\n",
    "\n",
    "print('\\n\\nActivation Distribution')\n",
    "plt.figure(figsize=(14,3))\n",
    "for i, H in Hs.items():\n",
    "    plt.subplot(1, len(Hs), i + 1)\n",
    "    plt.hist(H.ravel(), 30, range=(-1, 1))\n",
    "plt.show()"
   ]
  },
  {
   "cell_type": "markdown",
   "metadata": {},
   "source": [
    "---\n",
    "##2 - BatchNorm Forward (Math)\n",
    "\n",
    "* The authors of [1] hypothesize that the shifting distribution of features inside deep neural networks may make training deep networks more difficult. To overcome this problem, [1] proposes to insert batch normalization layers into the network. At training time, a batch normalization layer uses a minibatch of data to estimate the mean and standard deviation of each feature. \n",
    "* These estimated means and standard deviations are then used to center and normalize the features of the minibatch.\n",
    "<br>\n",
    "\n",
    "* It is possible that this normalization strategy could reduce the representational power of the network, since it may sometimes be optimal for certain layers to have features that are not zero-mean or unit variance. \n",
    "* To this end, the batch normalization layer includes learnable shift and scale parameters for each feature dimension.\n",
    "\n",
    "<br>\n",
    "\n",
    "You can see in [here](http://kratzert.github.io/2016/02/12/understanding-the-gradient-flow-through-the-batch-normalization-layer.html) to get the basic idea of how forward and backward pass in Batch Normalization is done\n",
    "\n",
    "![batchnorm](http://kratzert.github.io/images/bn_backpass/BNcircuit.png)"
   ]
  },
  {
   "cell_type": "markdown",
   "metadata": {},
   "source": [
    "---\n",
    "\n",
    "### a. Forward Train in Steps\n",
    "For the convenience in calculating Batch Norm Backward Pass, we split the forward implementation into **9 steps** to get all the necessary intermediate value\n",
    "See the table below to track the steps\n",
    "\n",
    "<table>\n",
    "    <tr align='left'>\n",
    "        <td>(1) Mini-batch Mean</td>\n",
    "        <td>|<br>|</td>\n",
    "        <td align='left'>\n",
    "        $$\n",
    "        \\begin{align}\n",
    "        \\mu B = \\frac{1}{N} \\sum\\limits_{i=1}^{N} x_i \\\\\n",
    "        \\end{align}\n",
    "        $$</td>\n",
    "        <td>|<br>|</td>\n",
    "        <td>\n",
    "        $$\n",
    "        \\begin{align}\n",
    "        mu = \\frac{1}{N} * sum( x ) \\\\\n",
    "        \\end{align}\n",
    "        $$</td>\n",
    "    </tr>\n",
    "    <tr align='left'>\n",
    "        <td>(2-4) Mini-batch Variance</td>\n",
    "        <td>|<br>|</td>\n",
    "        <td align=\"left\">\n",
    "        $$\n",
    "        \\begin{align*}        \n",
    "        \\sigma^2_B = \\frac{1}{N} \\sum\\limits_{i=1}^{N}(x_i-\\mu B)^2\\\\\n",
    "        \\end{align*}\n",
    "        $$</td>\n",
    "        <td>|<br>|</td>\n",
    "        <td align=\"left\">    \n",
    "        $$\n",
    "        \\begin{align}\n",
    "        xmu & = x-mu\\\\\n",
    "        xmq & = xmu^2 \\\\\n",
    "        variance & = \\frac{1}{N} * sum( xmq )\\\\\n",
    "        \\end{align}\n",
    "        $$</td>\n",
    "    </tr>\n",
    "    <tr align=\"left\">\n",
    "        <td>(5-7) Normalize</td>\n",
    "        <td>|<br>|</td>\n",
    "        <td align=\"left\">\n",
    "        $$\n",
    "        \\begin{align*}        \n",
    "        \\widehat{x_i} & = \\frac{x_i-\\mu B}{\\sqrt{\\sigma^2_B+\\epsilon}}\n",
    "        \\end{align*}\n",
    "        $$</td>\n",
    "        <td>|<br>|</td>\n",
    "        <td align=\"left\">    \n",
    "        $$\n",
    "        \\begin{align}\n",
    "        sqrt\\_var & = \\sqrt{variance + \\epsilon}\\\\\n",
    "        inv\\_var & = \\frac{1}{sqrt\\_var}\\\\\n",
    "        x\\_norm & = xmu * inv\\_var\\\\\n",
    "        \\end{align}\n",
    "        $$</td>\n",
    "    </tr>\n",
    "    <tr align=\"left\">\n",
    "        <td>(8-9) Scale and Shift</td>\n",
    "        <td>|<br>|</td>\n",
    "        <td align=\"left\">\n",
    "        $$\n",
    "        \\begin{align*}        \n",
    "        y_i & = \\gamma\\widehat{x_i}+\\beta\n",
    "        \\end{align*}\n",
    "        $$</td>\n",
    "        <td>|<br>|</td>\n",
    "        <td align=\"left\">           \n",
    "        $$\n",
    "        \\begin{align*}        \n",
    "        x\\_gamma & = gamma*x\\_norm\\\\\n",
    "        out & = x\\_gamma+beta\n",
    "        \\end{align*}\n",
    "        $$</td>\n",
    "    </tr>\n",
    "</table>"
   ]
  },
  {
   "cell_type": "markdown",
   "metadata": {},
   "source": [
    "---\n",
    "### b. Running Average and Variance\n",
    "\n",
    "BatchNorm estimated means and standard deviations of all training data based on current batch of data. But the minibatch may not represent all training data. \n",
    "\n",
    "To compensate this, a running average of these means and standard deviations is kept during training, and at test time these running averages are used to center and normalize features.\n",
    "      \n",
    "<table>\n",
    "    <tr align=\"left\">\n",
    "        <td>Running Mean</td>\n",
    "        <td>|<br>|</td>\n",
    "        <td align=\"left\">\n",
    "        $$\n",
    "        \\begin{align}\n",
    "        M\\mu B =\\ & m * M\\mu B\\\\ & +(1-m)*\\mu B\\\\\n",
    "        \\end{align}\n",
    "        $$</td>\n",
    "        <td>|<br>|</td>\n",
    "        <td align=\"left\">\n",
    "        $$\n",
    "        \\begin{align}\n",
    "        rn\\_mean =\\ & momentum * rn\\_mean \\\\& +(1-momentum)*mu\\\\\n",
    "        \\end{align}\n",
    "        $$</td>\n",
    "    </tr>\n",
    "    <tr align=\"left\">\n",
    "        <td>Running Variance</td>\n",
    "        <td>|<br>|</td>\n",
    "        <td align=\"left\">\n",
    "        $$\n",
    "        \\begin{align}\n",
    "        M\\sigma^2_B =\\ & m * M\\sigma^2_B\\\\& +(1-m)*\\sigma^2_B\\\\\n",
    "        \\end{align}\n",
    "        $$</td>\n",
    "        <td>|<br>|</td>\n",
    "        <td align=\"left\">\n",
    "        $$\n",
    "        \\begin{align}\n",
    "        rn\\_var =\\ & momentum * rn\\_var\\\\& +(1-momentum)*var\\\\\n",
    "        \\end{align}\n",
    "        $$</td>\n",
    "    </tr>\n",
    "</table>"
   ]
  },
  {
   "cell_type": "markdown",
   "metadata": {},
   "source": [
    "---\n",
    "### c. Forward Testing\n",
    "At test time, BatchNorm will scale and shift the batch of testing data using the final running mean and running average acieved during training\n",
    "\n",
    "      \n",
    "<table>\n",
    "    <tr align=left>\n",
    "        <td>Calculate Normalized $x$<br> based on running mean and variance</td>\n",
    "        <td>|<br>|</td>\n",
    "        <td align=\"left\">\n",
    "        $$\n",
    "        \\begin{align}\n",
    "        \\widehat{x_i} & = \\frac{x_i-M\\mu B}{\\sqrt{M\\sigma^2_B+\\epsilon}} \\\\\n",
    "        \\end{align}\n",
    "        $$</td>\n",
    "    </tr>\n",
    "    <tr align=left>\n",
    "        <td>Scale and Shift</td>\n",
    "        <td>|<br>|</td>\n",
    "        <td align=\"left\">\n",
    "        $$\n",
    "        \\begin{align}\n",
    "        y_i & = \\gamma\\widehat{x_i}+\\beta\n",
    "        \\end{align}\n",
    "        $$</td>\n",
    "    </tr>\n",
    "</table>"
   ]
  },
  {
   "cell_type": "markdown",
   "metadata": {},
   "source": [
    "---\n",
    "##3 - BatchNorm Forward API"
   ]
  },
  {
   "cell_type": "markdown",
   "metadata": {},
   "source": [
    "---\n",
    "### a. Forward Function\n",
    "Now implement both the maths of training and testing batchnorm above in a complete forward function"
   ]
  },
  {
   "cell_type": "code",
   "execution_count": 53,
   "metadata": {},
   "outputs": [],
   "source": [
    "def batchnorm_forward(x, gamma, beta, bn_arg):\n",
    "    \"\"\"\n",
    "    Proses Forward Pass untuk Batch Normalization.\n",
    "    \n",
    "    Inputs:\n",
    "    - x             : input matrix data berukuran (N, D)\n",
    "    - gamma         : vektor parameter skala (scale parameter) berukuran (D,)\n",
    "    - beta          : vektor parameter pergeseran (shift paremeter) berukuran (D,)\n",
    "    - bn_arg        : Dictionary berisi parameter-parameter perhitungan dengan indeks keys sbb:\n",
    "      - mode        : 'train' atau 'test'; mode proses yang dapat dipilih; required\n",
    "      - eps         : konstanta untuk menjaga stabilitas nilai perhitungan (numerical stability)\n",
    "      - momentum    : konstanta untuk perhitungan running mean / variance.\n",
    "      - running_mean: Array berukuran (D,) berisi nilai running mean dari fitur input\n",
    "      - running_var : Array berukuran (D,) berisi nilai running variance dari fitur input\n",
    "\n",
    "    Return sebuah tuple berisi:\n",
    "    - out   : matrix output berukuran (N, D)\n",
    "    - cache : sebuah tuple berisi nilai-nilai yang dibutuhkan untuk backward pass\n",
    "    \"\"\"\n",
    "    \n",
    "    mode     = bn_arg['mode']\n",
    "    eps      = bn_arg.get('eps', 1e-5)\n",
    "    momentum = bn_arg.get('momentum', 0.9)\n",
    "\n",
    "    N, D         = x.shape\n",
    "    running_mean = bn_arg.get('running_mean', np.zeros(D, dtype=x.dtype))\n",
    "    running_var  = bn_arg.get('running_var', np.zeros(D, dtype=x.dtype))\n",
    "\n",
    "    out, cache = None, None\n",
    "    if mode == 'train':\n",
    "        \n",
    "        # Step 1: calculate mu, use np.sum with axis=0\n",
    "        # resulting shape of mu (D,)\n",
    "        mu = 1/N * np.sum(x, axis=0)\n",
    "\n",
    "        # Step 2: mean center x\n",
    "        # resulting shape of var (N,D)\n",
    "        xmu = x-mu\n",
    "\n",
    "        # Step 3: calculate square of mean center\n",
    "        # resulting shape of xmq (N,D)\n",
    "        xmq = xmu**2\n",
    "\n",
    "        # Step 4: calculate variance, use np.sum with axis=0\n",
    "        # resulting shape of var (D,)\n",
    "        var = 1/N * np.sum(xmq, axis=0)\n",
    "\n",
    "        # Step 5: calculate square root of variance, \n",
    "        # add epsilon to prevent division by zero\n",
    "        # resulting shape sqrt_var (D,)\n",
    "        sqrt_var = np.sqrt(var+eps)\n",
    "\n",
    "        # Step 6: calculate inverse sqrt_var\n",
    "        # resulting shape inv_var (D,)\n",
    "        inv_var = 1/sqrt_var\n",
    "        \n",
    "        # Step 7: normalize x        \n",
    "        # resulting shape x_norm (N,D)\n",
    "        x_norm = xmu * inv_var\n",
    "\n",
    "        # Step 8: scale (multiply) x_norm by gamma\n",
    "        # resulting shape out (N,D)\n",
    "        x_gamma = gamma * x_norm\n",
    "        \n",
    "        # Step 9: shift (add) x_gamma by beta\n",
    "        # resulting shape out (N,D)\n",
    "        out = x_gamma + beta\n",
    "        \n",
    "\n",
    "        # Step 10: calculate running mean and average\n",
    "        running_mean = momentum * running_mean + (1 - momentum) * mu\n",
    "        running_var  = momentum * running_var + (1 - momentum) * var\n",
    "        \n",
    "        # store the necessary intermediate\n",
    "        cache = (mu, xmu, xmq, var, sqrt_var, inv_var, x_norm, x_gamma, gamma, beta, x,  bn_arg)\n",
    "\n",
    "    elif mode == 'test':\n",
    "        running_mean = bn_arg['running_mean']\n",
    "        running_var = bn_arg['running_var']\n",
    "        \n",
    "        # Step 1: normalize x   \n",
    "        # subtract by running_mean, \n",
    "        # and divide by square root of running_var (add epsilon to prevent division by zero)\n",
    "        # resulting shape x_norm (N,D)\n",
    "        x_norm = (x - running_mean) / np.sqrt(running_var + eps)\n",
    "                \n",
    "        # Step 2: Scaly by gamma and shift by beta\n",
    "        # resulting shape out (N,D)\n",
    "        out = gamma * x_norm + beta\n",
    "        \n",
    "    else:\n",
    "        raise ValueError('Invalid forward batchnorm mode \"%s\"' % mode)\n",
    "\n",
    "    # Store the updated running means back into bn_arg\n",
    "    bn_arg['running_mean'] = running_mean\n",
    "    bn_arg['running_var']  = running_var\n",
    "\n",
    "    return out, cache\n"
   ]
  },
  {
   "cell_type": "markdown",
   "metadata": {},
   "source": [
    "---\n",
    "### b. Check BatchNorm Forward Train\n",
    "Check your implementation"
   ]
  },
  {
   "cell_type": "code",
   "execution_count": 54,
   "metadata": {},
   "outputs": [
    {
     "name": "stdout",
     "output_type": "stream",
     "text": [
      "Before batch normalization:\n",
      "  means:  [-32.913745   14.1273126  -7.7720162]\n",
      "  stds :  [40.1508681 37.4447318 33.7706377]\n"
     ]
    }
   ],
   "source": [
    "np.random.seed(35)\n",
    "N = 200\n",
    "d_in =50\n",
    "hidden=[60]\n",
    "d_out=3\n",
    "\n",
    "W, b = init_weights(d_in, hidden, d_out, std=1, seed=35)\n",
    "x = np.random.randn(N, d_in)\n",
    "a = np.maximum(0, x.dot(W[0])).dot(W[1])\n",
    "\n",
    "print('Before batch normalization:')\n",
    "print('  means: ', a.mean(axis=0))\n",
    "print('  stds : ', a.std(axis=0))"
   ]
  },
  {
   "cell_type": "code",
   "execution_count": 55,
   "metadata": {},
   "outputs": [
    {
     "name": "stdout",
     "output_type": "stream",
     "text": [
      "After batch normalization (gamma=1, beta=0)\n",
      "  mean:  [ 4.7910894e-16 -1.4765966e-16  1.6459056e-16]\n",
      "  std :  [1. 1. 1.]\n"
     ]
    }
   ],
   "source": [
    "# Nilai rata-rata (means) seharusnya mendekati 0\n",
    "# dan standar deviasi (stds) mendekati 1\n",
    "\n",
    "print('After batch normalization (gamma=1, beta=0)')\n",
    "a_norm, _ = batchnorm_forward(a, np.ones(d_out), np.zeros(d_out), {'mode': 'train'})\n",
    "print('  mean: ', a_norm.mean(axis=0))\n",
    "print('  std : ', a_norm.std(axis=0))"
   ]
  },
  {
   "cell_type": "markdown",
   "metadata": {},
   "source": [
    "Check with different `gamma` and `beta` for each dimension"
   ]
  },
  {
   "cell_type": "code",
   "execution_count": 56,
   "metadata": {},
   "outputs": [
    {
     "name": "stdout",
     "output_type": "stream",
     "text": [
      "After batch normalization (nontrivial gamma, beta)\n",
      "  means:  [11. 12. 13.]\n",
      "  stds :  [1. 2. 3.]\n"
     ]
    }
   ],
   "source": [
    "# Kini nilai rata-rata (means) seharusnya mendekati nilai beta\n",
    "# dan standar deviasi (stds) mendekati gamma\n",
    "\n",
    "gamma = np.asarray([1.0, 2.0, 3.0])\n",
    "beta = np.asarray([11.0, 12.0, 13.0])\n",
    "a_norm, _ = batchnorm_forward(a, gamma, beta, {'mode': 'train'})\n",
    "print ('After batch normalization (nontrivial gamma, beta)')\n",
    "print ('  means: ', a_norm.mean(axis=0))\n",
    "print ('  stds : ', a_norm.std(axis=0))"
   ]
  },
  {
   "cell_type": "markdown",
   "metadata": {},
   "source": [
    "---\n",
    "### c. Check BatchNorm Forward Test\n",
    "Check forward pass in batchnorm in testing-time. First run forward batchnorm training several times to warm up (accumulate) the running mean and variance, then check the testing activation"
   ]
  },
  {
   "cell_type": "code",
   "execution_count": 57,
   "metadata": {},
   "outputs": [],
   "source": [
    "# Periksa proses forward pass pada saat testing-time dengan menjalankan\n",
    "# proses forward pass training beberapa kali untuk mengakumulasi nilai\n",
    "# running average, kemudian periksa hasil nilai aktivasi means dan varians\n",
    "# setelah proses forward pass testing-time\n",
    "\n",
    "np.random.seed(45)\n",
    "W, b = init_weights(d_in, hidden, d_out, std=1, seed=45)\n",
    "\n",
    "gamma = np.ones(d_out)\n",
    "beta = np.zeros(d_out)\n",
    "    \n",
    "bn_arg = {'mode': 'train'}    \n",
    "for t in range(50):\n",
    "    x = np.random.randn(N, d_in)\n",
    "    a = np.maximum(0, x.dot(W[0])).dot(W[1])\n",
    "    batchnorm_forward(a, gamma, beta, bn_arg)"
   ]
  },
  {
   "cell_type": "markdown",
   "metadata": {},
   "source": [
    "switch batchnorm to testing"
   ]
  },
  {
   "cell_type": "code",
   "execution_count": 58,
   "metadata": {},
   "outputs": [
    {
     "name": "stdout",
     "output_type": "stream",
     "text": [
      "After batch normalization (test-time):\n",
      "  means:  [0.0044162 0.0420161 0.1427807]\n",
      "  stds :  [0.9847371 0.9425361 1.0175674]\n"
     ]
    }
   ],
   "source": [
    "bn_arg['mode'] = 'test'\n",
    "\n",
    "np.random.seed(45)\n",
    "x = np.random.randn(N, d_in)\n",
    "a = np.maximum(0, x.dot(W[0])).dot(W[1])\n",
    "a_norm, _ = batchnorm_forward(a, gamma, beta, bn_arg)\n",
    "\n",
    "# Hasil nilai rata-rata (means) harusnya akan berkisar nol,\n",
    "# dan nilai standar deviasi (std) harusnya berkisar satu\n",
    "# namun akan terlihat bernilai lebih \"kasar\" (noisy)\n",
    "# dibandingkan hasil mean dan std pada saat forward pass training-time\n",
    "print ('After batch normalization (test-time):')\n",
    "print ('  means: ', a_norm.mean(axis=0))\n",
    "print ('  stds : ', a_norm.std(axis=0))"
   ]
  },
  {
   "cell_type": "markdown",
   "metadata": {},
   "source": [
    "---\n",
    "## 4 - BatchNorm Backward (Math)\n",
    "\n",
    "Again, let's see the gradient flow of Batch Normalization\n",
    "\n",
    "![batchnorm](http://kratzert.github.io/images/bn_backpass/BNcircuit.png)"
   ]
  },
  {
   "cell_type": "markdown",
   "metadata": {},
   "source": [
    "---\n",
    "### a. BatchNorm Backward Pass\n",
    "From the intermediate values, we backtrack using chain rule to calculate the gradient of `x`, `gamma`, and `beta`\n",
    "\n",
    "The full implementation of Batch Norm Gradient is as follow:\n",
    "\n",
    "\n",
    "<table width=700>\n",
    "  <tr>\n",
    "    <td width=100>$$\\begin{align*} \\partial\\beta & = \\end{align*} $$</td>\n",
    "    <td>$$\n",
    "\\begin{align*}     \n",
    "\\sum\\limits_{i=1}^N\\partial out \n",
    "\\end{align*}$$</td>\n",
    "  </tr>\n",
    "  <tr>\n",
    "    <td>$$\\begin{align*} \\partial\\gamma & = \\end{align*} $$ </td>\n",
    "    <td>$$\n",
    "\\begin{align*}     \n",
    "\\sum\\limits_{i=1}^N\\partial out * \\widehat{x_i}\n",
    "\\end{align*}$$</td>\n",
    "  </tr>\n",
    "  <tr>\n",
    "    <td>$$\\begin{align*} \\partial x_i = \\end{align*} $$ </td>\n",
    "    <td>$$\\begin{align*}  \n",
    "\\frac{\\gamma}{N*\\sqrt{\\sigma^2_B+\\epsilon}} * \\Bigg( \\big(N*\\partial out\\big) - \\left(\\sum\\limits_{i=1}^{N}\\partial out\\right)-\\left(\\frac{x_i-\\mu B}{\\sigma^2_B+\\epsilon}*\\sum\\limits_{i=1}^{N}\\big(\\partial out*(x_i-\\mu B)\\big)\\right)\\Bigg)\n",
    "\\end{align*}\n",
    "$$</td>\n",
    "  </tr>\n",
    "</table>\n"
   ]
  },
  {
   "cell_type": "markdown",
   "metadata": {},
   "source": [
    "---\n",
    "\n",
    "### b. BatchNorm Backward in Steps\n",
    "But for convenience, we split the implementation, match to the forward pass, into `9 steps`"
   ]
  },
  {
   "cell_type": "markdown",
   "metadata": {},
   "source": [
    "See the table below to track the steps\n",
    "\n",
    "<table>\n",
    "    <tr align=\"left\">\n",
    "        <td>(9) Scale and Shift</td>\n",
    "        <td>|<br>|<br>|<br>|<br>|<br>|</td>\n",
    "        <td align='center'>\n",
    "        $$\n",
    "        \\begin{align*}     \n",
    "        \\partial\\beta & = \\sum\\limits_{i=1}^N\\partial out   \\\\\n",
    "        \\partial\\gamma & = \\sum\\limits_{i=1}^N(\\partial out * \\widehat{x_i})\\\\\n",
    "        \\end{align*}\n",
    "        $$</td>\n",
    "        <td>|<br>|<br>|<br>|<br>|<br>|</td>\n",
    "        <td align=\"left\">           \n",
    "        $$\n",
    "        \\begin{align*}        \n",
    "        & dbeta & = & \\ \\ sum(dout) \\\\\\\\\n",
    "        & dgamma & = & \\ \\ sum(x\\_norm * dout)\n",
    "        \\end{align*}\n",
    "        $$</td>\n",
    "    </tr>\n",
    "    <tr align=\"left\">\n",
    "        <td>(6-8) Normalize</td>\n",
    "        <td>|<br>|<br>|<br>|<br>|<br>|<br>|<br>|<br>|<br>|<br>|<br>|</td>\n",
    "        <td align=\"left\">\n",
    "        $$\n",
    "        \\begin{align*} \n",
    "        \\\\\n",
    "\t\t\\partial\\widehat{x_i} & = \\gamma * \\partial out\\\\\n",
    "\t\t\\\\\n",
    "\t\t\\partial\\left(\\frac{1}{\\sqrt{\\sigma^2 B+\\epsilon}}\\right) & = \\sum\\limits_{i=1}^{N}( (x_i-\\mu B) * \\partial\\widehat{x_i} )\\\\\n",
    "\t\t\\\\\n",
    "\t\t\\partial(x_i-\\mu B) & = \\frac{1}{\\sqrt{\\sigma^2_B+\\epsilon}}*\\partial\\widehat{x_i}\\\\\n",
    "\t\t\\partial\\left(\\sqrt{\\sigma^2 B+\\epsilon}\\right) & = -\\frac{1}{\\sigma^2_B+\\epsilon}* \\partial\\left(\\frac{1}{\\sqrt{\\sigma^2_B+\\epsilon}}\\right)\n",
    "        \\end{align*}\n",
    "        $$</td>\n",
    "        <td>|<br>|<br>|<br>|<br>|<br>|<br>|<br>|<br>|<br>|<br>|<br>|</td>\n",
    "        <td align=\"left\">    \n",
    "        $$\n",
    "        \\begin{align*}\n",
    "\t\t& dx\\_norm & = & \\ \\ gamma * dout\\\\\\\\\n",
    "\t\t& dinv\\_var & = & \\ \\ sum( xmu * dx\\_norm )\\\\\\\\\n",
    "\t\t& dxmu & = & \\ \\ inv\\_var * dx\\_norm\\\\\\\\\n",
    "\t\t& dsqrt\\_var & = & \\ \\ \\frac{-1}{ sqrt\\_var^2} * dinv\\_var\n",
    "        \\end{align*}\n",
    "        $$</td>\n",
    "    </tr>\n",
    "    <tr align=\"left\">\n",
    "        <td>(3-5) Mini-batch Variance</td>\n",
    "        <td>|<br>|<br>|<br>|<br>|<br>|<br>|<br>|<br>|<br>|</td>\n",
    "        <td align=\"left\">\n",
    "        $$\n",
    "        \\begin{align*} \n",
    "        \\\\\n",
    "\t\t\\partial\\left(\\sigma^2_B\\right) =\\ \\ & \\frac{1}{2\\sqrt{\\sigma^2_B + \\epsilon}} *  \\partial\\left(\\sqrt{\\sigma^2 B+\\epsilon}\\right)\\\\\n",
    "\t\t\\\\\n",
    "\t\t\\partial \\big((x_i-\\mu B)^2\\big) =\\ \\ & \\frac{1}{N} * \\partial\\left(\\sigma^2_B\\right)\\\\\n",
    "\t\t\\\\\n",
    "\t\t\\partial(x_i-\\mu B) =\\ \\ & \\partial (x_i-\\mu B) +  2 * (x_i-\\mu B)\\\\\\\\& * \\partial \\big((x_i-\\mu B)^2\\big)\\\\\\\\\n",
    "        \\end{align*}\n",
    "        $$</td>\n",
    "        <td>|<br>|<br>|<br>|<br>|<br>|<br>|<br>|<br>|<br>|</td>\n",
    "        <td align=\"left\">    \n",
    "        $$\n",
    "        \\begin{align*}\n",
    "\t\t& dvar & = &\\ \\ \\frac{1}{2 \\sqrt{var + \\epsilon}}  * dsqrt\\_var\\\\\\\\\n",
    "\t\t& dxmq & = &\\ \\ \\frac{1}{N} * temp_{xmq} * dvar\\\\\\\\\n",
    "\t\t& dxmu & = &\\ \\ dxmu + 2 * xmu * dxmq\n",
    "        \\end{align*}\n",
    "        $$</td>\n",
    "    </tr>\n",
    "    <tr align=left>\n",
    "        <td>(1-2) Mini-batch Mean</td>\n",
    "        <td>|<br>|<br>|<br>|<br>|<br>|</td>\n",
    "        <td align=\"left\">\n",
    "        $$\n",
    "        \\begin{align*}\n",
    "\t\t\\partial\\mu B & = -\\sum\\limits_{i=1}^{N}\\left(\\partial(x_i-\\mu B)\\right)\\\\\\\\\n",
    "\t\t\\partial x_i & = \\partial(x_i-\\mu B) + \\frac{1}{N} *  \\partial\\mu B\n",
    "        \\end{align*}\n",
    "        $$</td>\n",
    "        <td>|<br>|<br>|<br>|<br>|<br>|</td>\n",
    "        <td>\n",
    "        $$\n",
    "        \\begin{align*}\n",
    "\t\t& dmu & = &\\ \\ -sum(dxmu)\\\\\\\\\n",
    "\t\t& dx & = &\\ \\ dxmu + \\frac{1}{N} * temp_{dx} * dmu\n",
    "        \\end{align*}\n",
    "        $$</td>\n",
    "    </tr>\n",
    "</table>\n",
    "      "
   ]
  },
  {
   "cell_type": "markdown",
   "metadata": {},
   "source": [
    "---\n",
    "## 5 - BatchNorm Backward API"
   ]
  },
  {
   "cell_type": "markdown",
   "metadata": {},
   "source": [
    "---\n",
    "### a. Backward Function\n",
    "Now implement the maths above in a complete backward function"
   ]
  },
  {
   "cell_type": "code",
   "execution_count": 59,
   "metadata": {},
   "outputs": [],
   "source": [
    "def batchnorm_backward(dout, cache):\n",
    "    \"\"\"\n",
    "    Proses Backward Pass untuk Batch Normalization\n",
    "\n",
    "    Input:\n",
    "    - dout: Turunan loss dari layer setelahnya, matrix berukuran (N, D)\n",
    "    - cache: variabel berisi nilai intermediate dari fungsi batchnorm_forward.\n",
    "\n",
    "    Returns sebuah tuple berisi:\n",
    "    - dx: matrix gradient terhadap input x, berukuran (N, D)\n",
    "    - dgamma: vektor gradient terhadap parameter skala gamma, berukuran (D,)\n",
    "    - dbeta: vektor gradient terhadap parmeter shift beta, berukuran(D,)\n",
    "    \"\"\"\n",
    "    dx, dgamma, dbeta = None, None, None\n",
    "    \n",
    "       \n",
    "    mu, xmu, xmq, var, sqrt_var, inv_var, x_norm, x_gamma, gamma, beta, x, bn_arg = cache\n",
    "    N, D = dout.shape\n",
    "    eps = bn_arg.get('eps', 1e-5)\n",
    "    \n",
    "\n",
    "    # Backprop Step 9\n",
    "    # use np.sum with axis=0\n",
    "    dbeta = np.sum(dout, axis=0)\n",
    "    dgamma = np.sum(x_norm*dout, axis=0)\n",
    "\n",
    "    # Backprop step 8\n",
    "    dx_norm = gamma*dout\n",
    "\n",
    "    # Backprop step 7\n",
    "    # use np.sum with axis=0\n",
    "    dxmu = inv_var*dx_norm\n",
    "    dinv_var = np.sum(xmu*dx_norm, axis=0)\n",
    "\n",
    "    # Backprop step 6\n",
    "    dsqrt_var = (-1/sqrt_var**2)*dinv_var\n",
    "\n",
    "    # Backprop step 5\n",
    "    dvar = (1/(2*np.sqrt(var+eps)))*dsqrt_var\n",
    "\n",
    "    # Backprop step 4\n",
    "    temp_xmq = np.ones((xmq.shape))\n",
    "    dxmq = (1/N)*temp_xmq*dvar\n",
    "\n",
    "    # Backprop step 3\n",
    "    dxmu = dxmu+2*xmu*dxmq\n",
    "\n",
    "    # Backprop step 2\n",
    "    # use np.sum with axis=0\n",
    "    dmu = -1*np.sum(dxmu, axis=0)\n",
    "\n",
    "    # Basckprop step 1\n",
    "    temp_dx = np.ones((dxmu.shape))\n",
    "    dx = dxmu+(1/N)*temp_dx*dmu\n",
    "\n",
    "\n",
    "    return dx, dgamma, dbeta"
   ]
  },
  {
   "cell_type": "markdown",
   "metadata": {},
   "source": [
    "---\n",
    "### b. Check BatchNorm Backward\n",
    "Check your implementation"
   ]
  },
  {
   "cell_type": "code",
   "execution_count": 60,
   "metadata": {},
   "outputs": [
    {
     "name": "stdout",
     "output_type": "stream",
     "text": [
      "dx\n",
      " [[-0.0649239  1.4176637  0.122448   0.0091537  0.0518538]\n",
      " [ 0.1267    -0.5254938 -0.1093556 -0.1241527  0.072954 ]\n",
      " [ 0.0212493 -0.3930962  0.0552021  0.019523  -0.0458642]\n",
      " [-0.0830254 -0.4990737 -0.0682945  0.095476  -0.0789436]]\n",
      "\n",
      "dgamma\n",
      " [-2.094374   0.1425473  4.3629382 -1.9807797  0.308084 ]\n",
      "\n",
      "dbeta\n",
      " [-2.2437568  0.1814855  0.1372466  5.138691  -0.0726342]\n"
     ]
    }
   ],
   "source": [
    "N, D = 4, 5\n",
    "\n",
    "np.random.seed(20)\n",
    "x = 5 * np.random.randn(N, D) + 12\n",
    "gamma = np.random.randn(D)\n",
    "beta = np.random.randn(D)\n",
    "dout = np.random.randn(N, D)\n",
    "\n",
    "\n",
    "bn_arg = {'mode': 'train'}\n",
    "_, cache = batchnorm_forward(x, gamma, beta, bn_arg)\n",
    "dx, dgamma, dbeta = batchnorm_backward(dout, cache)\n",
    "\n",
    "\n",
    "print('dx\\n',dx)\n",
    "print('\\ndgamma\\n',dgamma)\n",
    "print('\\ndbeta\\n',dbeta)"
   ]
  },
  {
   "cell_type": "markdown",
   "metadata": {},
   "source": [
    "---\n",
    "## 6 - Weight Distribution with BatchNorm\n",
    "\n",
    "Let's try again feeding `5-Layered Neural Network` with 500 hidden neuron each 1000 random data. But now, we'll use Batch Normalization in each after affine layer."
   ]
  },
  {
   "cell_type": "code",
   "execution_count": 61,
   "metadata": {},
   "outputs": [],
   "source": [
    "Hs = {}\n",
    "X = np.random.randn(1000, 500)\n",
    "\n",
    "d_in =500\n",
    "hidden=[500, 500, 500, 500]\n",
    "d_out=500\n",
    "\n",
    "W, b = init_weights(d_in, hidden, d_out)\n",
    "gamma = np.ones(d_in)\n",
    "beta = np.zeros(d_in)\n",
    "bn_arg = {'mode': 'train'}\n",
    "\n",
    "a = X\n",
    "for i in range(len(W)):\n",
    "    z, _  = affine_forward(a, W[i], b[i])\n",
    "    zn, _ = batchnorm_forward(z, gamma, beta,  bn_arg)\n",
    "    a, _  = tanh_forward(zn)\n",
    "    Hs[i] = a"
   ]
  },
  {
   "cell_type": "markdown",
   "metadata": {},
   "source": [
    "You'll see that the activation distribution for each layer now much more stable and centered compared to before"
   ]
  },
  {
   "cell_type": "code",
   "execution_count": 62,
   "metadata": {},
   "outputs": [
    {
     "name": "stdout",
     "output_type": "stream",
     "text": [
      "input layer had meann 0.002570 and std 1.000617\n",
      "hidden layer 1 had mean 0.000063 and std 0.628319\n",
      "hidden layer 2 had mean -0.000027 and std 0.628483\n",
      "hidden layer 3 had mean -0.000039 and std 0.628553\n",
      "hidden layer 4 had mean 0.000124 and std 0.628963\n",
      "hidden layer 5 had mean 0.000122 and std 0.628883\n",
      "\n"
     ]
    },
    {
     "data": {
      "image/png": "[encoded data removed]",
      "text/plain": [
       "<Figure size 1008x216 with 2 Axes>"
      ]
     },
     "metadata": {
      "needs_background": "light"
     },
     "output_type": "display_data"
    },
    {
     "name": "stdout",
     "output_type": "stream",
     "text": [
      "\n",
      "\n",
      "Activation Distribution\n"
     ]
    },
    {
     "data": {
      "image/png": "[encoded data removed]",
      "text/plain": [
       "<Figure size 1008x216 with 5 Axes>"
      ]
     },
     "metadata": {
      "needs_background": "light"
     },
     "output_type": "display_data"
    }
   ],
   "source": [
    "print('input layer had meann %f and std %f' % (np.mean(X), np.std(X)))\n",
    "layer_means = [np.mean(H) for i, H in Hs.items()]\n",
    "layer_stds = [np.std(H) for i, H in Hs.items()]\n",
    "for i, H in Hs.items():\n",
    "    print ('hidden layer %d had mean %f and std %f' % (i + 1, layer_means[i], layer_stds[i]))\n",
    "\n",
    "print()\n",
    "plt.figure(figsize=(14,3))\n",
    "plt.subplot(121)\n",
    "plt.plot(list(Hs.keys()), layer_means, 'ob-')\n",
    "plt.title('layer mean')\n",
    "plt.subplot(122)\n",
    "plt.plot(list(Hs.keys()), layer_stds, 'or-')\n",
    "plt.title('layer std')\n",
    "plt.show()\n",
    "\n",
    "\n",
    "print('\\n\\nActivation Distribution')\n",
    "plt.figure(figsize=(14,3))\n",
    "for i, H in Hs.items():\n",
    "    plt.subplot(1, len(Hs), i + 1)\n",
    "    plt.hist(H.ravel(), 30, range=(-1, 1))\n",
    "plt.show()"
   ]
  },
  {
   "cell_type": "markdown",
   "metadata": {},
   "source": [
    "---\n",
    "## 7 - Batch Normalization Fast Backward\n",
    "When calculating gradient in backward pass, there are two ways to implement it. One strategy is to write out a computation graph composed of simple operations and backprop through all intermediate values. Another strategy is to work out the derivatives on paper. For example, you can derive a very simple formula for the sigmoid function's backward pass by simplifying gradients on paper.\n",
    "\n",
    "\n",
    "As shown before, if you're careful when deriving the formula, you'll get the full implementation of Batch Norm Gradient as follow:\n",
    "\n",
    "<br>\n",
    "\n",
    "<table width=700>\n",
    "  <tr>\n",
    "    <td width=100>$$\\begin{align*} \\partial\\beta & = \\end{align*} $$</td>\n",
    "    <td>$$\n",
    "\\begin{align*}     \n",
    "\\sum\\limits_{i=1}^N\\partial out \n",
    "\\end{align*}$$</td>\n",
    "  </tr>\n",
    "  <tr>\n",
    "    <td>$$\\begin{align*} \\partial\\gamma & = \\end{align*} $$ </td>\n",
    "    <td>$$\n",
    "\\begin{align*}     \n",
    "\\sum\\limits_{i=1}^N\\partial out * \\widehat{x_i}\n",
    "\\end{align*}$$</td>\n",
    "  </tr>\n",
    "  <tr>\n",
    "    <td>$$\\begin{align*} \\partial x_i = \\end{align*} $$ </td>\n",
    "    <td>$$\\begin{align*}  \n",
    "\\frac{\\gamma}{N*\\sqrt{\\sigma^2_B+\\epsilon}} * \\Bigg( \\big(N*\\partial out\\big) - \\left(\\sum\\limits_{i=1}^{N}\\partial out\\right)-\\left(\\frac{x_i-\\mu B}{\\sigma^2_B+\\epsilon}*\\sum\\limits_{i=1}^{N}\\big(\\partial out*(x_i-\\mu B)\\big)\\right)\\Bigg)\n",
    "\\end{align*}\n",
    "$$</td>\n",
    "  </tr>\n",
    "</table>\n",
    "\n",
    "<br>\n",
    "\n",
    "Implementing the simplified batch normalization backward pass should compute nearly identical results, but the alternative implementation should be a bit faster.\n",
    "\n",
    "Below is the implementation of faster batch normalization backward pass"
   ]
  },
  {
   "cell_type": "code",
   "execution_count": 63,
   "metadata": {},
   "outputs": [],
   "source": [
    "def batchnorm_backward_fast(dout, cache):\n",
    "    \"\"\"\n",
    "    Proses Backward Pass untuk Batch Normalization\n",
    "\n",
    "    Input:\n",
    "    - dout: Turunan loss dari layer setelahnya, matrix berukuran (N, D)\n",
    "    - cache: variabel berisi nilai intermediate dari fungsi batchnorm_forward.\n",
    "\n",
    "    Returns sebuah tuple berisi:\n",
    "    - dx: matrix gradient terhadap input x, berukuran (N, D)\n",
    "    - dgamma: vektor gradient terhadap parameter skala gamma, berukuran (D,)\n",
    "    - dbeta: vektor gradient terhadap parmeter shift beta, berukuran(D,)\n",
    "    \"\"\"\n",
    "    dx, dgamma, dbeta = None, None, None\n",
    "    \n",
    "       \n",
    "    mu, xmu, xmq, var, sqrt_var, inv_var, x_norm, x_gamma, gamma, beta, x, bn_arg = cache\n",
    "    N, D = dout.shape\n",
    "    eps = bn_arg.get('eps', 1e-5)\n",
    "    \n",
    "    dbeta = np.sum(dout, axis=0) \n",
    "    dgamma = np.sum(dout * x_norm, axis=0)\n",
    "    N = x.shape[0]\n",
    "    dx = 1/N * gamma * (var + eps)**-0.5 * (N * dout - np.sum(dout, axis=0) - (x - mu) * (var + eps)**-1 * np.sum(dout * (x - mu), axis=0))\n",
    "\n",
    "    return dx, dgamma, dbeta"
   ]
  },
  {
   "cell_type": "markdown",
   "metadata": {},
   "source": [
    "---\n",
    "### a. Check BatchNorm Fast Backward"
   ]
  },
  {
   "cell_type": "code",
   "execution_count": 64,
   "metadata": {},
   "outputs": [
    {
     "name": "stdout",
     "output_type": "stream",
     "text": [
      "dx\n",
      " [[-0.0649239  1.4176637  0.122448   0.0091537  0.0518538]\n",
      " [ 0.1267    -0.5254938 -0.1093556 -0.1241527  0.072954 ]\n",
      " [ 0.0212493 -0.3930962  0.0552021  0.019523  -0.0458642]\n",
      " [-0.0830254 -0.4990737 -0.0682945  0.095476  -0.0789436]]\n",
      "\n",
      "dgamma\n",
      " [-2.094374   0.1425473  4.3629382 -1.9807797  0.308084 ]\n",
      "\n",
      "dbeta\n",
      " [-2.2437568  0.1814855  0.1372466  5.138691  -0.0726342]\n"
     ]
    }
   ],
   "source": [
    "N, D = 4, 5\n",
    "\n",
    "np.random.seed(20)\n",
    "x = 5 * np.random.randn(N, D) + 12\n",
    "gamma = np.random.randn(D)\n",
    "beta = np.random.randn(D)\n",
    "dout = np.random.randn(N, D)\n",
    "\n",
    "bn_arg = {'mode': 'train'}\n",
    "_, cache = batchnorm_forward(x, gamma, beta, bn_arg)\n",
    "dx, dgamma, dbeta = batchnorm_backward_fast(dout, cache)\n",
    "\n",
    "\n",
    "print('dx\\n',dx)\n",
    "print('\\ndgamma\\n',dgamma)\n",
    "print('\\ndbeta\\n',dbeta)"
   ]
  },
  {
   "cell_type": "markdown",
   "metadata": {},
   "source": [
    "---\n",
    "### b. Compare BatchNorm Backward Implementations"
   ]
  },
  {
   "cell_type": "code",
   "execution_count": 65,
   "metadata": {},
   "outputs": [],
   "source": [
    "def rel_error(x, y):\n",
    "    \"\"\" returns relative error \"\"\"\n",
    "    return np.max(np.abs(x - y) / (np.maximum(1e-8, np.abs(x) + np.abs(y))))"
   ]
  },
  {
   "cell_type": "code",
   "execution_count": 66,
   "metadata": {},
   "outputs": [
    {
     "name": "stdout",
     "output_type": "stream",
     "text": [
      "dx difference        : 2.3460677050395494e-10\n",
      "dgamma difference    : 0.0\n",
      "dbeta difference     : 0.0\n",
      "speed backward normal: 0.2967846393585205 seconds\n",
      "speed backward fast  : 0.2499699592590332 seconds\n",
      "speedup              : 1.19x\n"
     ]
    }
   ],
   "source": [
    "import time\n",
    "\n",
    "np.random.seed(231)\n",
    "N, D = 10000, 500\n",
    "x = 5 * np.random.randn(N, D) + 12\n",
    "gamma = np.random.randn(D)\n",
    "beta = np.random.randn(D)\n",
    "dout = np.random.randn(N, D)\n",
    "\n",
    "bn_arg = {'mode': 'train'}\n",
    "out, cache = batchnorm_forward(x, gamma, beta, bn_arg)\n",
    "\n",
    "t1 = time.time()\n",
    "dx1, dgamma1, dbeta1 = batchnorm_backward(dout, cache)\n",
    "t2 = time.time()\n",
    "dx2, dgamma2, dbeta2 = batchnorm_backward_fast(dout, cache)\n",
    "t3 = time.time()\n",
    "\n",
    "print('dx difference        :', rel_error(dx1, dx2))\n",
    "print('dgamma difference    :', rel_error(dgamma1, dgamma2))\n",
    "print('dbeta difference     :', rel_error(dbeta1, dbeta2))\n",
    "print('speed backward normal:',t2-t1,'seconds')\n",
    "print('speed backward fast  :',t3-t2,'seconds')\n",
    "print('speedup              : %.2fx' % ((t2 - t1) / (t3 - t2)))"
   ]
  },
  {
   "cell_type": "markdown",
   "metadata": {},
   "source": [
    "---\n",
    "***\n",
    "# [Part 7] Deep Neural Net with BatchNorm\n",
    "Now let's build a deeper network using Batch Normalization to classify CIFAR-10 data"
   ]
  },
  {
   "cell_type": "markdown",
   "metadata": {},
   "source": [
    "---\n",
    "## 1 - Predict Function\n",
    "\n",
    "Add the Batch Norm to the predict function \n",
    "\n",
    "<br>\n",
    "\n",
    "The network architecture should be: \n",
    "<pre><b>Input - <font color=\"blue\">N * [FC - BN - activation]</font> - FC Layer - argmax</b></pre>\n",
    "\n",
    "<br>\n",
    "\n",
    "The **N** is the number of hidden layer, which can be calculated from **len(W)-1**\n",
    "\n",
    "Implement Predict Function\n",
    "\n",
    "    * loop call forward function for each hidden layer weights\n",
    "    * call forward function for the last layer"
   ]
  },
  {
   "cell_type": "code",
   "execution_count": 78,
   "metadata": {},
   "outputs": [],
   "source": [
    "def predict_multi_layer_bn(X, W, b, bn_params, act_f ='tanh'):    \n",
    "    \"\"\"\n",
    "    Inputs:\n",
    "    - X        : Input data, of shape(N, D)\n",
    "    - W        : list of Weight\n",
    "    - b        : list of biases\n",
    "    - bn_params: list of batchnorm args\n",
    "    - act_f    : activation function ('tanh' or 'relu')\n",
    "    \n",
    "    Output:\n",
    "    - y_pred : list of class prediction\n",
    "    \"\"\"\n",
    "    \n",
    "    \n",
    "    gamma, beta, bn_args = bn_params\n",
    "    y_pred = np.zeros(X.shape[1])\n",
    "    n_layer = len(W)\n",
    "        \n",
    "    # first activation is X\n",
    "    act = X\n",
    "    \n",
    "    ## ------------------------- start your code here -------------------------\n",
    "    \n",
    "    # loop i over n_layer-1\n",
    "    for i in range(n_layer-1):\n",
    "    \n",
    "        # calculate layer score by calling affine forward function using act, W[i], and b[i]\n",
    "        layer, _ = affine_forward(act, W[i], b[i])\n",
    "  \n",
    "        # perform batch normalization by calling batchnorm forward function using \n",
    "        # layer output score, gamma[i], beta[i], and bn_args[i]        \n",
    "        bn_args[i]['mode'] = 'test'\n",
    "        norm_layer, _ = batchnorm_forward(layer, gamma[i], beta[i], bn_args[i])\n",
    "        bn_args[i]['mode'] = 'train'\n",
    "  \n",
    "        if ( act_f == 'tanh'):\n",
    "            # calculate activation score by calling tanh forward function using norm_layer output\n",
    "            act, _ = tanh_forward(norm_layer)\n",
    "          \n",
    "        else:\n",
    "            # calculate activation score by calling relu forward function using norm_layer output\n",
    "            act, _ = relu_forward(norm_layer)\n",
    "          \n",
    "\n",
    "    # calculate last layer score by calling affine forward function using act, W[-1], and b[-1]\n",
    "    last_layer, _ = affine_forward(act, W[-1], b[-1])\n",
    "    \n",
    "    # use np.argmax with axis=-1 \n",
    "    y_pred = np.argmax(last_layer, axis=-1)\n",
    "\n",
    "    ## ------------------------- end your code here -------------------------\n",
    "    \n",
    "    return y_pred"
   ]
  },
  {
   "cell_type": "markdown",
   "metadata": {},
   "source": [
    "\n",
    "---\n",
    "## 2 - Training Function\n",
    "\n",
    "Now let's add the Batch Norm to the training function\n",
    "\n",
    "\n",
    "<br>\n",
    "\n",
    "The network architecture should be: \n",
    "<pre><b>Input - <font color=\"blue\">N * [FC - BN - activation]</font> - FC Layer - Softmax</b></pre>\n",
    "\n",
    "<br>\n",
    "\n",
    "The **N** is the number of hidden layer, which can be calculated from **len(W)-1**\n",
    "\n",
    "<br>\n",
    "\n",
    "**Implement Training Function**\n",
    "\n",
    "there are **four steps** in this training function\n",
    "\n",
    "---\n",
    "\n",
    "**1. Forward Pass**\n",
    "\n",
    "    * loop over hidden layer [for len(W)-1]\n",
    "        * call affine forward function\n",
    "        * call batchnorm forward function\n",
    "        * call activation forward function\n",
    "    * call affine forward function for the last layer\n",
    "    * call softmax score function\n",
    "\n",
    "**2. Calculate Loss**\n",
    "\n",
    "    * call softmax_loss function\n",
    "    * loop over weights [for W]\n",
    "        * calculate loss with regularization\n",
    "\n",
    "\n",
    "**3. Backward Pass**\n",
    "\n",
    "    * call affine backward function for the last layer\n",
    "    * loop over hidden layer [from len(W)-2 to 0]\n",
    "        * call activation backward function\n",
    "        * call batchnorm backward function\n",
    "        * call affine backward function\n",
    "\n",
    "**4. Weight Update**\n",
    "\n",
    "    * loop over weights [for W]\n",
    "        * implement weight update\n",
    "    * calculate the training and validation accuracy\n"
   ]
  },
  {
   "cell_type": "code",
   "execution_count": 79,
   "metadata": {},
   "outputs": [],
   "source": [
    "def train_multi_layer_bn(X, y, X_val, y_val, hidden_size, act_f='tanh',\n",
    "                         W=None, b=None, std=1e-4, seed=None,\n",
    "                         lr=1e-4, lr_decay=0.95, reg=0.25, \n",
    "                         epochs=100, batch_size=200, verbose=True):\n",
    "    \"\"\"\n",
    "    Inputs:\n",
    "    - X          : array of train data, of shape (N, D)\n",
    "    - y          : array of train labels, of shape (N,)\n",
    "    - X_val      : array of validation data, of shape (Nv, D)\n",
    "    - y_val      : array of validation labels, of shape (Nv,)\n",
    "    - hidden_size: list of hidden neuron for each hidden layer\n",
    "    - act_f      : activation function ('tanh' or 'relu')\n",
    "    - W          : list of Weight, if W is None, it will be initialized\n",
    "    - b          : list of biases, if W is None, bias will be initialized\n",
    "    - std        : float, standar deviation for generating weights\n",
    "    - seed       : int, initial random seed\n",
    "    - lr         : float, initial learning rate\n",
    "    - lr_decay   : float, 0-1, decay rate to reduce learning rate each epoch\n",
    "    - reg        : float, regularization rate\n",
    "    - epochs     : int, number of training epoch\n",
    "    - batch_size : int, number of batch used each step\n",
    "    - verbose    : boolean, verbosity\n",
    "    \n",
    "    Outputs:\n",
    "    - W          : list of trained Weights\n",
    "    - b          : list of trained biases\n",
    "    - history    : list of training history [loss, train_acc, val_acc]\n",
    "    \n",
    "    \"\"\"\n",
    "    \n",
    "    num_train, dim = X.shape\n",
    "    \n",
    "    # check if data train is divisible by batch size\n",
    "    assert num_train % batch_size==0, \"data train \"+str(num_train)+\" is not divisible by batch size\"+str(batch_size)\n",
    "    \n",
    "    # total iteration per epoch\n",
    "    num_iter = num_train // batch_size\n",
    "    \n",
    "    #start iteration counts\n",
    "    it = 0\n",
    "    \n",
    "    # assume y takes values 0...K-1 where K is number of classes\n",
    "    num_classes = np.max(y) + 1  \n",
    "    \n",
    "    # initialize Weights\n",
    "    if W is None:\n",
    "        W, b = init_weights(dim, hidden_size, num_classes, std, seed) \n",
    "        \n",
    "    # number of layer (including output layer)\n",
    "    n_layer = len(W)\n",
    "\n",
    "    # Run stochastic gradient descent to optimize W\n",
    "    loss_history = []\n",
    "    train_acc_history = []\n",
    "    val_acc_history = []\n",
    "    \n",
    "    #initialize batch parameters\n",
    "    bn_args = {}\n",
    "    gamma = {}\n",
    "    beta = {}\n",
    "    for i in range(n_layer-1):\n",
    "        bn_args[i] = {'mode': 'train'} \n",
    "        gamma[i] = np.ones(hidden_size[i], )\n",
    "        beta[i] = np.zeros(hidden_size[i], )\n",
    "    \n",
    "            \n",
    "    ## ------------------------- start your code here --------------------------\n",
    "    \n",
    "    \n",
    "    print('start training using', act_f, 'activation function')\n",
    "    for ep in range(epochs):\n",
    "        # Shuffle data train index\n",
    "        train_rows = np.arange(num_train)\n",
    "        np.random.shuffle(train_rows)\n",
    "        \n",
    "        # split index into mini batches\n",
    "        id_batch = np.split(train_rows, num_iter)\n",
    "  \n",
    "        for batch in id_batch:\n",
    "      \n",
    "            X_batch = X[batch]\n",
    "            y_batch = y[batch]\n",
    "        \n",
    "            # store all cache in dictionary\n",
    "            cache = {}\n",
    "\n",
    "            # first layer activation input is X_batch\n",
    "            act = X_batch\n",
    "\n",
    "            # -----------------------------------------------------------------\n",
    "            # 1. Forward Pass\n",
    "            # -----------------------------------------------------------------\n",
    "\n",
    "            # loop i over hidden layer (n_layer-1)\n",
    "            # see predict function implementation\n",
    "            for i in range(n_layer-1):\n",
    "\n",
    "                # calculate layer score by calling affine forward function using act, W[i], and b[i]\n",
    "                layer, cache_affine = affine_forward(act, W[i], b[i])\n",
    "\n",
    "                # perform batch normalization by calling batchnorm forward function using \n",
    "                # layer score, gamma[i], beta[i], and bn_args[i]\n",
    "                norm_layer, cache_bn = batchnorm_forward(layer, gamma[i], beta[i], bn_args[i])\n",
    "\n",
    "                if ( act_f == 'tanh'):\n",
    "                    # calculate activation score by calling tanh forward function using norm_layer score\n",
    "                    act, _ = tanh_forward(norm_layer)\n",
    "                else:\n",
    "                    # calculate activation score by calling relu forward function using norm_layer score\n",
    "                    act, _ = relu_forward(norm_layer)\n",
    "\n",
    "                # combine cache from affine, batchnorm, and activation layer into cache for this layer\n",
    "                cache[i] = (cache_affine, cache_bn, _)\n",
    "\n",
    "            # calculate last layer score by calling affine forward function using activation act, W[i+1], and b[i+1]\n",
    "            last_layer, cache[i+1] = affine_forward(act, W[i+1], b[i+1])\n",
    "\n",
    "            # calculate softmax score by calling softmax function using last_layer score\n",
    "            softmax_score = softmax(last_layer)\n",
    "\n",
    "            # -----------------------------------------------------------------\n",
    "            # 2. Calculate Loss\n",
    "            # -----------------------------------------------------------------\n",
    "\n",
    "            # evaluate loss and gradient by calling softmax_loss function using input softmax_score and y_batch\n",
    "            loss, dout = softmax_loss(softmax_score, y_batch)\n",
    "\n",
    "            # add regularization to the loss:\n",
    "            #    for each weights, calculate the sum square, multiply regularization strength\n",
    "            #    then add it to the loss\n",
    "            # see the implementation in the previous Task\n",
    "            for w in W:\n",
    "                # loss = loss + reg * sum(w*w)\n",
    "                loss += reg * np.sum(w*w)\n",
    "\n",
    "            # append the loss history\n",
    "            loss_history.append(loss)\n",
    "\n",
    "\n",
    "            # -----------------------------------------------------------------\n",
    "            # 3. Backward Pass\n",
    "            # -----------------------------------------------------------------    \n",
    "\n",
    "            # dictionary to contain all gradients\n",
    "            dW = {}\n",
    "            db = {}\n",
    "            dgamma = {}\n",
    "            dbeta = {}\n",
    "\n",
    "            # calculate last weights gradient by calling affine backward function using dout and cache[n_layer-1]\n",
    "            dW[n_layer-1], db[n_layer-1], dact = affine_backward(dout, cache[n_layer-1])\n",
    "\n",
    "            #loop i from n_layer-2 down to 0\n",
    "            for i in range(n_layer-2,-1,-1):\n",
    "\n",
    "                # extract affine cache and activation cache from layer cache\n",
    "                cache_affine, cache_bn, cache_act = cache[i]\n",
    "\n",
    "                if ( act_f == 'tanh'):\n",
    "                    # calculate tanh gradient by calling tanh backward function using dact and cache_act\n",
    "                    dlayer = tanh_backward(dact, cache_act)\n",
    "                else:\n",
    "                    # calculate relu gradient by calling relu backward function using dact and cache_act\n",
    "                    dlayer = relu_backward(dact, cache_act)\n",
    "\n",
    "                # calculate batchnorm gradient by calling batchnorm backward fast function using dlayer and cache_bn\n",
    "                dlayer, dgamma[i], dbeta[i] = batchnorm_backward_fast(dlayer, cache_bn)\n",
    "\n",
    "                # calculate layer weights gradient by calling affine backward function using dlayer and cache_affine\n",
    "                dW[i], db[i], dact = affine_backward(dlayer, cache_affine)\n",
    "\n",
    "                # add regularization to gradient\n",
    "                # add with twice of the weight multiplied by regularization strength\n",
    "                # see previous implementation\n",
    "                dW[i] += 2 * reg * W[i]\n",
    "    \n",
    "    \n",
    "\n",
    "            # -----------------------------------------------------------------\n",
    "            # 4. Weight Update\n",
    "            # -----------------------------------------------------------------    \n",
    "\n",
    "            # perform parameter update by subtracting W[i] and b[i] for each layer \n",
    "            # with a fraction of dW[i] and db[i] according to the learning rate\n",
    "            # loop over W\n",
    "            # see previous implementation\n",
    "            for i in range(len(W)):    \n",
    "                W[i] = W[i] - (lr * dW[i])\n",
    "                b[i] = b[i] - (lr * db[i])\n",
    "\n",
    "                \n",
    "            # perform the same thing for gamma[i] and beta[i] for each layer\n",
    "            # update by a fraction of dgamma[i] and dbeta[i] according to the learning rate\n",
    "            for i in range(len(gamma)):\n",
    "                # gamma_i = gamma_i - lr * dgamma_i\n",
    "                gamma[i] = gamma[i] - lr * dgamma[i]\n",
    "                # beta_i = beta_i - lr * dbeta_i\n",
    "                beta[i]  = beta[i] - lr * dbeta[i]\n",
    "        \n",
    "        \n",
    "            # iteration count\n",
    "            it +=1\n",
    "\n",
    "            if verbose and it % 100 == 0:\n",
    "                print ('iteration',it,'(epoch', ep+1,'/',epochs, '): loss =', loss)\n",
    "\n",
    "                \n",
    "                \n",
    "        # At the end of one epoch\n",
    "        # 1. Check accuracy\n",
    "        #    calculate the training accuracy by calling predict_multi_layer_bn function on X_batch\n",
    "        #    and compare it to y_batch. Then calculate the mean correct (accuracy in range 0-1)\n",
    "        train_acc = (predict_multi_layer_bn(X_batch, W, b, [gamma, beta, bn_args], act_f) == y_batch).mean()\n",
    "        train_acc_history.append(train_acc)\n",
    "\n",
    "        # 2. Calculate the training accuracy by calling predict_multi_layer_bn function on X_val\n",
    "        #    and compare it tu y_val. Then calculate the mean correct (accuracy in range 0-1)\n",
    "        val_acc = (predict_multi_layer_bn(X_val, W, b, [gamma, beta, bn_args], act_f) == y_val).mean()\n",
    "        val_acc_history.append(val_acc)\n",
    "\n",
    "        # 3. Decay learning rate\n",
    "        #    multiply learning rate with decay\n",
    "        # see previous implementation\n",
    "        lr = lr * lr_decay\n",
    "\n",
    "            \n",
    "    \n",
    "    ## -------------------------- end your code here ---------------------------\n",
    "        \n",
    "    history = [loss_history, train_acc_history, val_acc_history]\n",
    "    bn_params = [gamma, beta, bn_args]\n",
    "    print('Training done')\n",
    "    \n",
    "    return W, b, history, bn_params"
   ]
  },
  {
   "cell_type": "markdown",
   "metadata": {},
   "source": [
    "---\n",
    "## 3 - Train Tanh with BatchNorm\n",
    "\n",
    "Try the training Function using 3 hidden layer, 50 neurons each\n",
    "\n",
    "You should see major improvement in accuracy when using more layer"
   ]
  },
  {
   "cell_type": "markdown",
   "metadata": {},
   "source": [
    "---\n",
    "### a. Train Network\n",
    "First let's try the four layered tanh using batchnorm"
   ]
  },
  {
   "cell_type": "code",
   "execution_count": 80,
   "metadata": {},
   "outputs": [
    {
     "name": "stdout",
     "output_type": "stream",
     "text": [
      "start training using tanh activation function\n",
      "iteration 100 (epoch 1 / 20 ): loss = 2.2060802831286166\n",
      "iteration 200 (epoch 1 / 20 ): loss = 2.105374447800663\n",
      "iteration 300 (epoch 2 / 20 ): loss = 2.0860518142597724\n",
      "iteration 400 (epoch 2 / 20 ): loss = 1.9747352145397437\n",
      "iteration 500 (epoch 3 / 20 ): loss = 1.9194859029392999\n",
      "iteration 600 (epoch 3 / 20 ): loss = 1.9425114352583148\n",
      "iteration 700 (epoch 3 / 20 ): loss = 1.8638748430883076\n",
      "iteration 800 (epoch 4 / 20 ): loss = 1.8295064661475389\n",
      "iteration 900 (epoch 4 / 20 ): loss = 1.8380738899397726\n",
      "iteration 1000 (epoch 5 / 20 ): loss = 1.8438977484129873\n",
      "iteration 1100 (epoch 5 / 20 ): loss = 1.855132797407325\n",
      "iteration 1200 (epoch 5 / 20 ): loss = 1.8192883286164665\n",
      "iteration 1300 (epoch 6 / 20 ): loss = 1.748199547034065\n",
      "iteration 1400 (epoch 6 / 20 ): loss = 1.6595897782820728\n",
      "iteration 1500 (epoch 7 / 20 ): loss = 1.776938501512794\n",
      "iteration 1600 (epoch 7 / 20 ): loss = 1.5776133292833576\n",
      "iteration 1700 (epoch 7 / 20 ): loss = 1.7300181323283061\n",
      "iteration 1800 (epoch 8 / 20 ): loss = 1.6359760401915364\n",
      "iteration 1900 (epoch 8 / 20 ): loss = 1.74930595562105\n",
      "iteration 2000 (epoch 9 / 20 ): loss = 1.7208365636880532\n",
      "iteration 2100 (epoch 9 / 20 ): loss = 1.7502107360674204\n",
      "iteration 2200 (epoch 9 / 20 ): loss = 1.7500182937454565\n",
      "iteration 2300 (epoch 10 / 20 ): loss = 1.7046971410443144\n",
      "iteration 2400 (epoch 10 / 20 ): loss = 1.7554376063920887\n",
      "iteration 2500 (epoch 11 / 20 ): loss = 1.694871858295971\n",
      "iteration 2600 (epoch 11 / 20 ): loss = 1.7297270219404586\n",
      "iteration 2700 (epoch 12 / 20 ): loss = 1.6534598609321527\n",
      "iteration 2800 (epoch 12 / 20 ): loss = 1.5898996759236201\n",
      "iteration 2900 (epoch 12 / 20 ): loss = 1.76041713844351\n",
      "iteration 3000 (epoch 13 / 20 ): loss = 1.6766094796684259\n",
      "iteration 3100 (epoch 13 / 20 ): loss = 1.5713830461323166\n",
      "iteration 3200 (epoch 14 / 20 ): loss = 1.5046392071777603\n",
      "iteration 3300 (epoch 14 / 20 ): loss = 1.454591000029726\n",
      "iteration 3400 (epoch 14 / 20 ): loss = 1.6801600288583916\n",
      "iteration 3500 (epoch 15 / 20 ): loss = 1.5972481753286438\n",
      "iteration 3600 (epoch 15 / 20 ): loss = 1.5955665987939442\n",
      "iteration 3700 (epoch 16 / 20 ): loss = 1.652477902307107\n",
      "iteration 3800 (epoch 16 / 20 ): loss = 1.6431440139194207\n",
      "iteration 3900 (epoch 16 / 20 ): loss = 1.5324076800954667\n",
      "iteration 4000 (epoch 17 / 20 ): loss = 1.4776523855101038\n",
      "iteration 4100 (epoch 17 / 20 ): loss = 1.6581518342732338\n",
      "iteration 4200 (epoch 18 / 20 ): loss = 1.4755036886310087\n",
      "iteration 4300 (epoch 18 / 20 ): loss = 1.4881638731856166\n",
      "iteration 4400 (epoch 18 / 20 ): loss = 1.5853174848098135\n",
      "iteration 4500 (epoch 19 / 20 ): loss = 1.5088446528062036\n",
      "iteration 4600 (epoch 19 / 20 ): loss = 1.6480249435751868\n",
      "iteration 4700 (epoch 20 / 20 ): loss = 1.6115602792920962\n",
      "iteration 4800 (epoch 20 / 20 ): loss = 1.5139689935977378\n",
      "iteration 4900 (epoch 20 / 20 ): loss = 1.5320457094895428\n",
      "Training done\n"
     ]
    }
   ],
   "source": [
    "hidden_size=[50, 50, 50]\n",
    "lr=1e-2\n",
    "np.random.seed(None)\n",
    "\n",
    "W_tanh_4bn, b_tanh_4bn, history_tanh_4bn, bn_params_tanh = train_multi_layer_bn(    \n",
    "    X_train, y_train, X_val, y_val, \n",
    "    hidden_size=hidden_size, \n",
    "    act_f='tanh',\n",
    "    std=1e-2, lr=lr, \n",
    "    lr_decay=0.9, reg=0.01, \n",
    "    epochs=20)\n"
   ]
  },
  {
   "cell_type": "markdown",
   "metadata": {},
   "source": [
    "---\n",
    "### b. Visualize Training\n",
    "Visualize the loss, and train-validation accuracy"
   ]
  },
  {
   "cell_type": "code",
   "execution_count": 81,
   "metadata": {},
   "outputs": [
    {
     "data": {
      "image/png": "[encoded data removed]",
      "text/plain": [
       "<Figure size 1008x252 with 2 Axes>"
      ]
     },
     "metadata": {
      "needs_background": "light"
     },
     "output_type": "display_data"
    }
   ],
   "source": [
    "loss, train_acc, val_acc = history_tanh_4bn\n",
    "\n",
    "plt.rcParams['figure.figsize'] = [14, 3.5]\n",
    "plt.subplots_adjust(wspace=0.2)\n",
    "\n",
    "plt.subplot(121)\n",
    "plt.plot(loss)\n",
    "plt.xlabel('Epoch')\n",
    "plt.ylabel('training loss')\n",
    "plt.title('Training Loss history')\n",
    "\n",
    "plt.subplot(122)\n",
    "plt.plot(train_acc, label='train')\n",
    "plt.plot(val_acc, label='val')\n",
    "plt.legend()\n",
    "plt.xlabel('Epoch')\n",
    "plt.ylabel('Clasification accuracy')\n",
    "plt.title('Classification accuracy history')\n",
    "plt.show()"
   ]
  },
  {
   "cell_type": "markdown",
   "metadata": {},
   "source": [
    "---\n",
    "### c. Training Accuracy\n",
    "Calculate the loss, and train-validation accuracy"
   ]
  },
  {
   "cell_type": "code",
   "execution_count": 82,
   "metadata": {},
   "outputs": [
    {
     "name": "stdout",
     "output_type": "stream",
     "text": [
      "Training Accuracy = 54.03265306122449 %\n",
      "Training label  = [6 9 9 4 1 1 2 7 8 3 4 7 7 2 9]\n",
      "Predicted label = [6 1 9 6 9 6 2 7 8 9 4 9 7 7 9]\n"
     ]
    }
   ],
   "source": [
    "import sklearn\n",
    "from sklearn.metrics import accuracy_score\n",
    "\n",
    "y_pred = predict_multi_layer_bn(X_train, W_tanh_4bn, b_tanh_4bn, bn_params_tanh, act_f='tanh')\n",
    "accuracy = sklearn.metrics.accuracy_score(y_train, y_pred)\n",
    "\n",
    "print('Training Accuracy =',accuracy*100,'%')\n",
    "\n",
    "print('Training label  =',y_train[:15])\n",
    "print('Predicted label =',y_pred[:15])"
   ]
  },
  {
   "cell_type": "code",
   "execution_count": 83,
   "metadata": {},
   "outputs": [
    {
     "name": "stdout",
     "output_type": "stream",
     "text": [
      "Validation Accuracy = 47.8 %\n",
      "Validation label = [8 9 4 9 0 5 0 8 2 3 7 8 9 4 5]\n",
      "Predicted label  = [8 9 0 3 3 3 0 8 5 3 7 9 9 8 7]\n"
     ]
    }
   ],
   "source": [
    "y_pred = predict_multi_layer_bn(X_val, W_tanh_4bn, b_tanh_4bn, bn_params_tanh, act_f='tanh')\n",
    "accuracy = sklearn.metrics.accuracy_score(y_val, y_pred)\n",
    "print('Validation Accuracy =', accuracy*100,'%')\n",
    "\n",
    "print('Validation label =',y_val[:15])\n",
    "print('Predicted label  =',y_pred[:15])"
   ]
  },
  {
   "cell_type": "markdown",
   "metadata": {},
   "source": [
    "---\n",
    "### d. Comparison\n",
    "let's compare between 4 layer tanh with and without batchnorm"
   ]
  },
  {
   "cell_type": "code",
   "execution_count": 86,
   "metadata": {},
   "outputs": [
    {
     "data": {
      "image/png": "[encoded data removed]",
      "text/plain": [
       "<Figure size 1008x252 with 2 Axes>"
      ]
     },
     "metadata": {
      "needs_background": "light"
     },
     "output_type": "display_data"
    }
   ],
   "source": [
    "loss_tanh_4, train_tanh_4, val_tanh_4 = history_tanh_4\n",
    "loss_tanh_4bn, train_tanh_4bn, val_tanh_4bn = history_tanh_4bn\n",
    "\n",
    "plt.rcParams['figure.figsize'] = [14, 3.5]\n",
    "plt.subplots_adjust(wspace=0.25)\n",
    "\n",
    "plt.subplot(121)\n",
    "plt.plot(train_tanh_4, label='tanh')\n",
    "plt.plot(train_tanh_4bn, label='tanh+bn')\n",
    "plt.legend()\n",
    "plt.xlabel('Epoch')\n",
    "plt.ylabel('acc')\n",
    "plt.title('Training Accuracy')\n",
    "\n",
    "plt.subplot(122)\n",
    "plt.plot(val_tanh_4, label='tanh')\n",
    "plt.plot(val_tanh_4bn, label='tanh+bn')\n",
    "plt.legend()\n",
    "plt.xlabel('Epoch')\n",
    "plt.ylabel('acc')\n",
    "plt.title('Validation Accuracy')\n",
    "plt.show()"
   ]
  },
  {
   "cell_type": "markdown",
   "metadata": {},
   "source": [
    "And what's more, let's compare the Accuracy between **tanh network trained with batchnorm** and **relu network trained without batchnorm**"
   ]
  },
  {
   "cell_type": "code",
   "execution_count": 87,
   "metadata": {},
   "outputs": [
    {
     "data": {
      "image/png": "[encoded data removed]",
      "text/plain": [
       "<Figure size 1008x252 with 2 Axes>"
      ]
     },
     "metadata": {
      "needs_background": "light"
     },
     "output_type": "display_data"
    }
   ],
   "source": [
    "plt.rcParams['figure.figsize'] = [14, 3.5]\n",
    "plt.subplots_adjust(wspace=0.25)\n",
    "\n",
    "plt.subplot(121)\n",
    "plt.plot(train_relu_4, label='relu')\n",
    "plt.plot(train_tanh_4bn, label='tanh+bn')\n",
    "plt.legend()\n",
    "plt.xlabel('Epoch')\n",
    "plt.ylabel('acc')\n",
    "plt.title('Training Accuracy')\n",
    "\n",
    "plt.subplot(122)\n",
    "plt.plot(val_relu_4, label='relu')\n",
    "plt.plot(val_tanh_4bn, label='tanh+bn')\n",
    "plt.legend()\n",
    "plt.xlabel('Epoch')\n",
    "plt.ylabel('acc')\n",
    "plt.title('Validation Accuracy')\n",
    "plt.show()"
   ]
  },
  {
   "cell_type": "markdown",
   "metadata": {},
   "source": [
    "---\n",
    "## 4 - Train ReLU with BatchNorm\n",
    "\n",
    "Try the training Function using 3 hidden layer, 50 neurons each\n",
    "\n",
    "You should see major improvement in accuracy when using more layer"
   ]
  },
  {
   "cell_type": "markdown",
   "metadata": {},
   "source": [
    "---\n",
    "### a. Train Network\n",
    "First let's try the four layered tanh using batchnorm"
   ]
  },
  {
   "cell_type": "code",
   "execution_count": 88,
   "metadata": {},
   "outputs": [
    {
     "name": "stdout",
     "output_type": "stream",
     "text": [
      "start training using relu activation function\n",
      "iteration 100 (epoch 1 / 20 ): loss = 2.1722027341063592\n",
      "iteration 200 (epoch 1 / 20 ): loss = 1.9634146021242362\n",
      "iteration 300 (epoch 2 / 20 ): loss = 1.9520173381678572\n",
      "iteration 400 (epoch 2 / 20 ): loss = 1.7905596049888157\n",
      "iteration 500 (epoch 3 / 20 ): loss = 1.749992389281825\n",
      "iteration 600 (epoch 3 / 20 ): loss = 1.7163686292581906\n",
      "iteration 700 (epoch 3 / 20 ): loss = 1.7551522967023667\n",
      "iteration 800 (epoch 4 / 20 ): loss = 1.5871513167939186\n",
      "iteration 900 (epoch 4 / 20 ): loss = 1.5713836317403638\n",
      "iteration 1000 (epoch 5 / 20 ): loss = 1.5054650280068087\n",
      "iteration 1100 (epoch 5 / 20 ): loss = 1.500921690458446\n",
      "iteration 1200 (epoch 5 / 20 ): loss = 1.5844349685325192\n",
      "iteration 1300 (epoch 6 / 20 ): loss = 1.6241635622234714\n",
      "iteration 1400 (epoch 6 / 20 ): loss = 1.5952275361135937\n",
      "iteration 1500 (epoch 7 / 20 ): loss = 1.4791415417784932\n",
      "iteration 1600 (epoch 7 / 20 ): loss = 1.4654669585372992\n",
      "iteration 1700 (epoch 7 / 20 ): loss = 1.4889883623459845\n",
      "iteration 1800 (epoch 8 / 20 ): loss = 1.519458576911139\n",
      "iteration 1900 (epoch 8 / 20 ): loss = 1.541659093108732\n",
      "iteration 2000 (epoch 9 / 20 ): loss = 1.3625924243632623\n",
      "iteration 2100 (epoch 9 / 20 ): loss = 1.457697360249485\n",
      "iteration 2200 (epoch 9 / 20 ): loss = 1.4799096756978352\n",
      "iteration 2300 (epoch 10 / 20 ): loss = 1.417400496490353\n",
      "iteration 2400 (epoch 10 / 20 ): loss = 1.530641724072176\n",
      "iteration 2500 (epoch 11 / 20 ): loss = 1.4510068919343193\n",
      "iteration 2600 (epoch 11 / 20 ): loss = 1.436916939921434\n",
      "iteration 2700 (epoch 12 / 20 ): loss = 1.465787227337569\n",
      "iteration 2800 (epoch 12 / 20 ): loss = 1.4207505491227106\n",
      "iteration 2900 (epoch 12 / 20 ): loss = 1.4533676712003816\n",
      "iteration 3000 (epoch 13 / 20 ): loss = 1.376972398976526\n",
      "iteration 3100 (epoch 13 / 20 ): loss = 1.3061669494378123\n",
      "iteration 3200 (epoch 14 / 20 ): loss = 1.1671317050125927\n",
      "iteration 3300 (epoch 14 / 20 ): loss = 1.1616064372227801\n",
      "iteration 3400 (epoch 14 / 20 ): loss = 1.3762791382550936\n",
      "iteration 3500 (epoch 15 / 20 ): loss = 1.389508182159188\n",
      "iteration 3600 (epoch 15 / 20 ): loss = 1.2939715770313052\n",
      "iteration 3700 (epoch 16 / 20 ): loss = 1.238085876626472\n",
      "iteration 3800 (epoch 16 / 20 ): loss = 1.3587969618371685\n",
      "iteration 3900 (epoch 16 / 20 ): loss = 1.3700049518203383\n",
      "iteration 4000 (epoch 17 / 20 ): loss = 1.262135356633053\n",
      "iteration 4100 (epoch 17 / 20 ): loss = 1.3388075920731604\n",
      "iteration 4200 (epoch 18 / 20 ): loss = 1.3537276491088561\n",
      "iteration 4300 (epoch 18 / 20 ): loss = 1.3124289515222405\n",
      "iteration 4400 (epoch 18 / 20 ): loss = 1.3600259014357599\n",
      "iteration 4500 (epoch 19 / 20 ): loss = 1.2641015589315894\n",
      "iteration 4600 (epoch 19 / 20 ): loss = 1.229773231689356\n",
      "iteration 4700 (epoch 20 / 20 ): loss = 1.298403646196831\n",
      "iteration 4800 (epoch 20 / 20 ): loss = 1.2953107190394677\n",
      "iteration 4900 (epoch 20 / 20 ): loss = 1.31558050725579\n",
      "Training done\n"
     ]
    }
   ],
   "source": [
    "hidden_size=[50, 50, 50]\n",
    "lr=1e-2\n",
    "np.random.seed(None)\n",
    "\n",
    "W_relu_4bn, b_relu_4bn, history_relu_4bn, bn_params_relu = train_multi_layer_bn(    \n",
    "    X_train, y_train, X_val, y_val, \n",
    "    hidden_size=hidden_size, \n",
    "    act_f='relu',\n",
    "    std=1e-2, lr=lr, \n",
    "    lr_decay=0.9, reg=0.01, \n",
    "    epochs=20)"
   ]
  },
  {
   "cell_type": "markdown",
   "metadata": {},
   "source": [
    "---\n",
    "### b. Visualize Training\n",
    "Visualize the loss, and train-validation accuracy"
   ]
  },
  {
   "cell_type": "code",
   "execution_count": 89,
   "metadata": {},
   "outputs": [
    {
     "data": {
      "image/png": "[encoded data removed]",
      "text/plain": [
       "<Figure size 1008x252 with 2 Axes>"
      ]
     },
     "metadata": {
      "needs_background": "light"
     },
     "output_type": "display_data"
    }
   ],
   "source": [
    "loss, train_acc, val_acc = history_relu_4bn\n",
    "\n",
    "plt.rcParams['figure.figsize'] = [14, 3.5]\n",
    "plt.subplots_adjust(wspace=0.2)\n",
    "\n",
    "plt.subplot(121)\n",
    "plt.plot(loss)\n",
    "plt.xlabel('Epoch')\n",
    "plt.ylabel('training loss')\n",
    "plt.title('Training Loss history')\n",
    "\n",
    "plt.subplot(122)\n",
    "plt.plot(train_acc, label='train')\n",
    "plt.plot(val_acc, label='val')\n",
    "plt.legend()\n",
    "plt.xlabel('Epoch')\n",
    "plt.ylabel('Clasification accuracy')\n",
    "plt.title('Classification accuracy history')\n",
    "plt.show()"
   ]
  },
  {
   "cell_type": "markdown",
   "metadata": {},
   "source": [
    "---\n",
    "### c. Training Accuracy\n",
    "Calculate the loss, and train-validation accuracy"
   ]
  },
  {
   "cell_type": "code",
   "execution_count": 90,
   "metadata": {},
   "outputs": [
    {
     "name": "stdout",
     "output_type": "stream",
     "text": [
      "Training Accuracy = 63.86122448979592 %\n",
      "Training label  = [6 9 9 4 1 1 2 7 8 3 4 7 7 2 9]\n",
      "Predicted label = [6 1 9 4 1 1 2 7 8 9 4 7 7 3 9]\n"
     ]
    }
   ],
   "source": [
    "import sklearn\n",
    "from sklearn.metrics import accuracy_score\n",
    "\n",
    "y_pred = predict_multi_layer_bn(X_train, W_relu_4bn, b_relu_4bn, bn_params_relu, act_f='relu')\n",
    "accuracy = sklearn.metrics.accuracy_score(y_train, y_pred)\n",
    "\n",
    "print('Training Accuracy =',accuracy*100,'%')\n",
    "\n",
    "print('Training label  =',y_train[:15])\n",
    "print('Predicted label =',y_pred[:15])"
   ]
  },
  {
   "cell_type": "code",
   "execution_count": 91,
   "metadata": {},
   "outputs": [
    {
     "name": "stdout",
     "output_type": "stream",
     "text": [
      "Validation Accuracy = 54.300000000000004 %\n",
      "Validation label = [8 9 4 9 0 5 0 8 2 3 7 8 9 4 5]\n",
      "Predicted label  = [8 6 4 3 3 3 0 8 2 3 7 1 9 8 7]\n"
     ]
    }
   ],
   "source": [
    "y_pred = predict_multi_layer_bn(X_val, W_relu_4bn, b_relu_4bn, bn_params_relu, act_f='relu')\n",
    "accuracy = sklearn.metrics.accuracy_score(y_val, y_pred)\n",
    "print('Validation Accuracy =', accuracy*100,'%')\n",
    "\n",
    "print('Validation label =',y_val[:15])\n",
    "print('Predicted label  =',y_pred[:15])"
   ]
  },
  {
   "cell_type": "markdown",
   "metadata": {},
   "source": [
    "---\n",
    "### d. Comparison\n",
    "let's compare between 4 layer relu with and without batchnorm"
   ]
  },
  {
   "cell_type": "code",
   "execution_count": 93,
   "metadata": {},
   "outputs": [
    {
     "data": {
      "image/png": "[encoded data removed]",
      "text/plain": [
       "<Figure size 1008x252 with 2 Axes>"
      ]
     },
     "metadata": {
      "needs_background": "light"
     },
     "output_type": "display_data"
    }
   ],
   "source": [
    "loss_relu_4, train_relu_4, val_relu_4 = history_relu_4\n",
    "loss_relu_4bn, train_relu_4bn, val_relu_4bn = history_relu_4bn\n",
    "\n",
    "plt.rcParams['figure.figsize'] = [14, 3.5]\n",
    "plt.subplots_adjust(wspace=0.25)\n",
    "\n",
    "plt.subplot(121)\n",
    "plt.plot(train_relu_4, label='relu')\n",
    "plt.plot(train_relu_4bn, label='relu+bn')\n",
    "plt.legend()\n",
    "plt.xlabel('Epoch')\n",
    "plt.ylabel('acc')\n",
    "plt.title('Training Accuracy')\n",
    "\n",
    "plt.subplot(122)\n",
    "plt.plot(val_relu_4, label='relu')\n",
    "plt.plot(val_relu_4bn, label='relu+bn')\n",
    "plt.legend()\n",
    "plt.xlabel('Epoch')\n",
    "plt.ylabel('acc')\n",
    "plt.title('Validation Accuracy')\n",
    "plt.show()"
   ]
  },
  {
   "cell_type": "markdown",
   "metadata": {},
   "source": [
    "---\n",
    "## 5 - Comparison\n",
    "Now let's see if we compare all four networks"
   ]
  },
  {
   "cell_type": "code",
   "execution_count": 94,
   "metadata": {},
   "outputs": [
    {
     "data": {
      "image/png": "[encoded data removed]",
      "text/plain": [
       "<Figure size 1008x360 with 2 Axes>"
      ]
     },
     "metadata": {
      "needs_background": "light"
     },
     "output_type": "display_data"
    }
   ],
   "source": [
    "plt.rcParams['figure.figsize'] = [14, 5]\n",
    "plt.subplots_adjust(wspace=0.25)\n",
    "plt.subplots_adjust(hspace=0.3)\n",
    "\n",
    "plt.subplot(121)\n",
    "plt.plot(train_tanh_4, label='tanh')\n",
    "plt.plot(train_tanh_4bn, label='tanh+bn')\n",
    "plt.plot(train_relu_4, label='relu')\n",
    "plt.plot(train_relu_4bn, label='relu+bn')\n",
    "plt.legend()\n",
    "plt.xlabel('Epoch')\n",
    "plt.ylabel('acc tanh')\n",
    "plt.title('Training Accuracy')\n",
    "\n",
    "plt.subplot(122)\n",
    "plt.plot(val_tanh_4, label='tanh')\n",
    "plt.plot(val_tanh_4bn, label='tanh+bn')\n",
    "plt.plot(val_relu_4, label='relu')\n",
    "plt.plot(val_relu_4bn, label='relu+bn')\n",
    "plt.legend()\n",
    "plt.xlabel('Epoch')\n",
    "plt.ylabel('acc tanh')\n",
    "plt.title('Validation Accuracy')\n",
    "\n",
    "plt.show()"
   ]
  }
 ],
 "metadata": {
  "kernelspec": {
   "display_name": "Python 3",
   "language": "python",
   "name": "python3"
  },
  "language_info": {
   "codemirror_mode": {
    "name": "ipython",
    "version": 3
   },
   "file_extension": ".py",
   "mimetype": "text/x-python",
   "name": "python",
   "nbconvert_exporter": "python",
   "pygments_lexer": "ipython3",
   "version": "3.6.9"
  }
 },
 "nbformat": 4,
 "nbformat_minor": 2
}
