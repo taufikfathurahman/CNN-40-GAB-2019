{
 "cells": [
  {
   "cell_type": "markdown",
   "metadata": {},
   "source": [
    "# Linear Classification \n",
    "\n",
    "In this exercise you will practice a simple Linear Classification and its multiclass loss, \n",
    "including:\n",
    "* implement simple steps and understand the basic Linear Classification pipeline, \n",
    "* implement Softmax and Multiclass SVM loss"
   ]
  },
  {
   "cell_type": "markdown",
   "metadata": {},
   "source": [
    "---\n",
    "## Simple Dataset\n",
    "\n",
    "We use a simple case with\n",
    "* 4 data `x` of 8 dimension, \n",
    "* 3 class target classification, \n",
    "thus, we have a weight parameter `W` with the size of (8,3) and bias `b` of size (3,)\n",
    "\n",
    "![Linear Classifier](https://image.ibb.co/iCvLL9/01.png)"
   ]
  },
  {
   "cell_type": "code",
   "execution_count": 1,
   "metadata": {},
   "outputs": [],
   "source": [
    "import numpy as np\n",
    "np.set_printoptions(precision=2)"
   ]
  },
  {
   "cell_type": "code",
   "execution_count": 2,
   "metadata": {},
   "outputs": [],
   "source": [
    "def simple_random(size, seed):\n",
    "    np.random.seed(seed)\n",
    "    return np.random.randint(20, size=size)/10-1"
   ]
  },
  {
   "cell_type": "code",
   "execution_count": 3,
   "metadata": {},
   "outputs": [],
   "source": [
    "n_dim = 8\n",
    "n_data = 4\n",
    "n_class = 3"
   ]
  },
  {
   "cell_type": "code",
   "execution_count": 4,
   "metadata": {},
   "outputs": [
    {
     "name": "stdout",
     "output_type": "stream",
     "text": [
      "[[-0.5  0.1  0.2 -0.2 -0.1  0.1 -0.5  0.5]\n",
      " [-1.   0.6 -0.9  0.2 -0.3  0.3 -0.4  0.8]\n",
      " [-0.5  0.8  0.1  0.   0.4  0.8 -0.6 -0.1]\n",
      " [ 0.7 -1.   0.3 -0.1 -0.1 -0.3 -0.9 -1. ]]\n",
      "shape= (4, 8)\n"
     ]
    }
   ],
   "source": [
    "X = simple_random((n_data, n_dim), 1)\n",
    "print(X)\n",
    "print('shape=', X.shape)"
   ]
  },
  {
   "cell_type": "code",
   "execution_count": 5,
   "metadata": {},
   "outputs": [
    {
     "name": "stdout",
     "output_type": "stream",
     "text": [
      "[[-0.2  0.5  0.3 -0.2  0.1  0.8  0.1 -0.2]\n",
      " [-0.3 -0.8  0.7  0.1  0.5 -0.5 -0.3 -0.7]\n",
      " [-0.4 -0.6  0.   0.1  0.9 -0.3 -0.4  0. ]]\n",
      "shape= (3, 8)\n"
     ]
    }
   ],
   "source": [
    "W = simple_random((n_class, n_dim), 2)\n",
    "print(W)\n",
    "print('shape=', W.shape)"
   ]
  },
  {
   "cell_type": "code",
   "execution_count": 6,
   "metadata": {},
   "outputs": [
    {
     "name": "stdout",
     "output_type": "stream",
     "text": [
      "[[ 0. ]\n",
      " [-0.7]\n",
      " [-0.2]]\n",
      "shape= (3, 1)\n"
     ]
    }
   ],
   "source": [
    "np.random.seed(25)\n",
    "b = simple_random((n_class, 1), 3)\n",
    "print(b)\n",
    "print('shape=', b.shape)"
   ]
  },
  {
   "cell_type": "markdown",
   "metadata": {},
   "source": [
    "## Linear Function\n",
    "\n",
    "In many tutorials available on the Internet, you may find that they have different mathematical formulation for the forward (linear) function. \n",
    "\n",
    "But you should know that basically, depending on how you shape the matrices, it's all the same\n",
    "\n",
    "Below is the example from $WX'+b$ formulation. You should notice that using $XW'+b$ formulation should result the same."
   ]
  },
  {
   "cell_type": "code",
   "execution_count": 7,
   "metadata": {},
   "outputs": [
    {
     "name": "stdout",
     "output_type": "stream",
     "text": [
      "scores =\n",
      "[[ 0.17  0.2   1.17 -0.67]\n",
      " [-0.81 -2.23 -1.07  1.16]\n",
      " [ 0.   -0.34 -0.12  0.47]]\n",
      "shape = (3, 4)\n"
     ]
    }
   ],
   "source": [
    "scores1 = W.dot(X.T) + b\n",
    "print('scores =')\n",
    "print(scores1)\n",
    "print('shape =', scores1.shape)"
   ]
  },
  {
   "cell_type": "code",
   "execution_count": 8,
   "metadata": {},
   "outputs": [
    {
     "name": "stdout",
     "output_type": "stream",
     "text": [
      "scores =\n",
      "[[ 0.17  0.2   1.17 -0.67]\n",
      " [-0.81 -2.23 -1.07  1.16]\n",
      " [ 0.   -0.34 -0.12  0.47]]\n",
      "shape = (4, 3)\n"
     ]
    }
   ],
   "source": [
    "scores = X.dot(W.T) + b.T\n",
    "print('scores =')\n",
    "print(scores.T)\n",
    "print('shape =', scores.shape)"
   ]
  },
  {
   "cell_type": "markdown",
   "metadata": {},
   "source": [
    "# Multiclass Loss Function\n",
    "\n",
    "For multiclass classification problem, at the end of the system/network, there should be some activation/scoring function head to determine the classification. Then from the activation, we can calculate the loss/gradient to propagate back to the entire network.\n",
    "\n",
    "There are two popular loss functions for multiclass classification problem:\n",
    "* Softmax Loss or Categorical Cross-entropy Loss\n",
    "* SVM Loss or Hinge Loss\n",
    "\n",
    "Let's say from our previous three inputs, the the targets are as follow"
   ]
  },
  {
   "cell_type": "code",
   "execution_count": 9,
   "metadata": {},
   "outputs": [
    {
     "name": "stdout",
     "output_type": "stream",
     "text": [
      "[[ 0.17 -0.81  0.  ]\n",
      " [ 0.2  -2.23 -0.34]\n",
      " [ 1.17 -1.07 -0.12]\n",
      " [-0.67  1.16  0.47]]\n",
      "\n",
      " target :  [0 1 2 1]\n"
     ]
    }
   ],
   "source": [
    "y = np.array([0, 1, 2, 1])\n",
    "\n",
    "print(scores)\n",
    "print('\\n target : ', y)"
   ]
  },
  {
   "cell_type": "markdown",
   "metadata": {},
   "source": [
    "## Multiclass SVM Loss\n",
    "\n",
    "In Multiclass SVM Loss, there is no Scoring function. So we can go stright calculate its loss.\n",
    "\n",
    "First, get the score on the actual class (target class)"
   ]
  },
  {
   "cell_type": "code",
   "execution_count": 10,
   "metadata": {},
   "outputs": [
    {
     "name": "stdout",
     "output_type": "stream",
     "text": [
      "Score image 0       = [ 0.17 -0.81  0.  ]\n",
      "Score on true class = 0.17000000000000004\n"
     ]
    }
   ],
   "source": [
    "img = 0\n",
    "\n",
    "print('Score image',img,'      =', scores[img])\n",
    "print('Score on true class =',  scores[img, y[img]])"
   ]
  },
  {
   "cell_type": "markdown",
   "metadata": {},
   "source": [
    "Then subtract the current score with the actual class score. For SVM, margin 1 is added to keep the actual class loss positive (=1)"
   ]
  },
  {
   "cell_type": "code",
   "execution_count": 11,
   "metadata": {},
   "outputs": [
    {
     "name": "stdout",
     "output_type": "stream",
     "text": [
      "(score image 0 ) minus (score on true class) = [ 0.   -0.98 -0.17]\n",
      "margin is added by 1                         = [1.   0.02 0.83]\n"
     ]
    }
   ],
   "source": [
    "print('(score image',img,') minus (score on true class) =', scores[img]-scores[img, y[img]])\n",
    "print('margin is added by 1                         =', scores[img]-scores[img, y[img]]+1)"
   ]
  },
  {
   "cell_type": "markdown",
   "metadata": {},
   "source": [
    "Remove the negative loss"
   ]
  },
  {
   "cell_type": "code",
   "execution_count": 12,
   "metadata": {},
   "outputs": [
    {
     "name": "stdout",
     "output_type": "stream",
     "text": [
      "Remove all negative loss 0 = [1.   0.02 0.83]\n"
     ]
    }
   ],
   "source": [
    "margin = scores[img] - scores[img, y[img]] + 1\n",
    "print('Remove all negative loss', img, '=', np.maximum(0, margin))"
   ]
  },
  {
   "cell_type": "markdown",
   "metadata": {},
   "source": [
    "Lastly, sum over all class loss and subtract by 1 for target (from margin)"
   ]
  },
  {
   "cell_type": "code",
   "execution_count": 13,
   "metadata": {},
   "outputs": [
    {
     "name": "stdout",
     "output_type": "stream",
     "text": [
      "Loss of example 0 (Li) is theh sum of it, minus 1 (for target) = 0.8500000000000001\n"
     ]
    }
   ],
   "source": [
    "img = 0\n",
    "\n",
    "margin = scores[img] - scores[img, y[img]] + 1\n",
    "losses_i = np.maximum(0, margin)\n",
    "print('Loss of example', img, '(Li) is theh sum of it, minus 1 (for target) =', np.sum(losses_i) - 1)"
   ]
  },
  {
   "cell_type": "markdown",
   "metadata": {},
   "source": [
    "SVM Loss is the average of loss over all examples (data)"
   ]
  },
  {
   "cell_type": "code",
   "execution_count": 14,
   "metadata": {},
   "outputs": [
    {
     "name": "stdout",
     "output_type": "stream",
     "text": [
      "SVM Loss for data 0 : 0.8500000000000001\n",
      "SVM Loss for data 1 : 6.32\n",
      "SVM Loss for data 2 : 2.3400000000000003\n",
      "SVM Loss for data 3 : 0.31000000000000005\n",
      "\n",
      "Hinge Loss or Multiclass SVM Loss is the average of all example losses\n",
      "SVM Loss (avg) = 2.455\n"
     ]
    }
   ],
   "source": [
    "Loss_svm = []\n",
    "\n",
    "for img in range(n_data):\n",
    "    margin = scores[img] - scores[img, y[img]] + 1\n",
    "    losses_i = np.maximum(0, margin)\n",
    "    L_i = np.sum(losses_i) - 1\n",
    "    print('SVM Loss for data', img, ':', L_i)\n",
    "    Loss_svm.append(L_i)\n",
    "    \n",
    "Loss_svm = np.array(Loss_svm)\n",
    "print('\\nHinge Loss or Multiclass SVM Loss is the average of all example losses')\n",
    "print('SVM Loss (avg) =', np.mean(Loss_svm))"
   ]
  },
  {
   "cell_type": "markdown",
   "metadata": {},
   "source": [
    "---\n",
    "## Softmax Loss\n",
    "In Softmax Loss, there are two steps. First we calculate the score, then the loss. \n",
    "![Softmax Loss](https://image.ibb.co/msQy7p/03.png)"
   ]
  },
  {
   "cell_type": "code",
   "execution_count": 15,
   "metadata": {},
   "outputs": [
    {
     "name": "stdout",
     "output_type": "stream",
     "text": [
      "[[ 0.17 -0.81  0.  ]\n",
      " [ 0.2  -2.23 -0.34]\n",
      " [ 1.17 -1.07 -0.12]\n",
      " [-0.67  1.16  0.47]]\n",
      "Shape = (4, 3)\n"
     ]
    }
   ],
   "source": [
    "print(scores)\n",
    "print('Shape =', scores.shape)"
   ]
  },
  {
   "cell_type": "markdown",
   "metadata": {},
   "source": [
    "### Softmax Score\n",
    "Softmax score will normalize the output into normalized log-probability distribution.\n",
    "\n",
    "First we calculate the exponent of output scores, to get the unnormalized log probability"
   ]
  },
  {
   "cell_type": "code",
   "execution_count": 16,
   "metadata": {},
   "outputs": [
    {
     "name": "stdout",
     "output_type": "stream",
     "text": [
      "[[1.19 0.44 1.  ]\n",
      " [1.22 0.11 0.71]\n",
      " [3.22 0.34 0.89]\n",
      " [0.51 3.19 1.6 ]]\n",
      "Shape = (4, 3)\n"
     ]
    }
   ],
   "source": [
    "e_scores = np.exp(scores)\n",
    "print(e_scores)\n",
    "print('Shape =', e_scores.shape)"
   ]
  },
  {
   "cell_type": "markdown",
   "metadata": {},
   "source": [
    "sum over class"
   ]
  },
  {
   "cell_type": "code",
   "execution_count": 17,
   "metadata": {},
   "outputs": [
    {
     "name": "stdout",
     "output_type": "stream",
     "text": [
      "[[2.63]\n",
      " [2.04]\n",
      " [4.45]\n",
      " [5.3 ]]\n"
     ]
    }
   ],
   "source": [
    "sum_e_score = np.sum(e_scores, axis=1, keepdims=True)\n",
    "print(sum_e_score)"
   ]
  },
  {
   "cell_type": "markdown",
   "metadata": {},
   "source": [
    "Divide the score to get the normalized log probabilities"
   ]
  },
  {
   "cell_type": "code",
   "execution_count": 18,
   "metadata": {},
   "outputs": [
    {
     "name": "stdout",
     "output_type": "stream",
     "text": [
      "[[0.45 0.17 0.38]\n",
      " [0.6  0.05 0.35]\n",
      " [0.72 0.08 0.2 ]\n",
      " [0.1  0.6  0.3 ]]\n"
     ]
    }
   ],
   "source": [
    "norm_log_prob = e_scores/sum_e_score\n",
    "print(norm_log_prob)"
   ]
  },
  {
   "cell_type": "markdown",
   "metadata": {},
   "source": [
    "Note that now, sum over all class for each data is equal to 1. The score now better represents the classification confidence to a class."
   ]
  },
  {
   "cell_type": "code",
   "execution_count": 19,
   "metadata": {},
   "outputs": [
    {
     "name": "stdout",
     "output_type": "stream",
     "text": [
      "probability over all classes on image 0       = [0.45 0.17 0.38]\n",
      "total probability over all classes on image 0 = 1.0\n",
      "this is the softmax score\n"
     ]
    }
   ],
   "source": [
    "img = 0\n",
    "\n",
    "img = 0\n",
    "\n",
    "print('probability over all classes on image', img, '      =', norm_log_prob[img])\n",
    "print('total probability over all classes on image', img, '=', np.sum(norm_log_prob[img]))\n",
    "print('this is the softmax score')"
   ]
  },
  {
   "cell_type": "markdown",
   "metadata": {},
   "source": [
    "### Categorical Crossentropy Loss\n",
    "\n",
    "To calculate the Softmax loss, also called categorical crossentropy, calculate the minus log of the score\n",
    "\n",
    "we can use the base-10 log"
   ]
  },
  {
   "cell_type": "code",
   "execution_count": 20,
   "metadata": {},
   "outputs": [
    {
     "name": "stdout",
     "output_type": "stream",
     "text": [
      "log10 loss\n",
      "[[0.35 0.77 0.42]\n",
      " [0.22 1.28 0.46]\n",
      " [0.14 1.11 0.7 ]\n",
      " [1.02 0.22 0.52]]\n"
     ]
    }
   ],
   "source": [
    "print('log10 loss')\n",
    "loss_i = -np.log10(norm_log_prob)\n",
    "print(loss_i)"
   ]
  },
  {
   "cell_type": "markdown",
   "metadata": {},
   "source": [
    "or use natural log"
   ]
  },
  {
   "cell_type": "code",
   "execution_count": 21,
   "metadata": {},
   "outputs": [
    {
     "name": "stdout",
     "output_type": "stream",
     "text": [
      "natural log loss\n",
      "[[0.8  1.78 0.97]\n",
      " [0.51 2.94 1.05]\n",
      " [0.32 2.56 1.61]\n",
      " [2.34 0.51 1.2 ]]\n"
     ]
    }
   ],
   "source": [
    "loss_i_natural = -np.log(norm_log_prob)\n",
    "print('natural log loss')\n",
    "print(loss_i_natural)"
   ]
  },
  {
   "cell_type": "markdown",
   "metadata": {},
   "source": [
    "Like SVM Loss, Softmax loss is the average of all example (data)"
   ]
  },
  {
   "cell_type": "code",
   "execution_count": 22,
   "metadata": {},
   "outputs": [
    {
     "name": "stdout",
     "output_type": "stream",
     "text": [
      "Softmax Loss for data 0 : 0.3461525884668476\n",
      "Softmax Loss for data 1 : 1.2782561807026984\n",
      "Softmax Loss for data 2 : 0.7006628447549722\n",
      "Softmax Loss for data 3 : 0.22062831145970394\n",
      "\n",
      "Softmax Loss or Categorical Crossentropy Loss is the average of all example losses\n",
      "Softmax Loss (avg) = 0.6364249813460555\n"
     ]
    }
   ],
   "source": [
    "Loss_softmax = []\n",
    "\n",
    "for img in range(n_data):\n",
    "    L_i = loss_i[img, y[img]]\n",
    "    print('Softmax Loss for data', img, ':', L_i)\n",
    "    Loss_softmax.append(L_i)\n",
    "    \n",
    "Loss_softmax = np.array(Loss_softmax)\n",
    "print('\\nSoftmax Loss or Categorical Crossentropy Loss is the average of all example losses')\n",
    "print('Softmax Loss (avg) =', np.mean(Loss_softmax))"
   ]
  },
  {
   "cell_type": "code",
   "execution_count": 23,
   "metadata": {},
   "outputs": [
    {
     "name": "stdout",
     "output_type": "stream",
     "text": [
      "Softmax Loss for data 0 : 0.7970457901050659\n",
      "Softmax Loss for data 1 : 2.943293626713537\n",
      "Softmax Loss for data 2 : 1.6133358215476004\n",
      "Softmax Loss for data 3 : 0.5080154610595616\n",
      "\n",
      "Softmax Loss or Categorical Crossentropy Loss is the average of all example losses\n",
      "Softmax Natural Loss(avg) = 1.4654226748564412\n"
     ]
    }
   ],
   "source": [
    "Loss_natural = []\n",
    "\n",
    "for img in range(n_data):\n",
    "    L_i = loss_i_natural[img,y[img]]\n",
    "    print('Softmax Loss for data',img,':',L_i)\n",
    "    Loss_natural.append(L_i)\n",
    "\n",
    "Loss_natural = np.array(Loss_natural)\n",
    "print('\\nSoftmax Loss or Categorical Crossentropy Loss is the average of all example losses')\n",
    "print('Softmax Natural Loss(avg) =', np.mean(Loss_natural))"
   ]
  },
  {
   "cell_type": "markdown",
   "metadata": {},
   "source": [
    "---\n",
    "# Comparison\n",
    "\n",
    "below is the comparison between 3 Losses"
   ]
  },
  {
   "cell_type": "code",
   "execution_count": 24,
   "metadata": {},
   "outputs": [
    {
     "name": "stdout",
     "output_type": "stream",
     "text": [
      "SVM Loss (avg)  = [0.85 6.32 2.34 0.31] ,loss = 2.455\n",
      "Softmax Loss    = [0.35 1.28 0.7  0.22] ,loss = 0.6364249813460555\n",
      "Softmax Natural = [0.8  2.94 1.61 0.51] ,loss = 1.4654226748564412\n"
     ]
    }
   ],
   "source": [
    "print('SVM Loss (avg)  =', Loss_svm, ',loss =',np.mean(Loss_svm))\n",
    "print('Softmax Loss    =', Loss_softmax, ',loss =',np.mean(Loss_softmax))\n",
    "print('Softmax Natural =', Loss_natural, ',loss =',np.mean(Loss_natural))"
   ]
  },
  {
   "cell_type": "markdown",
   "metadata": {},
   "source": [
    "## Practical Technique: Shift Score to reduce computation workload\n",
    "Calculating exponent from small number is quite expensive\n",
    "\n",
    "shift the raw score by subtracting it with the maximum"
   ]
  },
  {
   "cell_type": "code",
   "execution_count": 25,
   "metadata": {},
   "outputs": [
    {
     "name": "stdout",
     "output_type": "stream",
     "text": [
      "shifted scores\n",
      "[[-1.   -1.98 -1.17]\n",
      " [-0.97 -3.4  -1.51]\n",
      " [ 0.   -2.24 -1.29]\n",
      " [-1.84 -0.01 -0.7 ]]\n"
     ]
    }
   ],
   "source": [
    "shifted_scores = scores - np.max(scores)\n",
    "print('shifted scores')\n",
    "print(shifted_scores)"
   ]
  },
  {
   "cell_type": "code",
   "execution_count": 26,
   "metadata": {},
   "outputs": [
    {
     "name": "stdout",
     "output_type": "stream",
     "text": [
      "unnormalized log probability\n",
      "[[0.37 0.14 0.31]\n",
      " [0.38 0.03 0.22]\n",
      " [1.   0.11 0.28]\n",
      " [0.16 0.99 0.5 ]]\n"
     ]
    }
   ],
   "source": [
    "print('unnormalized log probability')\n",
    "e_shifted_scores = np.exp(shifted_scores)\n",
    "print(e_shifted_scores)"
   ]
  },
  {
   "cell_type": "code",
   "execution_count": 27,
   "metadata": {},
   "outputs": [
    {
     "name": "stdout",
     "output_type": "stream",
     "text": [
      "normalized log probaility\n",
      "[[0.45 0.17 0.38]\n",
      " [0.6  0.05 0.35]\n",
      " [0.72 0.08 0.2 ]\n",
      " [0.1  0.6  0.3 ]]\n"
     ]
    }
   ],
   "source": [
    "print('normalized log probaility')\n",
    "sum_e_shifted_score = np.sum(e_shifted_scores, axis=1, keepdims = True)\n",
    "norm_log_prob_shifted = e_shifted_scores / sum_e_shifted_score\n",
    "print(norm_log_prob_shifted)"
   ]
  },
  {
   "cell_type": "markdown",
   "metadata": {},
   "source": [
    "Difference between vanilla Softmax Loss and shifted Softmax Loss"
   ]
  },
  {
   "cell_type": "code",
   "execution_count": 28,
   "metadata": {},
   "outputs": [
    {
     "name": "stdout",
     "output_type": "stream",
     "text": [
      "Softmax Loss for data 0 : 0.3461525884668477\n",
      "Softmax Loss for data 1 : 1.2782561807026984\n",
      "Softmax Loss for data 2 : 0.7006628447549722\n",
      "Softmax Loss for data 3 : 0.22062831145970394\n"
     ]
    }
   ],
   "source": [
    "loss_i_shifted = -np.log10(norm_log_prob_shifted)\n",
    "\n",
    "Loss_shifted = []\n",
    "\n",
    "for img in range(n_data):\n",
    "    L_i = loss_i_shifted[img,y[img]]\n",
    "    print('Softmax Loss for data',img,':',L_i)\n",
    "    Loss_shifted.append(L_i)\n",
    "    \n",
    "Loss_shifted = np.array(Loss_shifted)"
   ]
  },
  {
   "cell_type": "code",
   "execution_count": 29,
   "metadata": {},
   "outputs": [
    {
     "name": "stdout",
     "output_type": "stream",
     "text": [
      "SVM Loss (avg)  = [0.85 6.32 2.34 0.31] ,loss = 2.455\n",
      "Softmax Loss    = [0.35 1.28 0.7  0.22] ,loss = 0.6364249813460555\n",
      "Softmax Shifted = [0.35 1.28 0.7  0.22] ,loss = 0.6364249813460555\n",
      "Softmax Natural = [0.8  2.94 1.61 0.51] ,loss = 1.4654226748564412\n"
     ]
    }
   ],
   "source": [
    "print('SVM Loss (avg)  =', Loss_svm, ',loss =',np.mean(Loss_svm))\n",
    "print('Softmax Loss    =', Loss_softmax, ',loss =',np.mean(Loss_softmax))\n",
    "print('Softmax Shifted =', Loss_shifted, ',loss =',np.mean(Loss_shifted))\n",
    "print('Softmax Natural =', Loss_natural, ',loss =',np.mean(Loss_natural))"
   ]
  }
 ],
 "metadata": {
  "kernelspec": {
   "display_name": "Python 3",
   "language": "python",
   "name": "python3"
  },
  "language_info": {
   "codemirror_mode": {
    "name": "ipython",
    "version": 3
   },
   "file_extension": ".py",
   "mimetype": "text/x-python",
   "name": "python",
   "nbconvert_exporter": "python",
   "pygments_lexer": "ipython3",
   "version": "3.7.3"
  }
 },
 "nbformat": 4,
 "nbformat_minor": 2
}
